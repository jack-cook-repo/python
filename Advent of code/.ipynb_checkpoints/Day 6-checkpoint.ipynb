{
 "cells": [
  {
   "cell_type": "code",
   "execution_count": 12,
   "metadata": {},
   "outputs": [
    {
     "data": {
      "text/plain": [
       "['ybcgtxznorvjel',\n",
       " 'brlyvoexnjtgcz',\n",
       " 'lnbgtxvoiyecjrz',\n",
       " '',\n",
       " 'lcajnyxgzqwim',\n",
       " 'qznygxmlvwja',\n",
       " 'gmjzynxaqwls',\n",
       " '',\n",
       " 'cmljinrupeykatzdsfox',\n",
       " 'ugwqhknvb',\n",
       " '',\n",
       " 'gsdqbrnhotmfwivl',\n",
       " 'prozsgfwnthvmiq',\n",
       " '']"
      ]
     },
     "execution_count": 12,
     "metadata": {},
     "output_type": "execute_result"
    }
   ],
   "source": [
    "with open('day6_inputs.txt') as f:\n",
    "    content = f.readlines()\n",
    "    \n",
    "content = [x.strip() for x in content] \n",
    "content[:14]"
   ]
  },
  {
   "cell_type": "code",
   "execution_count": 9,
   "metadata": {},
   "outputs": [],
   "source": [
    "unique_answers_group = []\n",
    "all_unique_answers = []\n",
    "\n",
    "for i in range(len(content)):\n",
    "    \n",
    "    ans = content[i]\n",
    "    \n",
    "    if len(ans) == 0:\n",
    "        all_unique_answers.append(sorted(unique_answers_group))\n",
    "        unique_answers_group = []\n",
    "    else:\n",
    "        # Get unique letters\n",
    "        unique_answers = set(ans)\n",
    "        \n",
    "        # Loop through unique answers, append to group's letters if it isn't in there already\n",
    "        for a in unique_answers:\n",
    "            if a not in unique_answers_group:\n",
    "                unique_answers_group.append(a)\n",
    "        \n",
    "        if i == len(content)-1:\n",
    "            all_unique_answers.append(sorted(unique_answers_group))\n",
    "     \n",
    "        "
   ]
  },
  {
   "cell_type": "code",
   "execution_count": 15,
   "metadata": {},
   "outputs": [
    {
     "data": {
      "text/plain": [
       "6430"
      ]
     },
     "execution_count": 15,
     "metadata": {},
     "output_type": "execute_result"
    }
   ],
   "source": [
    "t = 0\n",
    "for s in all_unique_answers:\n",
    "    t+= len(s)\n",
    "t"
   ]
  }
 ],
 "metadata": {
  "kernelspec": {
   "display_name": "Python 3",
   "language": "python",
   "name": "python3"
  },
  "language_info": {
   "codemirror_mode": {
    "name": "ipython",
    "version": 3
   },
   "file_extension": ".py",
   "mimetype": "text/x-python",
   "name": "python",
   "nbconvert_exporter": "python",
   "pygments_lexer": "ipython3",
   "version": "3.7.6"
  }
 },
 "nbformat": 4,
 "nbformat_minor": 4
}
