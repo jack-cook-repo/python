{
 "cells": [
  {
   "cell_type": "code",
   "execution_count": 7,
   "metadata": {},
   "outputs": [
    {
     "data": {
      "text/plain": [
       "[38, 18, 28, 41, 37, 17, 24, 45, 50, 35, 9, 30, 11, 8, 40]"
      ]
     },
     "execution_count": 7,
     "metadata": {},
     "output_type": "execute_result"
    }
   ],
   "source": [
    "# Open file and parse contents\n",
    "file = open('day9_inputs.txt')\n",
    "content = [int(line.strip()) for line in file]\n",
    "content[:15]"
   ]
  },
  {
   "cell_type": "markdown",
   "metadata": {},
   "source": [
    "For this list of numbers, the first 25 numbers do not need to be validated.\n",
    "\n",
    "For the 26th number onwards, each number must be the sum of two **different** numbers from the preceding 25."
   ]
  },
  {
   "cell_type": "markdown",
   "metadata": {},
   "source": [
    "#### Part 1"
   ]
  },
  {
   "cell_type": "markdown",
   "metadata": {},
   "source": [
    "Find the first number where it is not the sum of 2 different numbers from the preceding 25, starting from the 26th number."
   ]
  },
  {
   "cell_type": "code",
   "execution_count": 24,
   "metadata": {
    "scrolled": true
   },
   "outputs": [
    {
     "name": "stdout",
     "output_type": "stream",
     "text": [
      "Check failed on value: 22406676, position 508,\n",
      "Check list: [14525726, 15601502, 14070200, 14528369, 19752759, 19532842, 15649810, 16546299, 20550990, 22870738, 18444565, 20021183, 21329508, 21639267, 21859315, 31251312, 26488990, 26926271, 26988400, 23703608, 25347129, 25833214, 26322485, 44200246, 53248756]\n"
     ]
    }
   ],
   "source": [
    "import itertools\n",
    "\n",
    "# From 26th number to the end\n",
    "for i in range(25,len(content)):\n",
    "    \n",
    "    # Get 25 preceding numbers\n",
    "    check_list = content[i-25:i]\n",
    "    check_value = content[i]\n",
    "    check_passed = False\n",
    "    \n",
    "    # Loop through all unique pairs, updating check_passed if total is equal to check_value\n",
    "    for combo in itertools.product(check_list, check_list):\n",
    "        if (combo[0] != combo[1]) and (combo[0] + combo[1] == check_value):\n",
    "            check_passed = True\n",
    "    \n",
    "    if check_passed == False:\n",
    "        index_invalid_value = i\n",
    "        print('Check failed on value: {}, position {},\\nCheck list: {}'.format(check_value, index_invalid_value, check_list))\n",
    "        break"
   ]
  },
  {
   "cell_type": "markdown",
   "metadata": {},
   "source": [
    "#### Part 2"
   ]
  },
  {
   "cell_type": "markdown",
   "metadata": {},
   "source": [
    "For the invalid check_value above, find the contiguous (all numbers are next to each other) sequence from all preceding values which **does** sum to our invalid check_value."
   ]
  },
  {
   "cell_type": "code",
   "execution_count": 29,
   "metadata": {},
   "outputs": [
    {
     "data": {
      "text/plain": [
       "22406676"
      ]
     },
     "execution_count": 29,
     "metadata": {},
     "output_type": "execute_result"
    }
   ],
   "source": [
    "check_value"
   ]
  },
  {
   "cell_type": "code",
   "execution_count": 63,
   "metadata": {},
   "outputs": [
    {
     "name": "stdout",
     "output_type": "stream",
     "text": [
      "Total reached, list from positions 393 to 410 sums to 22406676\n",
      "n_min 931988, n_max 2010399, sum 2942387\n"
     ]
    }
   ],
   "source": [
    "for i in range(len(content)):\n",
    "    \n",
    "    if i==index_invalid_value or content[i] > check_value:\n",
    "        continue\n",
    "    \n",
    "    contiguous_total = 0\n",
    "    list_length = 1\n",
    "    \n",
    "    while contiguous_total < check_value:\n",
    "        list_length+=1\n",
    "        contiguous_total = 0\n",
    "        sub_list = content[i:i+list_length]\n",
    "        for n in sub_list:\n",
    "            contiguous_total+=n\n",
    "    \n",
    "    if contiguous_total == check_value:\n",
    "        print('Total reached, list from positions {} to {} sums to {}'.format(i,\n",
    "                                                                              i+list_length,\n",
    "                                                                              check_value))\n",
    "        break\n",
    "              \n",
    "n_min = content[i]\n",
    "n_max = content[i]\n",
    "for n in content[i+1: i+list_length]:\n",
    "    if n < n_min:\n",
    "        n_min = n\n",
    "    if n > n_max:\n",
    "        n_max = n\n",
    "\n",
    "print('n_min {}, n_max {}, sum {}'.format(n_min, n_max, n_min+n_max))"
   ]
  }
 ],
 "metadata": {
  "kernelspec": {
   "display_name": "Python 3",
   "language": "python",
   "name": "python3"
  },
  "language_info": {
   "codemirror_mode": {
    "name": "ipython",
    "version": 3
   },
   "file_extension": ".py",
   "mimetype": "text/x-python",
   "name": "python",
   "nbconvert_exporter": "python",
   "pygments_lexer": "ipython3",
   "version": "3.8.6"
  }
 },
 "nbformat": 4,
 "nbformat_minor": 4
}
