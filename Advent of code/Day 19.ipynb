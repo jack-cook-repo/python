{
 "cells": [
  {
   "cell_type": "code",
   "execution_count": 68,
   "metadata": {
    "scrolled": true
   },
   "outputs": [
    {
     "name": "stdout",
     "output_type": "stream",
     "text": [
      "0: 1 2\n",
      "1: \"a\"\n",
      "2: 1 3 | 3 1\n",
      "3: \"b\"\n",
      "\n",
      "aba\n",
      "abb\n",
      "aab\n"
     ]
    }
   ],
   "source": [
    "with open('day19_inputs.txt') as f:\n",
    "    content = [l.strip('\\n') for l in f]\n",
    "\n",
    "for l in content:\n",
    "    print(l)"
   ]
  },
  {
   "cell_type": "markdown",
   "metadata": {},
   "source": [
    "### Part 1 "
   ]
  },
  {
   "cell_type": "markdown",
   "metadata": {},
   "source": [
    "Input is in 2 parts, rules (top) and messages to validate (bottom). Task is to return the number of messages that pass rule 0.\n",
    "\n",
    "Rules apply in one of 3 ways:\n",
    "1. Apply rules in designated order: e.g. 0: 4 1 5 means to pass rule 0, rules 4, 1, **then** 5 must be passed in order\n",
    "2. Apple rules in _either_ designated order: e.g. 1: 2 3 | 3 2 means to pass rule 1, rules 2 then 3 **or** 3 then 2 must be passed\n",
    "3. Match a letter: e.g. 5: \"b\" means that to pass rule 5, the message must contain b\n",
    "\n",
    "Given this set of example rules\n",
    "- 0: 1 2\n",
    "- 1: \"a\"\n",
    "- 2: 1 3 | 3 1\n",
    "- 3: \"b\"\n",
    "\n",
    "Rule 0 is passed by applying rule 1 _then_ rule 2, which means the message must start with \"a\" then pass rule 2. Rule 2 states that 1 then 3 or 3 then 1 is a valid pass - \"ab\" or \"ba\".\n",
    "\n",
    "In all, this means that rule 1 then rule 2 applied in order means that \"aab\" or \"aba\" are valid."
   ]
  },
  {
   "cell_type": "code",
   "execution_count": 69,
   "metadata": {},
   "outputs": [
    {
     "name": "stdout",
     "output_type": "stream",
     "text": [
      "0: 1 2\n",
      "1: \"a\"\n",
      "2: 1 3 | 3 1\n",
      "3: \"b\"\n",
      "\n",
      "aba\n",
      "abb\n",
      "aab\n"
     ]
    }
   ],
   "source": [
    "import re\n",
    "\n",
    "rules = []\n",
    "messages = []\n",
    "for l in content:\n",
    "    print(l)\n",
    "    rules.append(l) if re.match('[0-9]',l) is not None else messages.append(l)"
   ]
  },
  {
   "cell_type": "code",
   "execution_count": 79,
   "metadata": {},
   "outputs": [
    {
     "name": "stdout",
     "output_type": "stream",
     "text": [
      "0 : ['1', '2']\n",
      "1 : ['a']\n",
      "2 : [['1', '3'], ['3', '1']]\n",
      "3 : ['b']\n"
     ]
    }
   ],
   "source": [
    "import re\n",
    "# First step is to parse rules\n",
    "\n",
    "dict_rules = {}\n",
    "\n",
    "for r in rules:\n",
    "    key, sub_rules = r.replace('\"','').split(': ')\n",
    "    if sub_rules.count('|') > 0:\n",
    "        sub_rules = sub_rules.split(' | ')\n",
    "        sub_rules = [s.split(' ') for s in sub_rules]\n",
    "    else:\n",
    "        sub_rules = sub_rules.split(' ')\n",
    "    \n",
    "    dict_rules[int(key)] = sub_rules\n",
    "\n",
    "for key in dict_rules:\n",
    "    print(key,':',dict_rules[key])"
   ]
  },
  {
   "cell_type": "markdown",
   "metadata": {},
   "source": [
    "- If dict result is single letter, append to result\n",
    "- If dict result is list on single keys, loop through and append\n",
    "- If dict result is list of lists, duplicate results then loop through those keys"
   ]
  },
  {
   "cell_type": "markdown",
   "metadata": {},
   "source": [
    "a\n",
    "a(13, 31)\n",
    "a(ab) a(ba)"
   ]
  },
  {
   "cell_type": "code",
   "execution_count": 95,
   "metadata": {},
   "outputs": [
    {
     "name": "stdout",
     "output_type": "stream",
     "text": [
      "start recursion, key(s) [0]\n",
      "start recursion, key(s) 1\n",
      "end recursion: new sub rules ['a']\n",
      "start recursion, key(s) 2\n",
      "start recursion, key(s) ['1', '3']\n",
      "non list 1\n",
      "start recursion, key(s) 1\n",
      "end recursion: new sub rules ['a']\n",
      "start recursion, key(s) 3\n",
      "end recursion: new sub rules ['b']\n",
      "end recursion: new sub rules []\n",
      "start recursion, key(s) ['3', '1']\n",
      "non list 3\n",
      "start recursion, key(s) 3\n",
      "end recursion: new sub rules ['b']\n",
      "start recursion, key(s) 1\n",
      "end recursion: new sub rules ['a']\n",
      "end recursion: new sub rules []\n",
      "end recursion: new sub rules []\n",
      "end recursion: new sub rules []\n"
     ]
    },
    {
     "data": {
      "text/plain": [
       "[]"
      ]
     },
     "execution_count": 95,
     "metadata": {},
     "output_type": "execute_result"
    }
   ],
   "source": [
    "\n",
    "def dict_search(keys, dict_to_search, new_sub_rules=None):\n",
    "    print(f'start recursion, key(s) {keys}')\n",
    "    \n",
    "    if new_sub_rules is None:\n",
    "        new_sub_rules = []\n",
    "    \n",
    "    # Case 1, single key to search\n",
    "    if len(keys) == 1:\n",
    "        key = keys[0]\n",
    "        if is_letter(key):\n",
    "            new_sub_rules.append(key)\n",
    "        # If key is number, search for results\n",
    "        else:\n",
    "            results = dict_to_search[int(key)]\n",
    "            # If result of this search is a single letter, append to results\n",
    "            if len(results) == 1 and is_letter(results[0]):\n",
    "                new_sub_rules.append(results[0])\n",
    "            # Otherwise, start process once more\n",
    "            else:\n",
    "                for r in results:\n",
    "                    dict_search(r, dict_to_search)\n",
    "        \n",
    "    # Case 2, multiple keys\n",
    "    else:\n",
    "        if not isinstance(keys[0], list):\n",
    "            print('non list', keys[0])\n",
    "            for key in keys:\n",
    "                dict_search(key, dict_to_search)\n",
    "        # More complex for lists\n",
    "        else:\n",
    "            pass\n",
    "#             new_sub_rules = [new_sub_rules]*2\n",
    "#             key1, key2 = key\n",
    "#             for key in key1:\n",
    "#                 dict_search(key, dict_to_search)\n",
    "#             for key in key2:\n",
    "#                 dict_search(key, dict_to_search)\n",
    "#             result2.extend(replicate_recur(times - 1, data))\n",
    "        \n",
    "    \n",
    "    print(f'end recursion: new sub rules {new_sub_rules}')\n",
    "    return new_sub_rules\n",
    "\n",
    "dict_search([0], dict_rules)"
   ]
  },
  {
   "cell_type": "code",
   "execution_count": 90,
   "metadata": {},
   "outputs": [
    {
     "data": {
      "text/plain": [
       "[0, 1, 0, 1]"
      ]
     },
     "execution_count": 90,
     "metadata": {},
     "output_type": "execute_result"
    }
   ],
   "source": [
    "l1 = [0,1]\n",
    "l1.extend(l1)\n",
    "l1"
   ]
  },
  {
   "cell_type": "code",
   "execution_count": 58,
   "metadata": {
    "scrolled": true
   },
   "outputs": [
    {
     "name": "stdout",
     "output_type": "stream",
     "text": [
      "start recursion, key(s) [0]\n",
      "['1', '2']\n",
      "start recursion, key(s) 1\n",
      "['a']\n",
      "end recursion: new sub rules ['a']\n",
      "start recursion, key(s) 2\n",
      "[['1', '3'], ['3', '1']]\n",
      "start recursion, key(s) 1\n",
      "['a']\n",
      "end recursion: new sub rules ['aa', 'aa']\n",
      "start recursion, key(s) 3\n",
      "['b']\n",
      "end recursion: new sub rules ['aab', 'aab']\n",
      "start recursion, key(s) 3\n",
      "['b']\n",
      "end recursion: new sub rules ['aabb', 'aabb', 'aabb', 'aabb']\n",
      "start recursion, key(s) 1\n",
      "['a']\n",
      "end recursion: new sub rules ['aabba', 'aabba', 'aabba', 'aabba']\n",
      "end recursion: new sub rules ['aabba', 'aabba', 'aabba', 'aabba']\n",
      "end recursion: new sub rules ['aabba', 'aabba', 'aabba', 'aabba']\n"
     ]
    }
   ],
   "source": [
    "def is_letter(string):\n",
    "    try:\n",
    "        return re.match('[a-z]',string) is not None\n",
    "    except:\n",
    "        return False\n",
    "    \n",
    "new_sub_rules = ['']\n",
    "def dict_search(keys, dict_to_search):\n",
    "    print(f'start recursion, key(s) {keys}')\n",
    "    \n",
    "    # For cases where we have multiple keys to search, recurse\n",
    "    if len(keys) > 1:\n",
    "        for key in keys:\n",
    "            dict_search(key, dict_to_search)\n",
    "    else:\n",
    "        key = keys[0]\n",
    "        if is_letter(key):\n",
    "            for i in range(len(new_sub_rules)):\n",
    "                new_sub_rules[i] += key\n",
    "        else:\n",
    "            rules_result = dict_to_search[int(key)]\n",
    "            print(rules_result)\n",
    "    \n",
    "            # If all results are single letters, join into single string\n",
    "            if all([is_letter(r) for r in rules_result]):\n",
    "                for i in range(len(new_sub_rules)):\n",
    "                    new_sub_rules[i] += ''.join(rules_result)\n",
    "            else:\n",
    "                for r in rules_result:\n",
    "                    if is_letter(r):\n",
    "                        for i in range(len(new_sub_rules)):\n",
    "                            new_sub_rules[i] += r\n",
    "                    elif len(r) > 1:\n",
    "                        new_sub_rules.extend(new_sub_rules)\n",
    "                        for sub_r in r:\n",
    "                            dict_search(sub_r, dict_to_search)\n",
    "                    else:\n",
    "                        dict_search(r, dict_to_search)\n",
    "                \n",
    "    \n",
    "    print(f'end recursion: new sub rules {new_sub_rules}')\n",
    "\n",
    "dict_search([0], dict_rules)"
   ]
  },
  {
   "cell_type": "code",
   "execution_count": null,
   "metadata": {},
   "outputs": [],
   "source": [
    "['aab','aba']"
   ]
  }
 ],
 "metadata": {
  "kernelspec": {
   "display_name": "Python 3",
   "language": "python",
   "name": "python3"
  },
  "language_info": {
   "codemirror_mode": {
    "name": "ipython",
    "version": 3
   },
   "file_extension": ".py",
   "mimetype": "text/x-python",
   "name": "python",
   "nbconvert_exporter": "python",
   "pygments_lexer": "ipython3",
   "version": "3.7.6"
  }
 },
 "nbformat": 4,
 "nbformat_minor": 4
}
