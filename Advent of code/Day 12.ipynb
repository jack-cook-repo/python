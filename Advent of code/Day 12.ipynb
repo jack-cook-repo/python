{
 "cells": [
  {
   "cell_type": "code",
   "execution_count": 15,
   "metadata": {
    "scrolled": true
   },
   "outputs": [
    {
     "data": {
      "text/plain": [
       "[('R', 90),\n",
       " ('S', 1),\n",
       " ('R', 90),\n",
       " ('W', 2),\n",
       " ('S', 3),\n",
       " ('L', 270),\n",
       " ('L', 90),\n",
       " ('S', 2),\n",
       " ('F', 2),\n",
       " ('L', 90)]"
      ]
     },
     "execution_count": 15,
     "metadata": {},
     "output_type": "execute_result"
    }
   ],
   "source": [
    "# Open file and parse contents\n",
    "file = open('day12_inputs.txt')\n",
    "content = [line.strip() for line in file]\n",
    "\n",
    "content = [(c[0], int(c[1:])) for c in content]\n",
    "content[:10]"
   ]
  },
  {
   "cell_type": "markdown",
   "metadata": {},
   "source": [
    "### Part 1"
   ]
  },
  {
   "cell_type": "markdown",
   "metadata": {},
   "source": [
    "The inputs are a list of instructions on how to move a ship.\n",
    "\n",
    "Each instruction contains an action, followed by a value. The actions are:\n",
    "- N means to move north by the given value.\n",
    "- S means to move south by the given value.\n",
    "- E means to move east by the given value.\n",
    "- W means to move west by the given value.\n",
    "- L means to turn left the given number of degrees.\n",
    "- R means to turn right the given number of degrees.\n",
    "- F means to move forward by the given value in the direction the ship is currently facing."
   ]
  },
  {
   "cell_type": "markdown",
   "metadata": {},
   "source": [
    "Follow the instructions, then return the Manhattan distance (absolute value of E/W co-ordinate + absolute value of N/S co-ordinate) relative to it's start point."
   ]
  },
  {
   "cell_type": "code",
   "execution_count": 20,
   "metadata": {},
   "outputs": [],
   "source": [
    "dict_directions = {0:'N',\n",
    "                   90:'E',\n",
    "                   180:'S',\n",
    "                   270:'W'}\n",
    "\n",
    "class Ship:\n",
    "    \n",
    "    def __init__(self):\n",
    "        self.y_coord = 0 # North / South co-ordinate\n",
    "        self.x_coord = 0 # East / West co-ordinate\n",
    "        self.degrees = 90\n",
    "        self.direction = dict_directions[self.degrees]\n",
    "    \n",
    "    \n",
    "    def rotate(self, rotation_direction, degrees):\n",
    "        \n",
    "        # Check validity\n",
    "        if degrees not in [90, 180, 270]:\n",
    "            raise ValueError('rotation degrees not multiple of 90')\n",
    "        \n",
    "        # Get rotation degrees\n",
    "        clockwise_degrees = -degrees if rotation_direction == 'L' else degrees\n",
    "        \n",
    "        # Rotate\n",
    "        new_degrees = self.degrees + clockwise_degrees\n",
    "        if new_degrees >= 360:\n",
    "            new_degrees -= 360\n",
    "        if new_degrees < 0:\n",
    "            new_degrees += 360\n",
    "        \n",
    "        # Reassign\n",
    "        self.degrees = new_degrees\n",
    "        self.direction = dict_directions[self.degrees]\n",
    "    \n",
    "    \n",
    "    def move(self, movement_direction, spaces):\n",
    "        \n",
    "        # Move N/S/E/W if directly specified, or infer direction if F specified\n",
    "        compass_direction = self.direction if movement_direction == 'F' else movement_direction\n",
    "        \n",
    "        if compass_direction not in ['N','E','S','W']:\n",
    "            raise ValueError('Invalid compass_direction')\n",
    "        elif compass_direction == 'N':\n",
    "            self.y_coord += spaces\n",
    "        elif compass_direction == 'E':\n",
    "            self.x_coord += spaces\n",
    "        elif compass_direction == 'S':\n",
    "            self.y_coord -= spaces\n",
    "        else:\n",
    "            self.x_coord -= spaces\n",
    "        \n",
    "    def get_manhattan_distance(self):\n",
    "        \n",
    "        mh_dist = abs(self.x_coord) + abs(self.y_coord)\n",
    "        print('Direction {}, x coord {}, y coord {}, MH distance {}'.format(self.direction,\n",
    "                                                                         self.x_coord,\n",
    "                                                                         self.y_coord,\n",
    "                                                                         mh_dist))"
   ]
  },
  {
   "cell_type": "code",
   "execution_count": 21,
   "metadata": {},
   "outputs": [
    {
     "name": "stdout",
     "output_type": "stream",
     "text": [
      "Direction W, x coord 700, y coord -1256, MH distance 1956\n"
     ]
    }
   ],
   "source": [
    "MyShip = Ship()\n",
    "\n",
    "for action, num in content:\n",
    "    \n",
    "    if action in ['R','L']:\n",
    "        MyShip.rotate(action,num)\n",
    "    else:\n",
    "        MyShip.move(action,num)\n",
    "\n",
    "MyShip.get_manhattan_distance()"
   ]
  },
  {
   "cell_type": "markdown",
   "metadata": {},
   "source": [
    "### Part 2"
   ]
  },
  {
   "cell_type": "markdown",
   "metadata": {},
   "source": [
    "New instructions\n",
    "\n",
    "- Action N means to move the waypoint north by the given value.\n",
    "- Action S means to move the waypoint south by the given value.\n",
    "- Action E means to move the waypoint east by the given value.\n",
    "- Action W means to move the waypoint west by the given value.\n",
    "- Action L means to rotate the waypoint around the ship left (counter-clockwise) the given number of degrees.\n",
    "- Action R means to rotate the waypoint around the ship right (clockwise) the given number of degrees.\n",
    "- Action F means to move forward to the waypoint a number of times equal to the given value.\n",
    "\n",
    "The waypoint starts 10 units east and 1 unit north relative to the ship. The waypoint is relative to the ship; that is, if the ship moves, the waypoint moves with it."
   ]
  },
  {
   "cell_type": "code",
   "execution_count": 34,
   "metadata": {},
   "outputs": [],
   "source": [
    "class BetterShip:\n",
    "    \n",
    "    def __init__(self):\n",
    "        self.y_coord = 0 # North / South co-ordinate\n",
    "        self.x_coord = 0 # East / West co-ordinate\n",
    "        self.waypoint_relative_x = 10\n",
    "        self.waypoint_relative_y = 1\n",
    "    \n",
    "    \n",
    "    def rotate_waypoint(self, rotation_direction, degrees):\n",
    "        \n",
    "        # Check validity\n",
    "        if degrees not in [90, 180, 270]:\n",
    "            raise ValueError('rotation degrees not multiple of 90')\n",
    "        \n",
    "        # Get quarters rotated by\n",
    "        clockwise_quarter_rotations = int((360-degrees)/90 if rotation_direction == 'L' else degrees/90)\n",
    "        \n",
    "        old_relative_x = self.waypoint_relative_x\n",
    "        old_relative_y = self.waypoint_relative_y\n",
    "        \n",
    "        # Set new relative waypoint co-ordinates based on rotation\n",
    "        if clockwise_quarter_rotations == 1:\n",
    "            # eg. from (10, 4) 1 quarter clockwise to (4, -10)\n",
    "            self.waypoint_relative_x = old_relative_y\n",
    "            self.waypoint_relative_y = -old_relative_x\n",
    "        elif clockwise_quarter_rotations == 2:\n",
    "            # eg. from (10, 4) 2 quarter clockwise to (-10, -4)\n",
    "            self.waypoint_relative_x = -old_relative_x\n",
    "            self.waypoint_relative_y = -old_relative_y\n",
    "        elif clockwise_quarter_rotations == 3:\n",
    "            # eg. from (10, 4) 3 quarter clockwise to (-4, 10)\n",
    "            self.waypoint_relative_x = -old_relative_y\n",
    "            self.waypoint_relative_y = old_relative_x\n",
    "        else:\n",
    "            print(rotation_direction, degrees, clockwise_quarter_rotations)\n",
    "            raise ValueError('clockwise_quarter_rotations not between 1 and 3')\n",
    "    \n",
    "    \n",
    "    def move_waypoint(self, compass_direction, spaces):\n",
    "        \n",
    "        if compass_direction not in ['N','E','S','W']:\n",
    "            raise ValueError('Invalid compass_direction')\n",
    "        elif compass_direction == 'N':\n",
    "            self.waypoint_relative_y += spaces\n",
    "        elif compass_direction == 'E':\n",
    "            self.waypoint_relative_x += spaces\n",
    "        elif compass_direction == 'S':\n",
    "            self.waypoint_relative_y -= spaces\n",
    "        else:\n",
    "            self.waypoint_relative_x -= spaces\n",
    "     \n",
    "    \n",
    "    def move_ship(self, spaces):\n",
    "        \n",
    "        self.x_coord += self.waypoint_relative_x * spaces\n",
    "        self.y_coord += self.waypoint_relative_y * spaces\n",
    "    \n",
    "    \n",
    "    def get_manhattan_distance(self):\n",
    "        \n",
    "        mh_dist = abs(self.x_coord) + abs(self.y_coord)\n",
    "        print('x coord {}, y coord {}, MH distance {}'.format(self.x_coord,\n",
    "                                                              self.y_coord,\n",
    "                                                              mh_dist))"
   ]
  },
  {
   "cell_type": "code",
   "execution_count": 35,
   "metadata": {},
   "outputs": [
    {
     "name": "stdout",
     "output_type": "stream",
     "text": [
      "x coord 91964, y coord -34833, MH distance 126797\n"
     ]
    }
   ],
   "source": [
    "MyBetterShip = BetterShip()\n",
    "\n",
    "for action, num in content:\n",
    "    \n",
    "    if action in ['R','L']:\n",
    "        MyBetterShip.rotate_waypoint(action,num)\n",
    "    elif action == 'F':\n",
    "        MyBetterShip.move_ship(num)\n",
    "    else:\n",
    "        MyBetterShip.move_waypoint(action,num)\n",
    "\n",
    "MyBetterShip.get_manhattan_distance()"
   ]
  }
 ],
 "metadata": {
  "kernelspec": {
   "display_name": "Python 3",
   "language": "python",
   "name": "python3"
  },
  "language_info": {
   "codemirror_mode": {
    "name": "ipython",
    "version": 3
   },
   "file_extension": ".py",
   "mimetype": "text/x-python",
   "name": "python",
   "nbconvert_exporter": "python",
   "pygments_lexer": "ipython3",
   "version": "3.7.6"
  }
 },
 "nbformat": 4,
 "nbformat_minor": 4
}
