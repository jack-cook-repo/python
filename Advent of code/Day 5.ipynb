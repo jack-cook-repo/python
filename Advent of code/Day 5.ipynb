{
 "cells": [
  {
   "cell_type": "code",
   "execution_count": 1,
   "metadata": {},
   "outputs": [
    {
     "data": {
      "text/plain": [
       "['FFBFFFBLLL', 'BFBFBBFRLR', 'FFFBFFBLLL', 'FFBFBBBRRL', 'BFFFBBFLRR']"
      ]
     },
     "execution_count": 1,
     "metadata": {},
     "output_type": "execute_result"
    }
   ],
   "source": [
    "with open('day5_inputs.txt') as f:\n",
    "    content = f.readlines()\n",
    "    \n",
    "content = [x.strip() for x in content] \n",
    "content[:5]"
   ]
  },
  {
   "cell_type": "markdown",
   "metadata": {},
   "source": [
    "The first 7 letters refer to a binary space partitioning for the 128 rows on the plane, F means first half, B means rear half.\n",
    "\n",
    "The final 3 letters refer to a binary space partitioning of the 8 seats within a row, L means lower (first) half, R means upper half.\n",
    "\n",
    "e.g. FBFBBFFRLR:\n",
    "\n",
    "- F: rows 0-63.\n",
    "- B: rows 32-63.\n",
    "- F: rows 32-47\n",
    "- B: rows 40-47\n",
    "- B: rows 44-47\n",
    "- F: rows 44-45\n",
    "- F: row 44.\n",
    "- R: row 44 seats 4-7\n",
    "- L: row 44 seats 4-5\n",
    "- R: row 44 seat 5\n",
    "\n",
    "The seat ID is then the multiple of the row by 8, and adding the column. In this example the ID is 44 * 8 + 5 =357."
   ]
  },
  {
   "cell_type": "code",
   "execution_count": 20,
   "metadata": {},
   "outputs": [
    {
     "name": "stdout",
     "output_type": "stream",
     "text": [
      "New highest ID: FFBFFFBLLL 136\n",
      "New highest ID: BFBFBBFRLR 693\n",
      "New highest ID: BBFFBFBLRL 810\n",
      "New highest ID: BBFBFBBLLL 856\n",
      "New highest ID: BBFBFBBRLR 861\n",
      "New highest ID: BBFBBFFRLL 868\n",
      "New highest ID: BBFBBFFRLR 869\n",
      "New highest ID: BBFBBFFRRL 870\n",
      "New highest ID: BBFBBFBRRL 878\n",
      "New highest ID: BBFBBBFLLL 880\n"
     ]
    }
   ],
   "source": [
    "# Part 1, finding highest seat ID\n",
    "\n",
    "def binary_partition(ids, id_start, id_end):\n",
    "# Given a string of a row/column identifier, return the row/column number\n",
    "    \n",
    "    for i in ids:\n",
    "        # Get distance between start/end\n",
    "        delta = id_end-id_start\n",
    "        \n",
    "        # Check whether to take first or second half of partition\n",
    "        if i in ['F','L']:\n",
    "            id_end -= int((delta+1)/2)\n",
    "        else:\n",
    "            id_start += int((delta+1)/2)\n",
    "        \n",
    "    if id_start == id_end:\n",
    "        return id_start\n",
    "    else:\n",
    "        raise ValueError('Sort finished without converging {}'.format(ids))\n",
    "\n",
    "def get_seat_id(boarding_pass):\n",
    "# Takes a boarding pass and returns the seat ID    \n",
    "    \n",
    "    # Check validity\n",
    "    if len(boarding_pass) != 10:\n",
    "        raise ValueError('Incorrect boarding pass format {}'.format(boarding_pass))\n",
    "    \n",
    "    # Get relevant parts of boarding pass\n",
    "    row_id = boarding_pass[:7]\n",
    "    column_id = boarding_pass[7:]\n",
    "    \n",
    "    # Get row & column\n",
    "    row = binary_partition(row_id, 0, 127)\n",
    "    column = binary_partition(column_id, 0, 7)\n",
    "    \n",
    "    return row*8 + column\n",
    "\n",
    "\n",
    "max_seat_id = 0\n",
    "\n",
    "for boarding_pass in content:\n",
    "    seat_id = get_seat_id(boarding_pass)\n",
    "    if seat_id > max_seat_id:\n",
    "        print('New highest ID: {} {}'.format(boarding_pass, seat_id))\n",
    "        max_seat_id = seat_id"
   ]
  },
  {
   "cell_type": "markdown",
   "metadata": {},
   "source": [
    " "
   ]
  },
  {
   "cell_type": "code",
   "execution_count": 25,
   "metadata": {},
   "outputs": [
    {
     "name": "stdout",
     "output_type": "stream",
     "text": [
      "731\n"
     ]
    }
   ],
   "source": [
    "# Part 2, find your seat\n",
    "# Your seat is the only one that has a missing ID that has an existing ID both +1 and -1 from it\n",
    "# i.e. it's not one of the missing seats at the front or the back of the plane\n",
    "\n",
    "# First, get list of all seat IDs\n",
    "seat_ids = sorted([get_seat_id(boarding_pass) for boarding_pass in content])\n",
    "\n",
    "# Then, loop through and see which ID is exactly 2 higher than the previous entry, and return the seat ID before\n",
    "for i in range(len(seat_ids)):\n",
    "    if i > 0 and seat_ids[i] - seat_ids[i-1] == 2:\n",
    "        print(seat_ids[i]-1)\n",
    "        break"
   ]
  }
 ],
 "metadata": {
  "kernelspec": {
   "display_name": "Python 3",
   "language": "python",
   "name": "python3"
  },
  "language_info": {
   "codemirror_mode": {
    "name": "ipython",
    "version": 3
   },
   "file_extension": ".py",
   "mimetype": "text/x-python",
   "name": "python",
   "nbconvert_exporter": "python",
   "pygments_lexer": "ipython3",
   "version": "3.7.6"
  }
 },
 "nbformat": 4,
 "nbformat_minor": 4
}
