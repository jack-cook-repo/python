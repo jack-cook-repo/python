{
 "cells": [
  {
   "cell_type": "code",
   "execution_count": 10,
   "metadata": {
    "scrolled": true
   },
   "outputs": [
    {
     "name": "stdout",
     "output_type": "stream",
     "text": [
      "99 91\n"
     ]
    }
   ],
   "source": [
    "# Open file and parse contents\n",
    "file = open('day11_inputs.txt')\n",
    "content = [line.strip() for line in file]\n",
    "\n",
    "row_width = len(content[0])\n",
    "n_rows = len(content)\n",
    "print(row_width, n_rows)"
   ]
  },
  {
   "cell_type": "markdown",
   "metadata": {},
   "source": [
    "### Part 1"
   ]
  },
  {
   "cell_type": "markdown",
   "metadata": {},
   "source": [
    "These general rules apply:\n",
    "- L denotes an empty seat\n",
    "- . denotes floor\n",
    "- Neither seats or floor move\n",
    "- 'adjacency' applies to the **8** spaces next to a given square - up/down/left/right/diagonal\n",
    "\n",
    "These rules apply for changing the states of seats:\n",
    "- If a seat is empty (L) and there are no occupied seats adjacent to it, the seat becomes occupied.\n",
    "- If a seat is occupied (#) and four or more seats adjacent to it are also occupied, the seat becomes empty.\n",
    "- Otherwise, the seat's state does not change\n",
    "- These rules are applied to all seats simultaneously in a round of changes, i.e. a seat becoming occupied in round 1 won't be considered by the seat next to it in it's state calculations for round 1 - but it will be for round 2"
   ]
  },
  {
   "cell_type": "code",
   "execution_count": 2,
   "metadata": {
    "scrolled": true
   },
   "outputs": [
    {
     "name": "stdout",
     "output_type": "stream",
     "text": [
      "No change on loop 76, total seats occupied 2354\n"
     ]
    }
   ],
   "source": [
    "import itertools\n",
    "import copy\n",
    "\n",
    "def adjacent_occupancy(seat_row, seat_col, content):\n",
    "# Given a seat row/column, return n occupied seats adjacent to that seat    \n",
    "\n",
    "    # Get locations of adjacent seats\n",
    "    adjacent_indices = [-1,0,1]\n",
    "    iter_adjacent_indices = itertools.product(adjacent_indices, adjacent_indices)\n",
    "    seats_occupied = 0\n",
    "    \n",
    "    for adj in iter_adjacent_indices:\n",
    "        # Unpack into row/col\n",
    "        adj_row, adj_col = adj \n",
    "            \n",
    "        # Get relative co-ordinates\n",
    "        adj_row_ind = adj_row + seat_row\n",
    "        adj_col_ind = adj_col + seat_col        \n",
    "        \n",
    "        # Ignore 0/0\n",
    "        if adj_row==0 and adj_col==0:\n",
    "            continue\n",
    "        # Check validity of index\n",
    "        elif (adj_row_ind < 0) or (adj_row_ind > n_rows-1) or (adj_col_ind < 0) or (adj_col_ind > row_width-1):\n",
    "            continue\n",
    "        # Otherwise, check number of adjacent '#'s (occupied seats)\n",
    "        elif content[adj_row_ind][adj_col_ind] == '#':\n",
    "            seats_occupied += 1\n",
    "        else:\n",
    "            continue\n",
    "\n",
    "    return seats_occupied\n",
    "            \n",
    "        \n",
    "# Create iterables\n",
    "range_rows = list(range(n_rows))\n",
    "range_cols = list(range(row_width))\n",
    "content_copy = copy.deepcopy(content)\n",
    "content_new = copy.deepcopy(content)\n",
    "\n",
    "# Iterate\n",
    "for i in range(1000):\n",
    "    \n",
    "    for seat_row in range_rows:\n",
    "        new_row = ''\n",
    "        for seat_col in range_cols:\n",
    "            symbol = content_new[seat_row][seat_col]\n",
    "\n",
    "            if symbol == 'L' and adjacent_occupancy(seat_row, seat_col, content_new) == 0:\n",
    "                new_row+='#'\n",
    "            elif symbol == '#' and adjacent_occupancy(seat_row, seat_col, content_new) > 3:\n",
    "                new_row+='L'\n",
    "            else:\n",
    "                new_row+=symbol\n",
    "        \n",
    "        content_copy[seat_row] = new_row\n",
    "        \n",
    "        \n",
    "    if content_copy == content_new:\n",
    "        total_occupied = 0\n",
    "        for row in content_copy:\n",
    "            total_occupied += row.count('#')\n",
    "        print('No change on loop {}, total seats occupied {}'.format(i+1, \n",
    "                                                                     total_occupied))\n",
    "        break\n",
    "        \n",
    "    # Overwrite ready for next iteration\n",
    "    content_new = copy.deepcopy(content_copy)"
   ]
  },
  {
   "cell_type": "markdown",
   "metadata": {},
   "source": [
    "### Part 2"
   ]
  },
  {
   "cell_type": "markdown",
   "metadata": {},
   "source": [
    "New rules:\n",
    "- People don't care about adjacent seats, just the **first seat** that they can **see** in each direction"
   ]
  },
  {
   "cell_type": "code",
   "execution_count": 11,
   "metadata": {},
   "outputs": [],
   "source": [
    "def is_valid_index(row_ind, col_ind):\n",
    "# Check whether a set of row/col indices are in bounds\n",
    "    return (row_ind >= 0) and (row_ind <= n_rows-1) and (col_ind >= 0) and (col_ind <= row_width-1)\n",
    "\n",
    "def visual_occupancy(seat_row, seat_col, content):\n",
    "# Given a seat row/column, return n occupied seats adjacent to that seat    \n",
    "\n",
    "    # Get locations of adjacent seats\n",
    "    adjacent_indices = [-1,0,1]\n",
    "    iter_adjacent_indices = itertools.product(adjacent_indices, adjacent_indices)\n",
    "    seats_occupied = 0\n",
    "    \n",
    "    for adj in iter_adjacent_indices:\n",
    "        # Unpack into row/col\n",
    "        adj_row, adj_col = adj        \n",
    "        \n",
    "        # Ignore 0/0\n",
    "        if adj_row==0 and adj_col==0:\n",
    "            continue\n",
    "        \n",
    "        adj_row_ind = seat_row + adj_row\n",
    "        adj_col_ind = seat_col + adj_col\n",
    "        \n",
    "        # Only start loop for invalid indices\n",
    "        if is_valid_index(adj_row_ind, adj_col_ind):\n",
    "            \n",
    "            # Get 'visible' indices\n",
    "            vis_row_ind, vis_col_ind = adj_row_ind, adj_col_ind\n",
    "            while is_valid_index(vis_row_ind, vis_col_ind):\n",
    "                \n",
    "                if content[vis_row_ind][vis_col_ind] == '#':\n",
    "                    seats_occupied += 1\n",
    "                    break\n",
    "                elif content[vis_row_ind][vis_col_ind] == 'L':\n",
    "                    break\n",
    "                else:\n",
    "                    # If no seat spotted, update indices\n",
    "                    if adj_col > 0:\n",
    "                        vis_col_ind+=1\n",
    "                    if adj_col < 0:\n",
    "                        vis_col_ind-=1\n",
    "                        \n",
    "                    if adj_row > 0:\n",
    "                        vis_row_ind+=1\n",
    "                    if adj_row < 0:\n",
    "                        vis_row_ind-=1\n",
    "\n",
    "    return seats_occupied"
   ]
  },
  {
   "cell_type": "code",
   "execution_count": 15,
   "metadata": {},
   "outputs": [
    {
     "name": "stdout",
     "output_type": "stream",
     "text": [
      "No change on loop 84, total seats occupied 2072\n"
     ]
    }
   ],
   "source": [
    "# Create iterables\n",
    "range_rows = list(range(n_rows))\n",
    "range_cols = list(range(row_width))\n",
    "content_copy_vis = copy.deepcopy(content)\n",
    "content_new_vis = copy.deepcopy(content)\n",
    "\n",
    "# Iterate\n",
    "for i in range(1000):\n",
    "    \n",
    "    for seat_row in range_rows:\n",
    "        new_row = ''\n",
    "        for seat_col in range_cols:\n",
    "            symbol = content_new_vis[seat_row][seat_col]\n",
    "\n",
    "            if symbol == 'L' and visual_occupancy(seat_row, seat_col, content_new_vis) == 0:\n",
    "                new_row+='#'\n",
    "            elif symbol == '#' and visual_occupancy(seat_row, seat_col, content_new_vis) > 4:\n",
    "                new_row+='L'\n",
    "            else:\n",
    "                new_row+=symbol\n",
    "        \n",
    "        content_copy_vis[seat_row] = new_row\n",
    "        \n",
    "        \n",
    "    if content_copy_vis == content_new_vis:\n",
    "        total_occupied_vis = 0\n",
    "        for row in content_copy_vis:\n",
    "            total_occupied_vis += row.count('#')\n",
    "        print('No change on loop {}, total seats occupied {}'.format(i+1, \n",
    "                                                                     total_occupied_vis))\n",
    "        break\n",
    "        \n",
    "    # Overwrite ready for next iteration\n",
    "    content_new_vis = copy.deepcopy(content_copy_vis)"
   ]
  }
 ],
 "metadata": {
  "kernelspec": {
   "display_name": "Python 3",
   "language": "python",
   "name": "python3"
  },
  "language_info": {
   "codemirror_mode": {
    "name": "ipython",
    "version": 3
   },
   "file_extension": ".py",
   "mimetype": "text/x-python",
   "name": "python",
   "nbconvert_exporter": "python",
   "pygments_lexer": "ipython3",
   "version": "3.8.6"
  }
 },
 "nbformat": 4,
 "nbformat_minor": 4
}
