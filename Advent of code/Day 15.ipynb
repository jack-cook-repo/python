{
 "cells": [
  {
   "cell_type": "code",
   "execution_count": 71,
   "metadata": {
    "scrolled": true
   },
   "outputs": [],
   "source": [
    "starting_numbers = [8,11,0,19,1,2]"
   ]
  },
  {
   "cell_type": "markdown",
   "metadata": {},
   "source": [
    "### Part 1"
   ]
  },
  {
   "cell_type": "markdown",
   "metadata": {},
   "source": [
    "After the starting numbers have been spoken, follow these rules:\n",
    "- If that was the first time the number has been spoken, the current player says 0.\n",
    "- Otherwise, the number had been spoken before; the current player announces how many turns apart the number is from when it was previously spoken.\n",
    "\n",
    "For example, suppose the starting numbers are 0,3,6:\n",
    "- Turn 1: The 1st number spoken is a starting number, 0.\n",
    "- Turn 2: The 2nd number spoken is a starting number, 3.\n",
    "- Turn 3: The 3rd number spoken is a starting number, 6.\n",
    "- Turn 4: Now, consider the last number spoken, 6. Since that was the first time the number had been spoken, the 4th number spoken is 0.\n",
    "- Turn 5: Next, again consider the last number spoken, 0. Since it had been spoken before, the next number to speak is the difference between the turn number when it was last spoken (the previous turn, 4) and the turn number of the time it was most recently spoken before then (turn 1). Thus, the 5th number spoken is 4 - 1, 3.\n",
    "- Turn 6: The last number spoken, 3 had also been spoken before, most recently on turns 5 and 2. So, the 6th number spoken is 5 - 2, 3.\n",
    "- Turn 7: Since 3 was just spoken twice in a row, and the last two turns are 1 turn apart, the 7th number spoken is 1.\n",
    "- Turn 8: Since 1 is new, the 8th number spoken is 0.\n",
    "- Turn 9: 0 was last spoken on turns 8 and 4, so the 9th number spoken is the difference between them, 4.\n",
    "- Turn 10: 4 is new, so the 10th number spoken is 0.\n",
    "\n",
    "Repeat until you get to the 2020th number"
   ]
  },
  {
   "cell_type": "code",
   "execution_count": 75,
   "metadata": {},
   "outputs": [
    {
     "data": {
      "text/plain": [
       "447"
      ]
     },
     "execution_count": 75,
     "metadata": {},
     "output_type": "execute_result"
    }
   ],
   "source": [
    "def memory_sequence(starting_numbers, n_goes):\n",
    "    \n",
    "    # Initialise dict with unique numbers and their most recent positions\n",
    "    unique_numbers_spoken = {starting_numbers[i]:i for i in range(len(starting_numbers))}\n",
    "\n",
    "    # Initialise list of all numbers spoken, in order, with starting numbers\n",
    "    numbers_spoken = [n for n in starting_numbers]\n",
    "    \n",
    "    for i in range(len(starting_numbers),n_goes):\n",
    "        prev_index = i-1\n",
    "        prev_n = numbers_spoken[prev_index]\n",
    "\n",
    "        # If we haven't heard the number before, then say a 0\n",
    "        if prev_n not in unique_numbers_spoken:\n",
    "            numbers_spoken.append(0)\n",
    "        # Otherwise, find difference between last time number was spoken and previous index\n",
    "        else:\n",
    "            # Most recent recorded index for prev_n in our dictionary\n",
    "            index_start = unique_numbers_spoken[prev_n]\n",
    "\n",
    "            # Add the difference to our numbers spoken\n",
    "            numbers_spoken.append(prev_index-index_start)\n",
    "\n",
    "        # In either of the above cases, we either update our dictionary or add a new entry with the most recent index\n",
    "        unique_numbers_spoken[prev_n] = prev_index\n",
    "    \n",
    "    \n",
    "    return numbers_spoken[-1]\n",
    "\n",
    "memory_sequence(starting_numbers, 2020)"
   ]
  },
  {
   "cell_type": "markdown",
   "metadata": {},
   "source": [
    "### Part 2"
   ]
  },
  {
   "cell_type": "markdown",
   "metadata": {},
   "source": [
    "Same as above, but return 30000000th number"
   ]
  },
  {
   "cell_type": "code",
   "execution_count": 77,
   "metadata": {},
   "outputs": [
    {
     "data": {
      "text/plain": [
       "11721679"
      ]
     },
     "execution_count": 77,
     "metadata": {},
     "output_type": "execute_result"
    }
   ],
   "source": [
    "memory_sequence(starting_numbers, 30000000)"
   ]
  }
 ],
 "metadata": {
  "kernelspec": {
   "display_name": "Python 3",
   "language": "python",
   "name": "python3"
  },
  "language_info": {
   "codemirror_mode": {
    "name": "ipython",
    "version": 3
   },
   "file_extension": ".py",
   "mimetype": "text/x-python",
   "name": "python",
   "nbconvert_exporter": "python",
   "pygments_lexer": "ipython3",
   "version": "3.8.6"
  }
 },
 "nbformat": 4,
 "nbformat_minor": 4
}
