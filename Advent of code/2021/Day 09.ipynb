{
 "cells": [
  {
   "cell_type": "code",
   "execution_count": 1,
   "id": "ec3cd493",
   "metadata": {},
   "outputs": [],
   "source": [
    "# Get autocomplete to work\n",
    "%config Completer.use_jedi = False\n",
    "\n",
    "# Ensure external Python files are refreshed when reimporting things\n",
    "%load_ext autoreload\n",
    "%autoreload 2"
   ]
  },
  {
   "cell_type": "code",
   "execution_count": 2,
   "id": "5f0f8655",
   "metadata": {},
   "outputs": [
    {
     "name": "stdout",
     "output_type": "stream",
     "text": [
      "100\n"
     ]
    },
    {
     "data": {
      "text/plain": [
       "['9876543298765698956789545678992103976545976323678910997879876432123679765323567894679434987654596521',\n",
       " '7998789129854987545697658789789212985439765454567899876568976569012489874212779943598929976653987432',\n",
       " '6429898934943496434589769894658924976929898765679969965345698798923456976433567892456998765432196543',\n",
       " '5210987899874987645678979943547895989899989898789357893234599987894678986547678901349899896563987656',\n",
       " '4329896798765797657889989652126789998798967999899969954345989876789989797698789316498766987854598787']"
      ]
     },
     "execution_count": 2,
     "metadata": {},
     "output_type": "execute_result"
    }
   ],
   "source": [
    "from load_functions import load_text\n",
    "    \n",
    "text_input = load_text(day=9)\n",
    "print(len(text_input))\n",
    "text_input[:5]"
   ]
  },
  {
   "cell_type": "markdown",
   "id": "3c2a52e4",
   "metadata": {},
   "source": [
    "Convert to list of lists"
   ]
  },
  {
   "cell_type": "code",
   "execution_count": 16,
   "id": "fe3f37d1",
   "metadata": {},
   "outputs": [
    {
     "name": "stdout",
     "output_type": "stream",
     "text": [
      "100\n",
      "[9, 8, 7, 6, 5, 4, 3, 2, 9, 8]\n",
      "[7, 9, 9, 8, 7, 8, 9, 1, 2, 9]\n"
     ]
    }
   ],
   "source": [
    "grid = []\n",
    "for t in text_input:\n",
    "    grid.append([int(n) for n in list(t)])\n",
    "    \n",
    "print(len(grid[0]))\n",
    "print(grid[0][:10], grid[1][:10], sep='\\n')"
   ]
  },
  {
   "cell_type": "markdown",
   "id": "96b7b6ae",
   "metadata": {},
   "source": [
    "# Problem "
   ]
  },
  {
   "cell_type": "markdown",
   "id": "0ce832c9",
   "metadata": {},
   "source": [
    "#### Part 1: Figure out how many low points there are, and add 1 to each low point score\n",
    "\n",
    "A low point is a number that is surrounded by numbers that are higher than it, or edges"
   ]
  },
  {
   "cell_type": "code",
   "execution_count": 47,
   "id": "49537c2b",
   "metadata": {},
   "outputs": [
    {
     "name": "stdout",
     "output_type": "stream",
     "text": [
      "Day 9, part 1: 514\n"
     ]
    }
   ],
   "source": [
    "risk_score = 0\n",
    "low_point_locs = [] # Used for part 2\n",
    "\n",
    "def get_adjacent_neighbours(grid, row, col):\n",
    "    \n",
    "    # Initialise values\n",
    "    neighbours = []\n",
    "    num = grid[row][col]\n",
    "    row_threshold = len(grid)\n",
    "    col_threshold = len(grid[0])\n",
    "    \n",
    "    # Get our offsets to use\n",
    "    row_offsets = [row-1, row+1]\n",
    "    col_offsets = [col-1, col+1]\n",
    "\n",
    "    # Then for our row and column offsets, check they are in range, if so - add to list of neighbours\n",
    "    for row_offset in row_offsets:\n",
    "        if row_offset >= 0 and row_offset < row_threshold:\n",
    "            neighbours.append([grid[row_offset][col], row_offset, col])\n",
    "    \n",
    "    for col_offset in col_offsets:\n",
    "        if col_offset >= 0 and col_offset < col_threshold:\n",
    "            neighbours.append([grid[row][col_offset], row, col_offset])\n",
    "        \n",
    "    return neighbours\n",
    "\n",
    "# Check neighbours are all larger\n",
    "for row in range(len(grid)):\n",
    "    for col in range(len(grid[0])):\n",
    "        num = grid[row][col]\n",
    "        neighbours = get_adjacent_neighbours(grid, row, col)\n",
    "        \n",
    "        # If neighbours are all larger, append it to our list to use in part 2, and add to our risk score\n",
    "        if all([num < n[0] for n in neighbours]):\n",
    "            low_point_locs.append([num, row, col])\n",
    "            risk_score += (num + 1)\n",
    "        \n",
    "print('Day 9, part 1:', risk_score)"
   ]
  },
  {
   "cell_type": "markdown",
   "id": "116a9e44",
   "metadata": {},
   "source": [
    "#### Part 2: Once you've found a low point, scan to find the basin size"
   ]
  },
  {
   "cell_type": "code",
   "execution_count": 93,
   "id": "1161ae4a",
   "metadata": {},
   "outputs": [
    {
     "name": "stdout",
     "output_type": "stream",
     "text": [
      "Day 9, part 2: 1103130\n"
     ]
    }
   ],
   "source": [
    "basin_sizes = []\n",
    "import numpy as np\n",
    "\n",
    "def get_co_ord_identifier(row, col):\n",
    "    \n",
    "    return str(row) + '-' + str(col)\n",
    "\n",
    "\n",
    "# Declare recursive function\n",
    "def basin_size_scan(grid, row, col, basin_co_ords):\n",
    "    \n",
    "    # Then scan for adjacent neighbours\n",
    "    neighbours = get_adjacent_neighbours(grid, row, col)\n",
    "    \n",
    "    # Check neighbour isn't in existing basin co-ord list\n",
    "    new_neighbours = [n for n in neighbours if get_co_ord_identifier(row=n[1], col=n[2]) not in basin_co_ords]\n",
    "    \n",
    "    # Filter out neighbours with value < current value, and value = 9\n",
    "    new_neighbours = [n for n in new_neighbours if n[0] > grid[row][col] and n[0] < 9]\n",
    "    \n",
    "    if len(new_neighbours) > 0:\n",
    "        for n in new_neighbours:\n",
    "            \n",
    "            # Add to scanned co-ords\n",
    "            basin_co_ords.append(get_co_ord_identifier(n[1], n[2]))\n",
    "            \n",
    "            # Recursion\n",
    "            basin_size_scan(grid, n[1], n[2], basin_co_ords)\n",
    "            \n",
    "    return basin_co_ords\n",
    "\n",
    "# Used to track all basin sizes\n",
    "basin_sizes = []\n",
    "\n",
    "for low_point in low_point_locs:\n",
    "    \n",
    "    # Initialise list with first co-ordinates\n",
    "    basin_co_ords = [get_co_ord_identifier(low_point[1], low_point[2])]\n",
    "    \n",
    "    # Then perform recursive search, making sure to de-dupe any co-ordinates that may be simultaneously searched\n",
    "    basin_co_ords = np.unique(basin_size_scan(grid, \n",
    "                                              low_point[1], \n",
    "                                              low_point[2], \n",
    "                                              basin_co_ords))\n",
    "\n",
    "    # Add size to list\n",
    "    basin_sizes.append(len(basin_co_ords))\n",
    "    \n",
    "\n",
    "# Sort list\n",
    "basin_sizes_sorted = list(reversed(sorted(basin_sizes)))\n",
    "\n",
    "print('Day 9, part 2:', basin_sizes_sorted[0] * basin_sizes_sorted[1] * basin_sizes_sorted[2])"
   ]
  }
 ],
 "metadata": {
  "kernelspec": {
   "display_name": "Python 3",
   "language": "python",
   "name": "python3"
  },
  "language_info": {
   "codemirror_mode": {
    "name": "ipython",
    "version": 3
   },
   "file_extension": ".py",
   "mimetype": "text/x-python",
   "name": "python",
   "nbconvert_exporter": "python",
   "pygments_lexer": "ipython3",
   "version": "3.7.6"
  }
 },
 "nbformat": 4,
 "nbformat_minor": 5
}
