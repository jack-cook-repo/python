{
 "cells": [
  {
   "cell_type": "code",
   "execution_count": 1,
   "id": "ec3cd493",
   "metadata": {},
   "outputs": [],
   "source": [
    "# Get autocomplete to work\n",
    "%config Completer.use_jedi = False\n",
    "\n",
    "# Ensure external Python files are refreshed when reimporting things\n",
    "%load_ext autoreload\n",
    "%autoreload 2"
   ]
  },
  {
   "cell_type": "code",
   "execution_count": 5,
   "id": "5f0f8655",
   "metadata": {},
   "outputs": [
    {
     "data": {
      "text/plain": [
       "'1101,1,29,67,1102,0,1,65,1008,'"
      ]
     },
     "execution_count": 5,
     "metadata": {},
     "output_type": "execute_result"
    }
   ],
   "source": [
    "from load_functions import load_text\n",
    "    \n",
    "text_input = load_text(day=7)\n",
    "text_input[0][:30]"
   ]
  },
  {
   "cell_type": "markdown",
   "id": "3c2a52e4",
   "metadata": {},
   "source": [
    "Convert to list of ints"
   ]
  },
  {
   "cell_type": "code",
   "execution_count": 11,
   "id": "fe3f37d1",
   "metadata": {},
   "outputs": [
    {
     "name": "stdout",
     "output_type": "stream",
     "text": [
      "1000\n"
     ]
    },
    {
     "data": {
      "text/plain": [
       "[1101, 1, 29, 67, 1102]"
      ]
     },
     "execution_count": 11,
     "metadata": {},
     "output_type": "execute_result"
    }
   ],
   "source": [
    "crabs = [int(n) for n in text_input[0].split(',')]\n",
    "print(len(crabs))\n",
    "crabs[:5]"
   ]
  },
  {
   "cell_type": "code",
   "execution_count": 12,
   "id": "0a1ae502",
   "metadata": {},
   "outputs": [],
   "source": [
    "test_crabs = [16,1,2,0,4,2,7,1,2,14]"
   ]
  },
  {
   "cell_type": "markdown",
   "id": "96b7b6ae",
   "metadata": {},
   "source": [
    "# Problem "
   ]
  },
  {
   "cell_type": "markdown",
   "id": "0ce832c9",
   "metadata": {},
   "source": [
    "#### Part 1: Calculate position to align crabs with least possible fuel"
   ]
  },
  {
   "cell_type": "code",
   "execution_count": 20,
   "id": "f5ae7a49",
   "metadata": {},
   "outputs": [
    {
     "name": "stdout",
     "output_type": "stream",
     "text": [
      "med:  313\n",
      "Day 6, part 1: 335271\n"
     ]
    }
   ],
   "source": [
    "import numpy as np\n",
    "import copy\n",
    "\n",
    "# Initialise\n",
    "crabs_pt1 = copy.deepcopy(crabs)\n",
    "\n",
    "# Get median\n",
    "med = int(np.median(crabs_pt1))\n",
    "print('med: ', med)\n",
    "\n",
    "# Get difference between every crab and median\n",
    "med_diff = np.abs(np.array(crabs_pt1) - med)\n",
    "\n",
    "print('Day 6, part 1:', np.sum(med_diff))"
   ]
  },
  {
   "cell_type": "markdown",
   "id": "116a9e44",
   "metadata": {},
   "source": [
    "#### Part 2: Consecutive moves cost 1 more fuel than the previous move, e.g. move 1 costs 1, move 2 costs 2 etc."
   ]
  },
  {
   "cell_type": "code",
   "execution_count": 57,
   "id": "b662f23d",
   "metadata": {},
   "outputs": [
    {
     "name": "stdout",
     "output_type": "stream",
     "text": [
      "min cost at position:  461\n",
      "Day 6, part 2: 95851339\n"
     ]
    }
   ],
   "source": [
    "# Define move cost\n",
    "def move_cost(crab_start, crab_end):\n",
    "    \n",
    "    move_dist = abs(crab_start - crab_end)\n",
    "    return move_dist * (move_dist + 1)/2\n",
    "        \n",
    "# Vectorize\n",
    "vect_move_cost = np.vectorize(move_cost, excluded='crab_end')\n",
    "\n",
    "# Initialise\n",
    "crabs_pt2 = copy.deepcopy(crabs)\n",
    "mean_val = int(np.mean(crabs_pt2))\n",
    "search_range = range(mean_val - 3, mean_val + 3)\n",
    "dict_costs = {i: 0 for i in search_range}\n",
    "\n",
    "# Loop through options and write outcomes\n",
    "for i in search_range:\n",
    "    dict_costs[i] = int(np.sum(vect_move_cost(crabs_pt2, i)))\n",
    "    \n",
    "# Get min cost\n",
    "min_cost = min(dict_costs, key=dict_costs.get)\n",
    "print('min cost at position: ', min_cost)\n",
    "\n",
    "# Show outputs\n",
    "print('Day 6, part 2:', dict_costs[min_cost])"
   ]
  }
 ],
 "metadata": {
  "kernelspec": {
   "display_name": "Python 3",
   "language": "python",
   "name": "python3"
  },
  "language_info": {
   "codemirror_mode": {
    "name": "ipython",
    "version": 3
   },
   "file_extension": ".py",
   "mimetype": "text/x-python",
   "name": "python",
   "nbconvert_exporter": "python",
   "pygments_lexer": "ipython3",
   "version": "3.7.6"
  }
 },
 "nbformat": 4,
 "nbformat_minor": 5
}
