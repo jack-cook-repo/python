{
 "cells": [
  {
   "cell_type": "code",
   "execution_count": 1,
   "id": "ec3cd493",
   "metadata": {},
   "outputs": [],
   "source": [
    "# Get autocomplete to work\n",
    "%config Completer.use_jedi = False\n",
    "\n",
    "# Ensure external Python files are refreshed when reimporting things\n",
    "%load_ext autoreload\n",
    "%autoreload 2"
   ]
  },
  {
   "cell_type": "code",
   "execution_count": 2,
   "id": "5f0f8655",
   "metadata": {},
   "outputs": [
    {
     "name": "stdout",
     "output_type": "stream",
     "text": [
      "10\n"
     ]
    },
    {
     "data": {
      "text/plain": [
       "['8577245547',\n",
       " '1654333653',\n",
       " '5365633785',\n",
       " '1333243226',\n",
       " '4272385165',\n",
       " '5688328432',\n",
       " '3175634254',\n",
       " '6775142227',\n",
       " '6152721415',\n",
       " '2678227325']"
      ]
     },
     "execution_count": 2,
     "metadata": {},
     "output_type": "execute_result"
    }
   ],
   "source": [
    "from load_functions import load_text\n",
    "    \n",
    "text_input = load_text(day=11)\n",
    "print(len(text_input))\n",
    "text_input"
   ]
  },
  {
   "cell_type": "markdown",
   "id": "3c2a52e4",
   "metadata": {},
   "source": [
    "Convert to list of lists"
   ]
  },
  {
   "cell_type": "code",
   "execution_count": 4,
   "id": "fe3f37d1",
   "metadata": {},
   "outputs": [
    {
     "name": "stdout",
     "output_type": "stream",
     "text": [
      "10\n",
      "[8, 5, 7, 7, 2, 4, 5, 5, 4, 7]\n"
     ]
    }
   ],
   "source": [
    "list_input = []\n",
    "for t in text_input:\n",
    "    list_input.append([int(b) for b in list(t)])\n",
    "    \n",
    "print(len(list_input[0]))\n",
    "print(list_input[0][:10])"
   ]
  },
  {
   "cell_type": "markdown",
   "id": "96b7b6ae",
   "metadata": {},
   "source": [
    "# Problem "
   ]
  },
  {
   "cell_type": "markdown",
   "id": "0ce832c9",
   "metadata": {},
   "source": [
    "#### Part 1: "
   ]
  },
  {
   "cell_type": "code",
   "execution_count": 61,
   "id": "49537c2b",
   "metadata": {
    "scrolled": true
   },
   "outputs": [
    {
     "name": "stdout",
     "output_type": "stream",
     "text": [
      "Day 9, part 1: 1702\n"
     ]
    }
   ],
   "source": [
    "import numpy as np\n",
    "import itertools\n",
    "\n",
    "# Turn into array\n",
    "arr_octopus = np.array(list_input)\n",
    "\n",
    "# Get list of relative co-ords to iterate through\n",
    "iter_neighbours = list(itertools.product([1, 0, -1], [1, 0, -1]))\n",
    "iter_neighbours.remove((0, 0))\n",
    "\n",
    "# Create function to increment neighbours by 1, and check if any octopus goes >9 that hasn't already flashed\n",
    "def increment_neigbours(arr, row, col):\n",
    "    \n",
    "    for (r_offset, c_offset) in iter_neighbours:\n",
    "        arr[row + r_offset, col + c_offset] += 1\n",
    "        \n",
    "\n",
    "# Initialise total, will be our answer for part 1\n",
    "total_flashing_octopi = 0\n",
    "\n",
    "# Pad\n",
    "arr_octopus_pad = np.pad(arr_octopus, \n",
    "                         pad_width=1, \n",
    "                         mode='constant', \n",
    "                         constant_values=0)\n",
    "\n",
    "\n",
    "# Loop through N steps\n",
    "for step in range(1, 101):\n",
    "\n",
    "    # Store list of octopi that have flashed in this step\n",
    "    octopi_flashed = []\n",
    "\n",
    "    # Increment all non-padded octopi by 1\n",
    "    arr_octopus_pad[1:-1, 1:-1] += 1\n",
    "\n",
    "    # Count initial number of octopi with energy > 9\n",
    "    num_new_flashing_octopi = np.sum(arr_octopus_pad[1:-1, 1:-1] > 9)\n",
    "\n",
    "    # Then loop through dataframe until number of new octopi flashing is 0\n",
    "    while num_new_flashing_octopi > 0:\n",
    "\n",
    "        # Reset\n",
    "        num_new_flashing_octopi = 0\n",
    "\n",
    "        # Check each row and column (non-padded)\n",
    "        for row in range(1, 11):\n",
    "            for col in range(1, 11):\n",
    "\n",
    "                # If energy is 9 or greater - and it hasn't already flashed, flash, and increment neighbours\n",
    "                if arr_octopus_pad[row, col] > 9 and (row, col) not in octopi_flashed:\n",
    "\n",
    "                    num_new_flashing_octopi += 1\n",
    "                    total_flashing_octopi += 1\n",
    "                    increment_neigbours(arr_octopus_pad, row, col)\n",
    "\n",
    "                    # Add to list of octopi that have flashed this turn\n",
    "                    octopi_flashed.append((row, col))\n",
    "\n",
    "    # Then, reset padding\n",
    "    arr_octopus_pad = np.pad(arr_octopus_pad[1:-1, 1:-1], \n",
    "                             pad_width=1, \n",
    "                             mode='constant', \n",
    "                             constant_values=0)\n",
    "\n",
    "    # And replace all octopi with energy > 9 with 0\n",
    "    arr_octopus_pad = np.where(arr_octopus_pad <= 9, arr_octopus_pad, 0)\n",
    "\n",
    "print('Day 9, part 1:', total_flashing_octopi)"
   ]
  },
  {
   "cell_type": "markdown",
   "id": "116a9e44",
   "metadata": {},
   "source": [
    "#### Part 2: Figure out when all octopi will flash at once (all are reset to 0)"
   ]
  },
  {
   "cell_type": "code",
   "execution_count": 63,
   "id": "d3776c7e",
   "metadata": {},
   "outputs": [
    {
     "name": "stdout",
     "output_type": "stream",
     "text": [
      "Day 9, part 2: 251\n"
     ]
    }
   ],
   "source": [
    "# Pad\n",
    "arr_octopus_pad = np.pad(arr_octopus, \n",
    "                         pad_width=1, \n",
    "                         mode='constant', \n",
    "                         constant_values=0)\n",
    "\n",
    "\n",
    "# Loop through N steps\n",
    "for step in range(1, 501):\n",
    "    \n",
    "    # Initialise total, will be our answer for part 2\n",
    "    total_flashing_octopi_step = 0\n",
    "\n",
    "    # Store list of octopi that have flashed in this step\n",
    "    octopi_flashed = []\n",
    "\n",
    "    # Increment all non-padded octopi by 1\n",
    "    arr_octopus_pad[1:-1, 1:-1] += 1\n",
    "\n",
    "    # Count initial number of octopi with energy > 9\n",
    "    num_new_flashing_octopi = np.sum(arr_octopus_pad[1:-1, 1:-1] > 9)\n",
    "\n",
    "    # Then loop through dataframe until number of new octopi flashing is 0\n",
    "    while num_new_flashing_octopi > 0:\n",
    "\n",
    "        # Reset\n",
    "        num_new_flashing_octopi = 0\n",
    "\n",
    "        # Check each row and column (non-padded)\n",
    "        for row in range(1, 11):\n",
    "            for col in range(1, 11):\n",
    "\n",
    "                # If energy is 9 or greater - and it hasn't already flashed, flash, and increment neighbours\n",
    "                if arr_octopus_pad[row, col] > 9 and (row, col) not in octopi_flashed:\n",
    "\n",
    "                    num_new_flashing_octopi += 1\n",
    "                    total_flashing_octopi_step += 1\n",
    "                    increment_neigbours(arr_octopus_pad, row, col)\n",
    "\n",
    "                    # Add to list of octopi that have flashed this turn\n",
    "                    octopi_flashed.append((row, col))\n",
    "\n",
    "    # Then, reset padding\n",
    "    arr_octopus_pad = np.pad(arr_octopus_pad[1:-1, 1:-1], \n",
    "                             pad_width=1, \n",
    "                             mode='constant', \n",
    "                             constant_values=0)\n",
    "    \n",
    "    # Check if == 100\n",
    "    if total_flashing_octopi_step == 100:\n",
    "        print('Day 9, part 2:', step)\n",
    "        break\n",
    "\n",
    "    # And replace all octopi with energy > 9 with 0\n",
    "    arr_octopus_pad = np.where(arr_octopus_pad <= 9, arr_octopus_pad, 0)"
   ]
  }
 ],
 "metadata": {
  "kernelspec": {
   "display_name": "Python 3",
   "language": "python",
   "name": "python3"
  },
  "language_info": {
   "codemirror_mode": {
    "name": "ipython",
    "version": 3
   },
   "file_extension": ".py",
   "mimetype": "text/x-python",
   "name": "python",
   "nbconvert_exporter": "python",
   "pygments_lexer": "ipython3",
   "version": "3.7.6"
  }
 },
 "nbformat": 4,
 "nbformat_minor": 5
}
