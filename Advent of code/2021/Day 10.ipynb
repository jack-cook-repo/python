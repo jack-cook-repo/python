{
 "cells": [
  {
   "cell_type": "code",
   "execution_count": 1,
   "id": "ec3cd493",
   "metadata": {},
   "outputs": [],
   "source": [
    "# Get autocomplete to work\n",
    "%config Completer.use_jedi = False\n",
    "\n",
    "# Ensure external Python files are refreshed when reimporting things\n",
    "%load_ext autoreload\n",
    "%autoreload 2"
   ]
  },
  {
   "cell_type": "code",
   "execution_count": 2,
   "id": "5f0f8655",
   "metadata": {},
   "outputs": [
    {
     "name": "stdout",
     "output_type": "stream",
     "text": [
      "102\n"
     ]
    },
    {
     "data": {
      "text/plain": [
       "['{([[[(<<[{[[[[(){}][()]][({}())]]]<{((<>[]){[]<>})({()()}(<>[]))}<{{{}()}{[]()}}>>})[<(<[[<><>][{}{',\n",
       " '([(<(((<[({{({(){}}<{}()>)((<>{})[{}<>})}}[{[(<>())[[]]]{{[][]}(<><>)}}{<<{}()>([]())>([<>][{}])}])](<[{[',\n",
       " '{{[[<[<(<<<{((<>[])([]<>))(<{}><()[]>)}[(((){}){<>[]})<{(){}}<<>[]>>]>{[{{<>{}}<()<>>}<<<>[]>([]<>)>][',\n",
       " '<[{<(({([[([({{}[]}{<><>})<<[]{}>>]<<<{}{}>((){})><{{}()}<{}[]>>>)](([<([]{})<{}<>>>(<[][]>{()()})',\n",
       " '{{<(([<[[{<{({{}<>}({}()))<[<>[]](<>[])>}><[(((){})){[()]<<>[]>}][{{<><>}(<>{})}<<()[]>({}())>]>}<[{[(()<>)']"
      ]
     },
     "execution_count": 2,
     "metadata": {},
     "output_type": "execute_result"
    }
   ],
   "source": [
    "from load_functions import load_text\n",
    "    \n",
    "text_input = load_text(day=10)\n",
    "print(len(text_input))\n",
    "text_input[:5]"
   ]
  },
  {
   "cell_type": "markdown",
   "id": "3c2a52e4",
   "metadata": {},
   "source": [
    "Convert to list of lists"
   ]
  },
  {
   "cell_type": "code",
   "execution_count": 3,
   "id": "fe3f37d1",
   "metadata": {},
   "outputs": [
    {
     "name": "stdout",
     "output_type": "stream",
     "text": [
      "99\n",
      "['{', '(', '[', '[', '[', '(', '<', '<', '[', '{']\n"
     ]
    }
   ],
   "source": [
    "list_input = []\n",
    "for t in text_input:\n",
    "    list_input.append([b for b in list(t)])\n",
    "    \n",
    "print(len(list_input[0]))\n",
    "print(list_input[0][:10])"
   ]
  },
  {
   "cell_type": "markdown",
   "id": "96b7b6ae",
   "metadata": {},
   "source": [
    "# Problem "
   ]
  },
  {
   "cell_type": "markdown",
   "id": "0ce832c9",
   "metadata": {},
   "source": [
    "#### Part 1: Find first illegal character in each line, and add up scores\n",
    "\n",
    "An illegal character is a closing bracket that doesn't match the opening bracket.\n",
    "\n",
    "e.g.:\n",
    "{(<>)} is fine, {(<>)] is not - as the last square bracket doesn't match the opening bracket"
   ]
  },
  {
   "cell_type": "code",
   "execution_count": 57,
   "id": "49537c2b",
   "metadata": {},
   "outputs": [
    {
     "name": "stdout",
     "output_type": "stream",
     "text": [
      "Day 9, part 1: 366027\n"
     ]
    }
   ],
   "source": [
    "# Initialise values\n",
    "opening_brackets = ['{', '[', '(', '<']\n",
    "closing_brackets = ['}', ']', ')', '>']\n",
    "dict_mapping = {\n",
    "    '{': '}',\n",
    "    '[': ']',\n",
    "    '<': '>',\n",
    "    '(': ')'\n",
    "}\n",
    "dict_scoring = {\n",
    "    ')': 3,\n",
    "    ']': 57,\n",
    "    '}': 1197,\n",
    "    '>': 25137\n",
    "}\n",
    "\n",
    "        \n",
    "# Used to run through an entire list and return invalid characters (if any)\n",
    "def get_first_invalid_character_score(bracket_list):\n",
    "    \n",
    "    # Used to hold characters currently being checked\n",
    "    list_scan = []\n",
    "    \n",
    "    is_invalid = False\n",
    "    \n",
    "    # Loop through list\n",
    "    for b in bracket_list:\n",
    "\n",
    "        # Check for opening brackets, and append to list that's being scanned\n",
    "        if b in opening_brackets:\n",
    "            list_scan.append(b)\n",
    "        # For closing brackets, it must match the most recent opening bracket\n",
    "        elif b in closing_brackets:\n",
    "            if (len(list_scan) == 0) or (dict_mapping[list_scan[-1]] != b):\n",
    "                return (dict_scoring[b], None) # Don't return list_scan, needed for part 2\n",
    "                is_invalid = True\n",
    "            # If it does match, then remove the most recent opening bracket being checked\n",
    "            # e.g. if list_scan contained [<, then a > was next, we would remove the < from list_scan\n",
    "            else:\n",
    "                list_scan = list_scan[:-1]\n",
    "        else:\n",
    "            raise ValueError('Bracket not in opening or closing bracket lists')\n",
    "    \n",
    "    if not is_invalid:\n",
    "        return (0, list_scan)\n",
    "        \n",
    "\n",
    "invalid_char_score = 0\n",
    "\n",
    "for l in list_input:\n",
    "    invalid_char_score += get_first_invalid_character_score(l)[0]\n",
    "\n",
    "print('Day 9, part 1:', invalid_char_score)"
   ]
  },
  {
   "cell_type": "markdown",
   "id": "116a9e44",
   "metadata": {},
   "source": [
    "#### Part 2: Discard corrupted lines, and finish remaining lines"
   ]
  },
  {
   "cell_type": "code",
   "execution_count": 91,
   "id": "d3776c7e",
   "metadata": {},
   "outputs": [
    {
     "name": "stdout",
     "output_type": "stream",
     "text": [
      "Day 9, part 2: 1118645287\n"
     ]
    }
   ],
   "source": [
    "dict_completion_score = {\n",
    "    ')': 1,\n",
    "    ']': 2,\n",
    "    '}': 3,\n",
    "    '>': 4\n",
    "}\n",
    "\n",
    "completion_scores = []\n",
    "\n",
    "# Loop through lines again\n",
    "for l in list_input:\n",
    "    \n",
    "    completion_score = 0\n",
    "    \n",
    "    (score, list_scan) = get_first_invalid_character_score(l)\n",
    "    \n",
    "    # If the list isn't invalid, just incomplete, then list_scan will be present\n",
    "    if list_scan is not None:\n",
    "        \n",
    "        # Go through each item in list scan an return it's closing bracket\n",
    "        # Important - reverse list before doing this as order matters!\n",
    "        closing_brackets_needed = [dict_mapping[b] for b in list(reversed(list_scan))]\n",
    "        \n",
    "        # Then, check the score of the closing brackets needed\n",
    "        for c in closing_brackets_needed:\n",
    "            completion_score = (completion_score * 5) + dict_completion_score[c]\n",
    "    \n",
    "    \n",
    "        completion_scores.append(completion_score) \n",
    "\n",
    "        \n",
    "# Sort completion scores, and take middle value\n",
    "completion_scores = list(sorted(completion_scores))\n",
    "\n",
    "# Round down as we are using list indices which are 1 lower than positions\n",
    "mid_value = int(len(completion_scores) / 2 - 0.5)\n",
    "            \n",
    "print('Day 9, part 2:', completion_scores[mid_value])"
   ]
  }
 ],
 "metadata": {
  "kernelspec": {
   "display_name": "Python 3",
   "language": "python",
   "name": "python3"
  },
  "language_info": {
   "codemirror_mode": {
    "name": "ipython",
    "version": 3
   },
   "file_extension": ".py",
   "mimetype": "text/x-python",
   "name": "python",
   "nbconvert_exporter": "python",
   "pygments_lexer": "ipython3",
   "version": "3.7.6"
  }
 },
 "nbformat": 4,
 "nbformat_minor": 5
}
