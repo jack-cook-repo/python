{
 "cells": [
  {
   "cell_type": "code",
   "execution_count": 1,
   "id": "ec3cd493",
   "metadata": {},
   "outputs": [],
   "source": [
    "# Get autocomplete to work\n",
    "%config Completer.use_jedi = False\n",
    "\n",
    "# Ensure external Python files are refreshed when reimporting things\n",
    "%load_ext autoreload\n",
    "%autoreload 2"
   ]
  },
  {
   "cell_type": "code",
   "execution_count": 2,
   "id": "5f0f8655",
   "metadata": {},
   "outputs": [
    {
     "data": {
      "text/plain": [
       "['000110000001',\n",
       " '011011001101',\n",
       " '001101100111',\n",
       " '001101011001',\n",
       " '110111011101']"
      ]
     },
     "execution_count": 2,
     "metadata": {},
     "output_type": "execute_result"
    }
   ],
   "source": [
    "from load_functions import load_text\n",
    "    \n",
    "text_input = load_text(day=3)\n",
    "text_input[:5]"
   ]
  },
  {
   "cell_type": "markdown",
   "id": "30cdd18b",
   "metadata": {},
   "source": [
    "Get inputs as list of individual numbers"
   ]
  },
  {
   "cell_type": "code",
   "execution_count": 4,
   "id": "40f22b19",
   "metadata": {},
   "outputs": [
    {
     "data": {
      "text/plain": [
       "[['0', '0', '0', '1', '1', '0', '0', '0', '0', '0', '0', '1'],\n",
       " ['0', '1', '1', '0', '1', '1', '0', '0', '1', '1', '0', '1'],\n",
       " ['0', '0', '1', '1', '0', '1', '1', '0', '0', '1', '1', '1'],\n",
       " ['0', '0', '1', '1', '0', '1', '0', '1', '1', '0', '0', '1'],\n",
       " ['1', '1', '0', '1', '1', '1', '0', '1', '1', '1', '0', '1']]"
      ]
     },
     "execution_count": 4,
     "metadata": {},
     "output_type": "execute_result"
    }
   ],
   "source": [
    "num_list = [list(t) for t in text_input]\n",
    "num_list[:5]"
   ]
  },
  {
   "cell_type": "markdown",
   "id": "96b7b6ae",
   "metadata": {},
   "source": [
    "# Problem "
   ]
  },
  {
   "cell_type": "markdown",
   "id": "0ce832c9",
   "metadata": {},
   "source": [
    "#### Part 1: find most common bits at each position"
   ]
  },
  {
   "cell_type": "code",
   "execution_count": 73,
   "id": "23be78d7",
   "metadata": {},
   "outputs": [
    {
     "name": "stdout",
     "output_type": "stream",
     "text": [
      "Day 3, part 1: 3429254\n"
     ]
    }
   ],
   "source": [
    "# Get length of each binary sequence\n",
    "bin_len = len(text_input[0])\n",
    "\n",
    "# Initialise empty dict\n",
    "from collections import defaultdict\n",
    "d_dict = defaultdict()\n",
    "for bin_pos in range(bin_len):\n",
    "    d_dict[bin_pos] = 0\n",
    "\n",
    "# Loop through each input and get sum at each position\n",
    "for t in text_input:\n",
    "    for bin_pos in range(bin_len):\n",
    "        d_dict[bin_pos] += int(t[bin_pos])\n",
    "\n",
    "# Then divide by length of inputs\n",
    "for k in d_dict.keys():\n",
    "    d_dict[k] = d_dict[k] / len(text_input)\n",
    "\n",
    "# And get binary outputs\n",
    "gamma_rate_bin = ''.join(['1' if d_dict[k] > 0.5 else '0' for k in d_dict.keys()])\n",
    "epsilon_rate_bin = ''.join(['1' if d_dict[k] < 0.5 else '0' for k in d_dict.keys()])\n",
    "\n",
    "\n",
    "# Convert to base 10\n",
    "def bin_to_base_10(binary):\n",
    "    \n",
    "    result = 0\n",
    "    \n",
    "    # Start from 0 index and work upwards\n",
    "    rev_binary_str = list(reversed(list(str(binary))))\n",
    "    \n",
    "    for i in range(len(rev_binary_str)):\n",
    "        if rev_binary_str[i] == '1':\n",
    "            result += 2**i\n",
    "            \n",
    "    return result\n",
    "    \n",
    "gamma_rate = bin_to_base_10(gamma_rate_bin)\n",
    "epsilon_rate = bin_to_base_10(epsilon_rate_bin)\n",
    "\n",
    "print('Day 3, part 1:', gamma_rate * epsilon_rate)"
   ]
  },
  {
   "cell_type": "markdown",
   "id": "9874f708",
   "metadata": {},
   "source": [
    "#### Part 2: after finding the most common bit in a position, filter to only keep numbers with that bit in that position"
   ]
  },
  {
   "cell_type": "code",
   "execution_count": 80,
   "id": "c2eaea38",
   "metadata": {},
   "outputs": [
    {
     "name": "stdout",
     "output_type": "stream",
     "text": [
      "Day 3, part 2: 5410338\n"
     ]
    }
   ],
   "source": [
    "import numpy as np\n",
    "import pandas as pd\n",
    "\n",
    "df_inputs = pd.DataFrame(num_list).astype(int)\n",
    "\n",
    "def filter_on_criteria(df, criteria, tie_breaker_digit):\n",
    "    \n",
    "    df_output = df.copy(deep=True)\n",
    "    \n",
    "    for col in df_output.columns:\n",
    "    \n",
    "        # Get row count\n",
    "        df_len = df_output.shape[0]\n",
    "        if df_len == 1:\n",
    "            # Can't filter further\n",
    "            return df_output\n",
    "\n",
    "        # Sum columns to get number of 1's\n",
    "        n_ones = df_output[col].sum()\n",
    "\n",
    "        # Then get pct that are 1's\n",
    "        pct_ones = n_ones / df_len\n",
    "\n",
    "        # And get most common digit (handle tie breaks later on)\n",
    "        most_common_digit = 0 if pct_ones <= 0.5 else 1\n",
    "\n",
    "        # Filter on criteria\n",
    "        if pct_ones == 0.5:\n",
    "            df_output = df_output[df_output[col] == tie_breaker_digit].copy(deep=True)\n",
    "        elif criteria == 'most':\n",
    "            df_output = df_output[df_output[col] == most_common_digit].copy(deep=True)\n",
    "        elif criteria == 'least':\n",
    "            df_output = df_output[df_output[col] != most_common_digit].copy(deep=True)\n",
    "        else:\n",
    "            return 'Unhandled criteria'\n",
    "    \n",
    "    return df_output\n",
    "\n",
    "\n",
    "# Then run this for 2 criteria\n",
    "df_oxygen = filter_on_criteria(df_inputs, 'most', 1)\n",
    "df_co2 = filter_on_criteria(df_inputs, 'least', 0)\n",
    "\n",
    "\n",
    "# Convert to integer values\n",
    "oxygen_rating = bin_to_base_10(''.join([str(s) for s in df_oxygen.iloc[0].values]))\n",
    "co2_rating = bin_to_base_10(''.join([str(s) for s in df_co2.iloc[0].values]))\n",
    "        \n",
    "print('Day 3, part 2:', oxygen_rating * co2_rating)"
   ]
  }
 ],
 "metadata": {
  "kernelspec": {
   "display_name": "Python 3",
   "language": "python",
   "name": "python3"
  },
  "language_info": {
   "codemirror_mode": {
    "name": "ipython",
    "version": 3
   },
   "file_extension": ".py",
   "mimetype": "text/x-python",
   "name": "python",
   "nbconvert_exporter": "python",
   "pygments_lexer": "ipython3",
   "version": "3.7.6"
  }
 },
 "nbformat": 4,
 "nbformat_minor": 5
}
