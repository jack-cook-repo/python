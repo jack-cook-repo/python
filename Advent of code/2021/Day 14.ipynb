{
 "cells": [
  {
   "cell_type": "code",
   "execution_count": 1,
   "id": "ec3cd493",
   "metadata": {},
   "outputs": [],
   "source": [
    "# Get autocomplete to work\n",
    "%config Completer.use_jedi = False\n",
    "\n",
    "# Ensure external Python files are refreshed when reimporting things\n",
    "%load_ext autoreload\n",
    "%autoreload 2"
   ]
  },
  {
   "cell_type": "code",
   "execution_count": 20,
   "id": "5f0f8655",
   "metadata": {},
   "outputs": [
    {
     "name": "stdout",
     "output_type": "stream",
     "text": [
      "102\n",
      "['CVKKFSSNNHNPSPPKBHPB', '', 'OF -> S', 'VO -> F', 'BP -> S']\n"
     ]
    }
   ],
   "source": [
    "from load_functions import load_text\n",
    "    \n",
    "text_input = load_text(day=14)\n",
    "print(len(text_input))\n",
    "print(text_input[:5])"
   ]
  },
  {
   "cell_type": "markdown",
   "id": "3c2a52e4",
   "metadata": {},
   "source": [
    "Convert to initial polymer, and polymer rules"
   ]
  },
  {
   "cell_type": "code",
   "execution_count": 21,
   "id": "83bb717d",
   "metadata": {},
   "outputs": [],
   "source": [
    "from collections import defaultdict\n",
    "\n",
    "initial_polymer = text_input[0]\n",
    "\n",
    "# Turn into dictionary of pairs\n",
    "list_initial_polymer = list(initial_polymer)\n",
    "\n",
    "dict_polymer_pairs = defaultdict(int)\n",
    "\n",
    "for i in range(1, len(list_initial_polymer)):\n",
    "    pair = list_initial_polymer[i-1] + list_initial_polymer[i]\n",
    "    dict_polymer_pairs[pair] += 1\n",
    "\n",
    "# Then construct rules\n",
    "rules = [rule.split(' -> ') for rule in text_input[2:]]\n",
    "dict_polymer_rules = {rule[0]: rule[1] for rule in rules}"
   ]
  },
  {
   "cell_type": "code",
   "execution_count": 22,
   "id": "30cc2f0b",
   "metadata": {},
   "outputs": [
    {
     "data": {
      "text/plain": [
       "0"
      ]
     },
     "execution_count": 22,
     "metadata": {},
     "output_type": "execute_result"
    }
   ],
   "source": [
    "dict_polymer_pairs['CB']"
   ]
  },
  {
   "cell_type": "code",
   "execution_count": 23,
   "id": "34c4dd53",
   "metadata": {},
   "outputs": [
    {
     "data": {
      "text/plain": [
       "'C'"
      ]
     },
     "execution_count": 23,
     "metadata": {},
     "output_type": "execute_result"
    }
   ],
   "source": [
    "dict_polymer_rules['CB']"
   ]
  },
  {
   "cell_type": "markdown",
   "id": "96b7b6ae",
   "metadata": {},
   "source": [
    "# Problem "
   ]
  },
  {
   "cell_type": "markdown",
   "id": "0ce832c9",
   "metadata": {},
   "source": [
    "#### Part 1: Run 10 loops of polymer growth, and subtract least frequent letter from most"
   ]
  },
  {
   "cell_type": "code",
   "execution_count": 24,
   "id": "afd9c7f2",
   "metadata": {},
   "outputs": [
    {
     "name": "stdout",
     "output_type": "stream",
     "text": [
      "Day 14, part 1: 2375\n"
     ]
    }
   ],
   "source": [
    "import copy\n",
    "import pandas as pd\n",
    "\n",
    "dict_polymer_pairs_pt1 = copy.deepcopy(dict_polymer_pairs)\n",
    "\n",
    "\n",
    "def polymer_growth(dict_polymer):\n",
    "    \n",
    "    new_dict = copy.deepcopy(dict_polymer)\n",
    "    \n",
    "    for pair in dict_polymer.keys():\n",
    "        n_old_pair = dict_polymer[pair]\n",
    "        \n",
    "        # Construct new polymer pairs\n",
    "        new_element = dict_polymer_rules[pair]\n",
    "        old_elements = list(pair)\n",
    "        new_dict[old_elements[0] + new_element] += n_old_pair\n",
    "        new_dict[new_element + old_elements[1]] += n_old_pair\n",
    "        \n",
    "        # And subtract from existing pair\n",
    "        new_dict[pair] -= n_old_pair\n",
    "        \n",
    "    return new_dict\n",
    "\n",
    "# Loop\n",
    "for step in range(10):\n",
    "    dict_polymer_pairs_pt1 = polymer_growth(dict_polymer_pairs_pt1)\n",
    "    \n",
    "    \n",
    "# Convert into elements\n",
    "def get_elements(dict_polymer):\n",
    "    \n",
    "    dict_elements = defaultdict(float)\n",
    "    \n",
    "    for pair, num in dict_polymer.items():\n",
    "        elements = list(pair)\n",
    "        \n",
    "        # Prevent double counting by halving numbers added\n",
    "        dict_elements[elements[0]] += (num / 2)\n",
    "        dict_elements[elements[1]] += (num / 2)\n",
    "    \n",
    "    # Start and end elements of initial polymer won't be double counted, so add 0.5 back\n",
    "    dict_elements[list_initial_polymer[0]] += 0.5\n",
    "    dict_elements[list_initial_polymer[-1]] += 0.5\n",
    "    \n",
    "    return dict_elements\n",
    "\n",
    "\n",
    "dict_elements_pt1 = get_elements(dict_polymer_pairs_pt1)\n",
    "\n",
    "# Convert into dataframe and sort\n",
    "df_elements = pd.DataFrame.from_dict(dict_elements_pt1, \n",
    "                                     orient='index',\n",
    "                                     columns=['count']).sort_values(by='count')\n",
    "\n",
    "\n",
    "print('Day 14, part 1:', int(df_elements.sort_values(by='count', ascending=False).iloc[0] - df_elements.iloc[0]))"
   ]
  },
  {
   "cell_type": "markdown",
   "id": "116a9e44",
   "metadata": {},
   "source": [
    "#### Part 2: 40 steps"
   ]
  },
  {
   "cell_type": "code",
   "execution_count": 26,
   "id": "89a390aa",
   "metadata": {},
   "outputs": [
    {
     "name": "stdout",
     "output_type": "stream",
     "text": [
      "Day 14, part 2: 1976896901756\n"
     ]
    }
   ],
   "source": [
    "dict_polymer_pairs_pt2 = copy.deepcopy(dict_polymer_pairs)\n",
    "\n",
    "# Loop\n",
    "for step in range(40):\n",
    "    dict_polymer_pairs_pt2 = polymer_growth(dict_polymer_pairs_pt2)\n",
    "    \n",
    "dict_elements_pt2 = get_elements(dict_polymer_pairs_pt2)\n",
    "\n",
    "# Convert into dataframe and sort\n",
    "df_elements = pd.DataFrame.from_dict(dict_elements_pt2, \n",
    "                                     orient='index',\n",
    "                                     columns=['count']).sort_values(by='count')\n",
    "\n",
    "print('Day 14, part 2:', int(df_elements.sort_values(by='count', ascending=False).iloc[0] - df_elements.iloc[0]))"
   ]
  }
 ],
 "metadata": {
  "kernelspec": {
   "display_name": "Python 3",
   "language": "python",
   "name": "python3"
  },
  "language_info": {
   "codemirror_mode": {
    "name": "ipython",
    "version": 3
   },
   "file_extension": ".py",
   "mimetype": "text/x-python",
   "name": "python",
   "nbconvert_exporter": "python",
   "pygments_lexer": "ipython3",
   "version": "3.7.6"
  }
 },
 "nbformat": 4,
 "nbformat_minor": 5
}
