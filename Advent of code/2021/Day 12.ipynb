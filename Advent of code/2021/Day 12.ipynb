{
 "cells": [
  {
   "cell_type": "code",
   "execution_count": 1,
   "id": "ec3cd493",
   "metadata": {},
   "outputs": [],
   "source": [
    "# Get autocomplete to work\n",
    "%config Completer.use_jedi = False\n",
    "\n",
    "# Ensure external Python files are refreshed when reimporting things\n",
    "%load_ext autoreload\n",
    "%autoreload 2"
   ]
  },
  {
   "cell_type": "code",
   "execution_count": 2,
   "id": "5f0f8655",
   "metadata": {},
   "outputs": [
    {
     "name": "stdout",
     "output_type": "stream",
     "text": [
      "21\n"
     ]
    },
    {
     "data": {
      "text/plain": [
       "['ma-start', 'YZ-rv', 'MP-rv', 'vc-MP', 'QD-kj']"
      ]
     },
     "execution_count": 2,
     "metadata": {},
     "output_type": "execute_result"
    }
   ],
   "source": [
    "from load_functions import load_text\n",
    "    \n",
    "text_input = load_text(day=12)\n",
    "print(len(text_input))\n",
    "text_input[:5]"
   ]
  },
  {
   "cell_type": "markdown",
   "id": "3c2a52e4",
   "metadata": {},
   "source": [
    "Convert to list of pairs"
   ]
  },
  {
   "cell_type": "code",
   "execution_count": 3,
   "id": "fe3f37d1",
   "metadata": {},
   "outputs": [
    {
     "data": {
      "text/plain": [
       "[['ma', 'start'],\n",
       " ['YZ', 'rv'],\n",
       " ['MP', 'rv'],\n",
       " ['vc', 'MP'],\n",
       " ['QD', 'kj'],\n",
       " ['rv', 'kj'],\n",
       " ['ma', 'rv'],\n",
       " ['YZ', 'zd'],\n",
       " ['UB', 'rv'],\n",
       " ['MP', 'xe'],\n",
       " ['start', 'MP'],\n",
       " ['zd', 'end'],\n",
       " ['ma', 'UB'],\n",
       " ['ma', 'MP'],\n",
       " ['UB', 'xe'],\n",
       " ['end', 'UB'],\n",
       " ['ju', 'MP'],\n",
       " ['ma', 'xe'],\n",
       " ['zd', 'UB'],\n",
       " ['start', 'xe'],\n",
       " ['YZ', 'end']]"
      ]
     },
     "execution_count": 3,
     "metadata": {},
     "output_type": "execute_result"
    }
   ],
   "source": [
    "list_input = [inp.split('-') for inp in text_input]\n",
    "list_input"
   ]
  },
  {
   "cell_type": "markdown",
   "id": "96b7b6ae",
   "metadata": {},
   "source": [
    "# Problem "
   ]
  },
  {
   "cell_type": "markdown",
   "id": "0ce832c9",
   "metadata": {},
   "source": [
    "#### Part 1: Find all paths from the start to the end that visit small caves (lowercase letters) once at most\n",
    "\n",
    "Adapted from https://github.com/Rtchaik/AoC-2021/blob/main/Day12/solution.py to make part 2 easier"
   ]
  },
  {
   "cell_type": "code",
   "execution_count": 25,
   "id": "afd9c7f2",
   "metadata": {},
   "outputs": [
    {
     "name": "stdout",
     "output_type": "stream",
     "text": [
      "Day 9, part 1: 4549\n"
     ]
    }
   ],
   "source": [
    "import numpy as np\n",
    "\n",
    "input_pt1 = list_input\n",
    "\n",
    "# Initialise empty dictionary with all nodes\n",
    "dict_nodes = {n: [] for n in np.unique(np.array(input_pt1).flatten())}\n",
    "\n",
    "# Convert all pairs into a dictionary of possible connections\n",
    "for (node1, node2) in input_pt1:\n",
    "    \n",
    "    dict_nodes[node1].append(node2)\n",
    "    dict_nodes[node2].append(node1)\n",
    "\n",
    "\n",
    "# Define recursive search to find paths\n",
    "def path_search(dict_node_connections, path=['start']):\n",
    "    \n",
    "    n_paths = 0\n",
    "    \n",
    "    for node in dict_node_connections[path[-1]]:\n",
    "        if node.isupper() or (node not in path):\n",
    "            n_paths += 1 if node == 'end' else path_search(dict_node_connections, path + [node])\n",
    "                \n",
    "    return n_paths\n",
    "\n",
    "\n",
    "print('Day 9, part 1:', path_search(dict_nodes))  "
   ]
  },
  {
   "cell_type": "markdown",
   "id": "116a9e44",
   "metadata": {},
   "source": [
    "#### Part 2: You can now visit a single small cave twice"
   ]
  },
  {
   "cell_type": "markdown",
   "id": "cec5341c",
   "metadata": {},
   "source": [
    "Taken from [here](https://www.reddit.com/r/adventofcode/comments/rehj2r/comment/ho7x83o/?utm_source=share&utm_medium=web2x&context=3), as I couldn't find a recursive solution that didn't melt my mac..."
   ]
  },
  {
   "cell_type": "code",
   "execution_count": 7,
   "id": "78e453d2",
   "metadata": {},
   "outputs": [
    {
     "name": "stdout",
     "output_type": "stream",
     "text": [
      "4549 120535\n"
     ]
    }
   ],
   "source": [
    "from collections import defaultdict\n",
    "neighbours = defaultdict(list)\n",
    "\n",
    "def count_paths(part, seen=[], cave='start'):\n",
    "    \n",
    "    # Valid path\n",
    "    if cave == 'end': \n",
    "        return 1\n",
    "    \n",
    "    if cave in seen:\n",
    "        \n",
    "        # Invalid path\n",
    "        if cave == 'start': \n",
    "            return 0\n",
    "        \n",
    "        if cave.islower():\n",
    "            if part == 1: \n",
    "                return 0\n",
    "            else: \n",
    "                part = 1\n",
    "\n",
    "    return sum(count_paths(part, seen+[cave], node) for node in dict_nodes[cave])\n",
    "\n",
    "print(count(part=1), count(part=2))"
   ]
  }
 ],
 "metadata": {
  "kernelspec": {
   "display_name": "Python 3",
   "language": "python",
   "name": "python3"
  },
  "language_info": {
   "codemirror_mode": {
    "name": "ipython",
    "version": 3
   },
   "file_extension": ".py",
   "mimetype": "text/x-python",
   "name": "python",
   "nbconvert_exporter": "python",
   "pygments_lexer": "ipython3",
   "version": "3.7.6"
  }
 },
 "nbformat": 4,
 "nbformat_minor": 5
}
