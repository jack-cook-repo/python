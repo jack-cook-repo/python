{
 "cells": [
  {
   "cell_type": "code",
   "execution_count": 1,
   "id": "ec3cd493",
   "metadata": {},
   "outputs": [],
   "source": [
    "# Get autocomplete to work\n",
    "%config Completer.use_jedi = False\n",
    "\n",
    "# Ensure external Python files are refreshed when reimporting things\n",
    "%load_ext autoreload\n",
    "%autoreload 2"
   ]
  },
  {
   "cell_type": "code",
   "execution_count": 2,
   "id": "5f0f8655",
   "metadata": {},
   "outputs": [
    {
     "data": {
      "text/plain": [
       "['forward 8', 'forward 3', 'down 8', 'down 2', 'up 1']"
      ]
     },
     "execution_count": 2,
     "metadata": {},
     "output_type": "execute_result"
    }
   ],
   "source": [
    "from load_functions import load_text\n",
    "    \n",
    "text_input = load_text(day=2)\n",
    "text_input[:5]"
   ]
  },
  {
   "cell_type": "markdown",
   "id": "30cdd18b",
   "metadata": {},
   "source": [
    "Get instructions as list of lists"
   ]
  },
  {
   "cell_type": "code",
   "execution_count": 7,
   "id": "40f22b19",
   "metadata": {},
   "outputs": [
    {
     "data": {
      "text/plain": [
       "[['forward', 8], ['forward', 3], ['down', 8]]"
      ]
     },
     "execution_count": 7,
     "metadata": {},
     "output_type": "execute_result"
    }
   ],
   "source": [
    "instructions = [[inst.split()[0], int(inst.split()[1])] for inst in text_input]\n",
    "instructions[:3]"
   ]
  },
  {
   "cell_type": "markdown",
   "id": "96b7b6ae",
   "metadata": {},
   "source": [
    "# Problem "
   ]
  },
  {
   "cell_type": "markdown",
   "id": "0ce832c9",
   "metadata": {},
   "source": [
    "#### Part 1: get final horizontal/depth positions and multiply them together"
   ]
  },
  {
   "cell_type": "code",
   "execution_count": 21,
   "id": "41f2af07",
   "metadata": {},
   "outputs": [
    {
     "name": "stdout",
     "output_type": "stream",
     "text": [
      "Day 2, part 1: 1855814\n"
     ]
    }
   ],
   "source": [
    "class Submarine:\n",
    "    \n",
    "    def __init__(self, horizontal, depth):\n",
    "        self.horizontal = horizontal\n",
    "        self.depth = depth\n",
    "                \n",
    "    def move(self, move_type, units):\n",
    "        if move_type == 'forward':\n",
    "            self.horizontal += units\n",
    "        else:\n",
    "            self.depth += units * (-1 if move_type == 'up' else 1)\n",
    "            \n",
    "mySub = Submarine(0, 0)\n",
    "for (move_type, units) in instructions:\n",
    "    mySub.move(move_type, units)\n",
    "\n",
    "print('Day 2, part 1:', mySub.depth * mySub.horizontal)"
   ]
  },
  {
   "cell_type": "markdown",
   "id": "5b5327b4",
   "metadata": {},
   "source": [
    "#### Part 2: new logic for movement"
   ]
  },
  {
   "cell_type": "code",
   "execution_count": 22,
   "id": "9c5c1c59",
   "metadata": {},
   "outputs": [
    {
     "name": "stdout",
     "output_type": "stream",
     "text": [
      "Day 2, part 2: 1845455714\n"
     ]
    }
   ],
   "source": [
    "class OtherSubmarine:\n",
    "    \n",
    "    def __init__(self, horizontal, depth, aim):\n",
    "        self.horizontal = horizontal\n",
    "        self.depth = depth\n",
    "        self.aim = aim\n",
    "            \n",
    "    def move(self, move_type, units):\n",
    "        if move_type == 'forward':\n",
    "            self.horizontal += units\n",
    "            self.depth += self.aim * units\n",
    "        else:\n",
    "            self.aim += units * (-1 if move_type == 'up' else 1)\n",
    "            \n",
    "            \n",
    "myOtherSub = OtherSubmarine(0, 0, 0)\n",
    "for (move_type, units) in instructions:\n",
    "    myOtherSub.move(move_type, units)\n",
    "\n",
    "print('Day 2, part 2:', myOtherSub.depth * myOtherSub.horizontal)"
   ]
  }
 ],
 "metadata": {
  "kernelspec": {
   "display_name": "Python 3",
   "language": "python",
   "name": "python3"
  },
  "language_info": {
   "codemirror_mode": {
    "name": "ipython",
    "version": 3
   },
   "file_extension": ".py",
   "mimetype": "text/x-python",
   "name": "python",
   "nbconvert_exporter": "python",
   "pygments_lexer": "ipython3",
   "version": "3.7.6"
  }
 },
 "nbformat": 4,
 "nbformat_minor": 5
}
