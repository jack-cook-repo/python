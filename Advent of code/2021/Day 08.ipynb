{
 "cells": [
  {
   "cell_type": "code",
   "execution_count": 1,
   "id": "ec3cd493",
   "metadata": {},
   "outputs": [],
   "source": [
    "# Get autocomplete to work\n",
    "%config Completer.use_jedi = False\n",
    "\n",
    "# Ensure external Python files are refreshed when reimporting things\n",
    "%load_ext autoreload\n",
    "%autoreload 2"
   ]
  },
  {
   "cell_type": "code",
   "execution_count": 7,
   "id": "5f0f8655",
   "metadata": {},
   "outputs": [
    {
     "name": "stdout",
     "output_type": "stream",
     "text": [
      "200\n"
     ]
    },
    {
     "data": {
      "text/plain": [
       "['ecdbfag deacfb acdgb cdg acdbf gdfb efacdg gd cagdbf beacg | cdg dcebgaf gbdf bdacg',\n",
       " 'fadecg gdbecaf agbfd fgdcb gab ebagdf feabcg deab gdefa ab | adfbg ab fcgdbae bfgecda',\n",
       " 'cgebad edfagcb fg fedg ebfca gcefb fcedgb dbagcf cgf cdbeg | cfg acfbe bcgdafe dgeafcb',\n",
       " 'bgcde cbefg gd dbeafc afbcgde bedgca gacd dbg cedba fbegda | agfcebd adgfbce dgb fgceb',\n",
       " 'gadcbe gcade debfac fdagce egdbf cfedg fbgcade gafc dcf fc | fcga eacfdg gfca fdcbea']"
      ]
     },
     "execution_count": 7,
     "metadata": {},
     "output_type": "execute_result"
    }
   ],
   "source": [
    "from load_functions import load_text\n",
    "    \n",
    "text_input = load_text(day=8)\n",
    "print(len(text_input))\n",
    "text_input[:5]"
   ]
  },
  {
   "cell_type": "markdown",
   "id": "3c2a52e4",
   "metadata": {},
   "source": [
    "Convert to list of signals and displays"
   ]
  },
  {
   "cell_type": "code",
   "execution_count": 4,
   "id": "fe3f37d1",
   "metadata": {},
   "outputs": [
    {
     "data": {
      "text/plain": [
       "[['ecdbfag',\n",
       "  'deacfb',\n",
       "  'acdgb',\n",
       "  'cdg',\n",
       "  'acdbf',\n",
       "  'gdfb',\n",
       "  'efacdg',\n",
       "  'gd',\n",
       "  'cagdbf',\n",
       "  'beacg'],\n",
       " ['cdg', 'dcebgaf', 'gbdf', 'bdacg']]"
      ]
     },
     "execution_count": 4,
     "metadata": {},
     "output_type": "execute_result"
    }
   ],
   "source": [
    "signals_displays = []\n",
    "for line in text_input:\n",
    "    (signals, displays) = line.split(' | ')\n",
    "    signals_displays.append([signals.split(), displays.split()])\n",
    "\n",
    "signals_displays[0]"
   ]
  },
  {
   "cell_type": "markdown",
   "id": "96b7b6ae",
   "metadata": {},
   "source": [
    "# Problem "
   ]
  },
  {
   "cell_type": "markdown",
   "id": "0ce832c9",
   "metadata": {},
   "source": [
    "#### Part 1: Figure out how many 1s, 4s, 7s, and 8s there are\n",
    "\n",
    "These consist of 2, 4, 3, and 7 segments respectively - and don't share this number of segments with any other digit"
   ]
  },
  {
   "cell_type": "code",
   "execution_count": 6,
   "id": "49537c2b",
   "metadata": {},
   "outputs": [
    {
     "name": "stdout",
     "output_type": "stream",
     "text": [
      "Day 6, part 1: 525\n"
     ]
    }
   ],
   "source": [
    "num_1s4s7s8s = 0\n",
    "\n",
    "# We don't need to evaluate the inputs for this part of the problem\n",
    "for (_, displays) in signals_displays:\n",
    "    for d in displays:\n",
    "        if len(d) in (2, 3, 4, 7):\n",
    "            num_1s4s7s8s += 1\n",
    "\n",
    "print('Day 8, part 1:', num_1s4s7s8s)"
   ]
  },
  {
   "cell_type": "markdown",
   "id": "116a9e44",
   "metadata": {},
   "source": [
    "#### Part 2: Figure out exactly what digits are shown on the displays, and add up their values"
   ]
  },
  {
   "cell_type": "code",
   "execution_count": 75,
   "id": "e2088f6e",
   "metadata": {},
   "outputs": [
    {
     "name": "stdout",
     "output_type": "stream",
     "text": [
      "Day 6, part 2: 1083859\n"
     ]
    }
   ],
   "source": [
    "'''\n",
    "First, create dictionary to turn display inputs (correctly mapped) into output digits.\n",
    "\n",
    "Inputs are shown as below\n",
    "\n",
    " aaaa  \n",
    "b    c  \n",
    "b    c  \n",
    " dddd   \n",
    "e    f  \n",
    "e    f  \n",
    " gggg \n",
    " \n",
    "So an input of 'acf' would result in a 7, an input of 'bcdf' would result in a 4, and so on.\n",
    "'''\n",
    "dict_digit_display = {\n",
    "    'abcef':   0,\n",
    "    'cf':      1,\n",
    "    'acdeg':   2,\n",
    "    'acdfg':   3,\n",
    "    'bcdf':    4,\n",
    "    'abdfg':   5,\n",
    "    'abdefg':  6,\n",
    "    'acf':     7,\n",
    "    'abcdefg': 8,\n",
    "    'abcdfg':  9,\n",
    "    'abcefg':  0\n",
    "}\n",
    "\n",
    "# Used as possible segments a wire maps to\n",
    "list_alpha = ['a', 'b', 'c', 'd', 'e', 'f', 'g']\n",
    "\n",
    "# Then, figure out what the mapping of the input wires to the display (correct) segments is\n",
    "def get_correct_mapping(signals):\n",
    "\n",
    "    # First, sort each signal alphabetically and turn it into a list\n",
    "    sorted_signals = [list(''.join(sorted(s))) for s in signals]\n",
    "    \n",
    "    # Then, sort this list by length\n",
    "    # Returns a list with lengths 2, 3, 4, 5, 5, 5, 6, 6, 6, and 7\n",
    "    len_sorted_signals = list(sorted(sorted_signals, key=len))\n",
    "    \n",
    "    # We know the top segment is on for a 7 (3 segments), and off for a 1 (2 segments)\n",
    "    # So we can just check which wire is in the 3 length string and not the 2, and map that to segment a\n",
    "    a_segment_wire = [alpha for alpha in len_sorted_signals[1] if alpha not in len_sorted_signals[0]][0]\n",
    "    \n",
    "    # Conversely, we know that the other 2 segments used in 1 & 7 must correspond to c & f\n",
    "    # We don't know the order\n",
    "    c_f_segment_wires = [alpha for alpha in len_sorted_signals[1] if alpha in len_sorted_signals[0]]\n",
    "    \n",
    "    # Then, we know that 4 has 4 segments, and that the wires for c & f have already been tagged above\n",
    "    # So we are left with b & d wires\n",
    "    b_d_segment_wires = [alpha for alpha in len_sorted_signals[2] if alpha not in len_sorted_signals[1]]\n",
    "    \n",
    "    # We know what wire segment a is, and for all 5 segment digits (2, 3, 5) we know that they all share \n",
    "    # 3 segments: a, d, and g. Therefore we can figure out what wires correspond to d & g\n",
    "    d_g_segment_wires = [alpha for alpha in len_sorted_signals[3] if (alpha in len_sorted_signals[4]) and (alpha in len_sorted_signals[5])]\n",
    "    d_g_segment_wires.remove(a_segment_wire)\n",
    "    \n",
    "    # Now, we can deduce what the b, d, and g segment wires are\n",
    "    b_segment_wire = [alpha for alpha in b_d_segment_wires if alpha not in d_g_segment_wires][0]\n",
    "    d_segment_wire = [alpha for alpha in b_d_segment_wires if alpha in d_g_segment_wires][0]\n",
    "    g_segment_wire = [alpha for alpha in d_g_segment_wires if alpha not in b_d_segment_wires][0]\n",
    "    \n",
    "    # As we know a, b, d, and g. We can deduce which signal is 5 by the 5 segment signal that contains all 4 of these\n",
    "    a_b_d_g_wires = [a_segment_wire, b_segment_wire, d_segment_wire, g_segment_wire]\n",
    "    \n",
    "    for five_segment_signal in len_sorted_signals[3:6]:\n",
    "        assert len(five_segment_signal) == 5\n",
    "        \n",
    "        # Check how many of the segments match\n",
    "        n_matches = 0\n",
    "        for wire in five_segment_signal:\n",
    "            if wire in a_b_d_g_wires:\n",
    "                n_matches += 1\n",
    "        \n",
    "        # If 4 match, we know the remaining wire must map to segment f\n",
    "        if n_matches == 4:\n",
    "            f_segment_wire = [alpha for alpha in five_segment_signal if alpha not in a_b_d_g_wires][0]\n",
    "            \n",
    "    \n",
    "    # Then, we know which remaining wire is c\n",
    "    c_segment_wire = [alpha for alpha in c_f_segment_wires if alpha != f_segment_wire][0]\n",
    "    \n",
    "    # And finally, the last wire is e\n",
    "    other_wires = [a_segment_wire, b_segment_wire, c_segment_wire, d_segment_wire, f_segment_wire, g_segment_wire]\n",
    "    e_segment_wire = [alpha for alpha in list_alpha if alpha not in other_wires][0]\n",
    "    \n",
    "    # Write outputs\n",
    "    dict_mapping = {\n",
    "        a_segment_wire: 'a',\n",
    "        b_segment_wire: 'b',\n",
    "        c_segment_wire: 'c',\n",
    "        d_segment_wire: 'd',\n",
    "        e_segment_wire: 'e',\n",
    "        f_segment_wire: 'f',\n",
    "        g_segment_wire: 'g',\n",
    "    }\n",
    "        \n",
    "    return dict_mapping\n",
    "\n",
    "\n",
    "# Create function to get digits\n",
    "def get_digits(signals, digits):\n",
    "    \n",
    "    # Get mapping of wires to segments\n",
    "    dict_mapping = get_correct_mapping(signals)\n",
    "\n",
    "    # Then convert each digit into an output digit\n",
    "    output_digit_list = []\n",
    "    for digit in digits:\n",
    "        \n",
    "        # Turn 'cb' into ['c', 'b']\n",
    "        sorted_digit_wires = list(digit)\n",
    "        \n",
    "        # Look up what segment those inputs correspond to\n",
    "        sorted_digit_segments = ''.join(sorted([dict_mapping[wire] for wire in sorted_digit_wires]))\n",
    "        \n",
    "        # And look up what digit it corresponds to\n",
    "        output_digit_list.append(str(dict_digit_display[sorted_digit_segments]))\n",
    "        \n",
    "    return int(''.join(output_digit_list))\n",
    "\n",
    "\n",
    "# Then add the digits up\n",
    "result_pt2 = 0\n",
    "for (signals, displays) in signals_displays:\n",
    "    result_pt2 += get_digits(signals, displays)\n",
    "    \n",
    "print('Day 6, part 2:', result_pt2)\n"
   ]
  }
 ],
 "metadata": {
  "kernelspec": {
   "display_name": "Python 3",
   "language": "python",
   "name": "python3"
  },
  "language_info": {
   "codemirror_mode": {
    "name": "ipython",
    "version": 3
   },
   "file_extension": ".py",
   "mimetype": "text/x-python",
   "name": "python",
   "nbconvert_exporter": "python",
   "pygments_lexer": "ipython3",
   "version": "3.7.6"
  }
 },
 "nbformat": 4,
 "nbformat_minor": 5
}
