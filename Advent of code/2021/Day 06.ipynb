{
 "cells": [
  {
   "cell_type": "code",
   "execution_count": 1,
   "id": "ec3cd493",
   "metadata": {},
   "outputs": [],
   "source": [
    "# Get autocomplete to work\n",
    "%config Completer.use_jedi = False\n",
    "\n",
    "# Ensure external Python files are refreshed when reimporting things\n",
    "%load_ext autoreload\n",
    "%autoreload 2"
   ]
  },
  {
   "cell_type": "code",
   "execution_count": 2,
   "id": "5f0f8655",
   "metadata": {},
   "outputs": [
    {
     "data": {
      "text/plain": [
       "['1,1,1,2,1,5,1,1,2,1,4,1,4,1,1,1,1,1,1,4,1,1,1,1,4,1,1,5,1,3,1,2,1,1,1,2,1,1,1,4,1,1,3,1,5,1,1,1,1,3,5,5,2,1,1,1,2,1,1,1,1,1,1,1,1,5,4,1,1,1,1,1,3,1,1,2,4,4,1,1,1,1,1,1,3,1,1,1,1,5,1,3,1,5,1,2,1,1,5,1,1,1,5,3,3,1,4,1,3,1,3,1,1,1,1,3,1,4,1,1,1,1,1,2,1,1,1,4,2,1,1,5,1,1,1,2,1,1,1,1,1,1,1,1,2,1,1,1,1,1,5,1,1,1,1,3,1,1,1,1,1,3,4,1,2,1,3,2,1,1,2,1,1,1,1,4,1,1,1,1,4,1,1,1,1,1,2,1,1,4,1,1,1,5,3,2,2,1,1,3,1,5,1,5,1,1,1,1,1,5,1,4,1,2,1,1,1,1,2,1,3,1,1,1,1,1,1,2,1,1,1,3,1,4,3,1,4,1,3,2,1,1,1,1,1,3,1,1,1,1,1,1,1,1,1,1,2,1,5,1,1,1,1,2,1,1,1,3,5,1,1,1,1,5,1,1,2,1,2,4,2,2,1,1,1,5,2,1,1,5,1,1,1,1,5,1,1,1,2,1']"
      ]
     },
     "execution_count": 2,
     "metadata": {},
     "output_type": "execute_result"
    }
   ],
   "source": [
    "from load_functions import load_text\n",
    "    \n",
    "text_input = load_text(day=6)\n",
    "text_input[:5]"
   ]
  },
  {
   "cell_type": "markdown",
   "id": "30cdd18b",
   "metadata": {},
   "source": [
    "Get inputs as list of ints"
   ]
  },
  {
   "cell_type": "code",
   "execution_count": 5,
   "id": "40f22b19",
   "metadata": {},
   "outputs": [
    {
     "data": {
      "text/plain": [
       "[1, 1, 1, 2, 1, 5, 1, 1, 2, 1]"
      ]
     },
     "execution_count": 5,
     "metadata": {},
     "output_type": "execute_result"
    }
   ],
   "source": [
    "fish_list = [int(n) for n in text_input[0].split(',')]\n",
    "fish_list[:10]"
   ]
  },
  {
   "cell_type": "markdown",
   "id": "96b7b6ae",
   "metadata": {},
   "source": [
    "# Problem "
   ]
  },
  {
   "cell_type": "markdown",
   "id": "0ce832c9",
   "metadata": {},
   "source": [
    "#### Part 1: How many fish are present after day 80?\n",
    "#### Part 2: How many fish are present after day 256?"
   ]
  },
  {
   "cell_type": "code",
   "execution_count": 70,
   "id": "f5ae7a49",
   "metadata": {},
   "outputs": [
    {
     "name": "stdout",
     "output_type": "stream",
     "text": [
      "Day 6, part 1: 391671\n",
      "Day 6, part 2: 1754000560399\n"
     ]
    }
   ],
   "source": [
    "import numpy as np\n",
    "import copy\n",
    "\n",
    "# Initialise\n",
    "fish_list_pt1 = copy.deepcopy(fish_list)\n",
    "\n",
    "\n",
    "# Group by number of fish at each number\n",
    "unique, counts = np.unique(fish_list_pt1, return_counts=True)\n",
    "dict_counts = dict(zip(unique, counts))\n",
    "\n",
    "# Fill blanks\n",
    "for i in range(9):\n",
    "    if i not in dict_counts.keys():\n",
    "        dict_counts[i] = 0\n",
    "\n",
    "# Loop through 80 days\n",
    "for day in range(256):\n",
    "    \n",
    "    old_zeros = dict_counts[0]\n",
    "    \n",
    "    # Update fish\n",
    "    for i in range(8): \n",
    "        dict_counts[i] = dict_counts[i+1]\n",
    "        \n",
    "    # Add new ones and reset fish from 0\n",
    "    dict_counts[8] = old_zeros\n",
    "    dict_counts[6] += old_zeros\n",
    "    \n",
    "    if day == 79:    \n",
    "        print('Day 6, part 1:', sum(dict_counts.values()))\n",
    "    \n",
    "print('Day 6, part 2:', sum(dict_counts.values()))"
   ]
  }
 ],
 "metadata": {
  "kernelspec": {
   "display_name": "Python 3",
   "language": "python",
   "name": "python3"
  },
  "language_info": {
   "codemirror_mode": {
    "name": "ipython",
    "version": 3
   },
   "file_extension": ".py",
   "mimetype": "text/x-python",
   "name": "python",
   "nbconvert_exporter": "python",
   "pygments_lexer": "ipython3",
   "version": "3.7.6"
  }
 },
 "nbformat": 4,
 "nbformat_minor": 5
}
