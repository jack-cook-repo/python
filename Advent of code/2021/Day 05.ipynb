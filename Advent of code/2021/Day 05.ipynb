{
 "cells": [
  {
   "cell_type": "code",
   "execution_count": 1,
   "id": "ec3cd493",
   "metadata": {},
   "outputs": [],
   "source": [
    "# Get autocomplete to work\n",
    "%config Completer.use_jedi = False\n",
    "\n",
    "# Ensure external Python files are refreshed when reimporting things\n",
    "%load_ext autoreload\n",
    "%autoreload 2"
   ]
  },
  {
   "cell_type": "code",
   "execution_count": 2,
   "id": "5f0f8655",
   "metadata": {},
   "outputs": [
    {
     "data": {
      "text/plain": [
       "['72,504 -> 422,154',\n",
       " '877,851 -> 680,654',\n",
       " '447,989 -> 517,989',\n",
       " '173,125 -> 981,933',\n",
       " '736,255 -> 374,617']"
      ]
     },
     "execution_count": 2,
     "metadata": {},
     "output_type": "execute_result"
    }
   ],
   "source": [
    "from load_functions import load_text\n",
    "    \n",
    "text_input = load_text(day=5)\n",
    "text_input[:5]"
   ]
  },
  {
   "cell_type": "markdown",
   "id": "30cdd18b",
   "metadata": {},
   "source": [
    "Get inputs as pairs of co-ordinates"
   ]
  },
  {
   "cell_type": "code",
   "execution_count": 10,
   "id": "40f22b19",
   "metadata": {},
   "outputs": [
    {
     "data": {
      "text/plain": [
       "[[[72, 504], [422, 154]],\n",
       " [[877, 851], [680, 654]],\n",
       " [[447, 989], [517, 989]],\n",
       " [[173, 125], [981, 933]],\n",
       " [[736, 255], [374, 617]]]"
      ]
     },
     "execution_count": 10,
     "metadata": {},
     "output_type": "execute_result"
    }
   ],
   "source": [
    "co_ord_list = []\n",
    "\n",
    "for pair in text_input:\n",
    "    \n",
    "    # Split by arrow\n",
    "    co_ord1, co_ord2 = pair.split(' -> ')\n",
    "    \n",
    "    # Then split each co-ordinate into pair of ints\n",
    "    co_ord1_int = [int(n) for n in co_ord1.split(',')]\n",
    "    co_ord2_int = [int(n) for n in co_ord2.split(',')]\n",
    "    \n",
    "    # Finally, append to list\n",
    "    co_ord_list.append([co_ord1_int, co_ord2_int])\n",
    "\n",
    "co_ord_list[:5]"
   ]
  },
  {
   "cell_type": "markdown",
   "id": "96b7b6ae",
   "metadata": {},
   "source": [
    "# Problem "
   ]
  },
  {
   "cell_type": "markdown",
   "id": "0ce832c9",
   "metadata": {},
   "source": [
    "#### Part 1: for all horizontal and vertical lines (x1=x2 or y1=y2), see how many cases there are where 2 or more lines overlap"
   ]
  },
  {
   "cell_type": "code",
   "execution_count": 50,
   "id": "f5ae7a49",
   "metadata": {},
   "outputs": [
    {
     "name": "stdout",
     "output_type": "stream",
     "text": [
      "Day 5, part 1: 6666\n"
     ]
    }
   ],
   "source": [
    "import pandas as pd\n",
    "import numpy as np\n",
    "\n",
    "# First, build function to construct initial dataframe\n",
    "def build_empty_df():\n",
    "    \n",
    "    # Initialise empty dataframe\n",
    "    df = pd.DataFrame(np.zeros((1000,1000)).astype(int))\n",
    "    \n",
    "    return df\n",
    "\n",
    "\n",
    "# Then, build function to figure out which co-ordinates are horiztonal or vertical lines\n",
    "def get_horizontal_or_vertical(co_ords):\n",
    "    \n",
    "    output_co_ords = []\n",
    "    \n",
    "    for (co_ord1, co_ord2) in co_ords:\n",
    "        \n",
    "        # Check x1=x2 or y1=y2\n",
    "        if (co_ord1[0] == co_ord2[0]) or (co_ord1[1] == co_ord2[1]):\n",
    "            output_co_ords.append([co_ord1, co_ord2])\n",
    "            \n",
    "    return output_co_ords\n",
    "\n",
    "            \n",
    "co_ord_list_pt1 = get_horizontal_or_vertical(co_ord_list)\n",
    "\n",
    "\n",
    "# Then build function to increment dataframe values by 1 each time a line crosses a co-ordinate\n",
    "def increment_df(df, co_ords):\n",
    "    \n",
    "    # Go through each co_ordinate pair\n",
    "    for ((co_ord1x, co_ord1y), (co_ord2x, co_ord2y)) in co_ords:\n",
    "        \n",
    "        # For points\n",
    "        if (co_ord1y == co_ord2y) and (co_ord1x == co_ord2x):\n",
    "            \n",
    "            df.iloc[co_ord1x, co_ord1y] += 1\n",
    "        \n",
    "        # For horizontal lines\n",
    "        elif co_ord1y == co_ord2y:\n",
    "            \n",
    "            # Sort into max and min\n",
    "            [min_x, max_x] = list(sorted([co_ord1x, co_ord2x])) \n",
    "            \n",
    "            # Increment\n",
    "            for i in range(min_x, max_x+1):\n",
    "                df.iloc[i, co_ord1y] += 1\n",
    "            \n",
    "            \n",
    "        # For vertical lines\n",
    "        elif co_ord1x == co_ord2x:\n",
    "            \n",
    "            # Sort into max and min\n",
    "            [min_y, max_y] = list(sorted([co_ord1y, co_ord2y])) \n",
    "            \n",
    "            # Increment\n",
    "            for i in range(min_y, max_y+1):\n",
    "                df.iloc[co_ord1x, i] += 1\n",
    "            \n",
    "        \n",
    "        # For diagonal lines\n",
    "        else:\n",
    "            \n",
    "            # Sort x and y into max and min\n",
    "            [min_x, max_x] = list(sorted([co_ord1x, co_ord2x])) \n",
    "            [min_y, max_y] = list(sorted([co_ord1y, co_ord2y]))\n",
    "            \n",
    "            # Then construct ranges\n",
    "            range_x = list(range(min_x, max_x+1))\n",
    "            range_y = list(range(min_y, max_y+1))\n",
    "            \n",
    "            # Reverse orders if needed\n",
    "            if co_ord1x != min_x:\n",
    "                range_x = list(reversed(range_x))\n",
    "            if co_ord1y != min_y:\n",
    "                range_y = list(reversed(range_y))\n",
    "            \n",
    "            # Loop through\n",
    "            for i in range(len(range_x)):\n",
    "                df.iloc[range_x[i], range_y[i]] += 1\n",
    "        \n",
    "    \n",
    "# Initialise dataframe\n",
    "df_pt1 = build_empty_df()\n",
    "\n",
    "# Then increment\n",
    "increment_df(df_pt1, co_ord_list_pt1)\n",
    "\n",
    "# Flatten to values, then sum cases where it's greater than zero\n",
    "results = np.sum([n > 1 for n in df_pt1.values.flatten()])\n",
    "\n",
    "# And write result\n",
    "print('Day 5, part 1:', results)"
   ]
  },
  {
   "cell_type": "markdown",
   "id": "123b032e",
   "metadata": {},
   "source": [
    "#### Part 2: include diagonal lines"
   ]
  },
  {
   "cell_type": "code",
   "execution_count": 51,
   "id": "36fec24d",
   "metadata": {},
   "outputs": [
    {
     "name": "stdout",
     "output_type": "stream",
     "text": [
      "Day 5, part 2: 19081\n"
     ]
    }
   ],
   "source": [
    "# Initialise dataframe\n",
    "df_pt2 = build_empty_df()\n",
    "\n",
    "# Then increment\n",
    "increment_df(df_pt2, co_ord_list)\n",
    "\n",
    "# Flatten to values, then sum cases where it's greater than zero\n",
    "results_pt2 = np.sum([n > 1 for n in df_pt2.values.flatten()])\n",
    "\n",
    "# And write result\n",
    "print('Day 5, part 2:', results_pt2)"
   ]
  }
 ],
 "metadata": {
  "kernelspec": {
   "display_name": "Python 3",
   "language": "python",
   "name": "python3"
  },
  "language_info": {
   "codemirror_mode": {
    "name": "ipython",
    "version": 3
   },
   "file_extension": ".py",
   "mimetype": "text/x-python",
   "name": "python",
   "nbconvert_exporter": "python",
   "pygments_lexer": "ipython3",
   "version": "3.7.6"
  }
 },
 "nbformat": 4,
 "nbformat_minor": 5
}
