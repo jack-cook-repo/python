{
 "cells": [
  {
   "cell_type": "code",
   "execution_count": 8,
   "id": "67174f3c",
   "metadata": {},
   "outputs": [
    {
     "name": "stdout",
     "output_type": "stream",
     "text": [
      "The autoreload extension is already loaded. To reload it, use:\n",
      "  %reload_ext autoreload\n"
     ]
    }
   ],
   "source": [
    "# Get autocomplete to work\n",
    "%config Completer.use_jedi = False\n",
    "\n",
    "# Ensure external Python files are refreshed when reimporting things\n",
    "%load_ext autoreload\n",
    "%autoreload 2"
   ]
  },
  {
   "cell_type": "code",
   "execution_count": 17,
   "id": "aaf718ee",
   "metadata": {},
   "outputs": [
    {
     "data": {
      "text/plain": [
       "['143', '147', '150', '166', '180']"
      ]
     },
     "execution_count": 17,
     "metadata": {},
     "output_type": "execute_result"
    }
   ],
   "source": [
    "from load_functions import load_text\n",
    "    \n",
    "text_input = load_text(day=1)\n",
    "text_input[:5]"
   ]
  },
  {
   "cell_type": "markdown",
   "id": "05f54c87",
   "metadata": {},
   "source": [
    "# Problem "
   ]
  },
  {
   "cell_type": "markdown",
   "id": "031771ed",
   "metadata": {},
   "source": [
    "#### Part 1, check number of cases where i+1 in list is > i"
   ]
  },
  {
   "cell_type": "code",
   "execution_count": 31,
   "id": "3bfe8ab2",
   "metadata": {},
   "outputs": [
    {
     "name": "stdout",
     "output_type": "stream",
     "text": [
      "Day 1, part 1: 1532\n",
      "Day 1, part 2: 1571\n"
     ]
    }
   ],
   "source": [
    "n_increases = 0\n",
    "\n",
    "for i in range(1, len(text_input)):\n",
    "    if int(text_input[i]) > int(text_input[i-1]):\n",
    "        n_increases += 1\n",
    "        \n",
    "print('Day 1, part 1:', n_increases)"
   ]
  },
  {
   "cell_type": "markdown",
   "id": "1e0964cb",
   "metadata": {},
   "source": [
    "#### Part 2, check number of cases where i+1 rolling 3 window in list is > i rolling 3 window"
   ]
  },
  {
   "cell_type": "code",
   "execution_count": null,
   "id": "a9a00619",
   "metadata": {},
   "outputs": [],
   "source": [
    "# Part 2, check number of cases where i+1 rolling 3 window in list is > i rolling 3 window\n",
    "\n",
    "# Create rolling sums\n",
    "rolling_3_windows = []\n",
    "\n",
    "for i in range(2, len(text_input)):\n",
    "    rolling_3_windows.append(int(text_input[i-2]) + int(text_input[i-1]) + int(text_input[i]))\n",
    "\n",
    "# Then perform same check as before\n",
    "n_3_increases = 0\n",
    "\n",
    "for i in range(1, len(rolling_3_windows)):\n",
    "    if int(rolling_3_windows[i]) > int(rolling_3_windows[i-1]):\n",
    "        n_3_increases += 1\n",
    "        \n",
    "print('Day 1, part 2:', n_3_increases)"
   ]
  }
 ],
 "metadata": {
  "kernelspec": {
   "display_name": "Python 3",
   "language": "python",
   "name": "python3"
  },
  "language_info": {
   "codemirror_mode": {
    "name": "ipython",
    "version": 3
   },
   "file_extension": ".py",
   "mimetype": "text/x-python",
   "name": "python",
   "nbconvert_exporter": "python",
   "pygments_lexer": "ipython3",
   "version": "3.7.6"
  }
 },
 "nbformat": 4,
 "nbformat_minor": 5
}
