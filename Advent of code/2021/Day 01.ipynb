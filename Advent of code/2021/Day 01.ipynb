{
 "cells": [
  {
   "cell_type": "code",
   "execution_count": 8,
   "id": "ec3cd493",
   "metadata": {},
   "outputs": [
    {
     "name": "stdout",
     "output_type": "stream",
     "text": [
      "The autoreload extension is already loaded. To reload it, use:\n",
      "  %reload_ext autoreload\n"
     ]
    }
   ],
   "source": [
    "# Get autocomplete to work\n",
    "%config Completer.use_jedi = False\n",
    "\n",
    "# Ensure external Python files are refreshed when reimporting things\n",
    "%load_ext autoreload\n",
    "%autoreload 2"
   ]
  },
  {
   "cell_type": "code",
   "execution_count": 17,
   "id": "5f0f8655",
   "metadata": {},
   "outputs": [
    {
     "data": {
      "text/plain": [
       "['143', '147', '150', '166', '180']"
      ]
     },
     "execution_count": 17,
     "metadata": {},
     "output_type": "execute_result"
    }
   ],
   "source": [
    "from load_functions import load_text\n",
    "    \n",
    "text_input = load_text(day=1)\n",
    "text_input[:5]"
   ]
  },
  {
   "cell_type": "markdown",
   "id": "96b7b6ae",
   "metadata": {},
   "source": [
    "# Problem "
   ]
  },
  {
   "cell_type": "code",
   "execution_count": null,
   "id": "f297c3f2",
   "metadata": {},
   "outputs": [],
   "source": [
    "text_input"
   ]
  },
  {
   "cell_type": "code",
   "execution_count": 29,
   "id": "31bfd483",
   "metadata": {},
   "outputs": [
    {
     "data": {
      "text/plain": [
       "24419"
      ]
     },
     "execution_count": 29,
     "metadata": {},
     "output_type": "execute_result"
    }
   ],
   "source": [
    "rolling_3_windows[-1]"
   ]
  },
  {
   "cell_type": "code",
   "execution_count": 31,
   "id": "65514304",
   "metadata": {},
   "outputs": [
    {
     "name": "stdout",
     "output_type": "stream",
     "text": [
      "Day 1, part 1: 1532\n",
      "Day 1, part 2: 1571\n"
     ]
    }
   ],
   "source": [
    "# Part 1, check number of cases where i+1 in list is > i\n",
    "n_increases = 0\n",
    "\n",
    "for i in range(1, len(text_input)):\n",
    "    if int(text_input[i]) > int(text_input[i-1]):\n",
    "        n_increases += 1\n",
    "        \n",
    "print('Day 1, part 1:', n_increases)\n",
    "\n",
    "\n",
    "# Part 2, check number of cases where i+1 rolling 3 window in list is > i rolling 3 window\n",
    "rolling_3_windows = []\n",
    "\n",
    "for i in range(2, len(text_input)):\n",
    "    rolling_3_windows.append(int(text_input[i-2]) + int(text_input[i-1]) + int(text_input[i]))\n",
    "\n",
    "n_3_increases = 0\n",
    "\n",
    "for i in range(1, len(rolling_3_windows)):\n",
    "    if int(rolling_3_windows[i]) > int(rolling_3_windows[i-1]):\n",
    "        n_3_increases += 1\n",
    "        \n",
    "print('Day 1, part 2:', n_3_increases)"
   ]
  }
 ],
 "metadata": {
  "kernelspec": {
   "display_name": "Python 3",
   "language": "python",
   "name": "python3"
  },
  "language_info": {
   "codemirror_mode": {
    "name": "ipython",
    "version": 3
   },
   "file_extension": ".py",
   "mimetype": "text/x-python",
   "name": "python",
   "nbconvert_exporter": "python",
   "pygments_lexer": "ipython3",
   "version": "3.7.6"
  }
 },
 "nbformat": 4,
 "nbformat_minor": 5
}
