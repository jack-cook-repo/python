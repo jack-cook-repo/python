{
 "cells": [
  {
   "cell_type": "code",
   "execution_count": 1,
   "id": "ec3cd493",
   "metadata": {},
   "outputs": [],
   "source": [
    "# Get autocomplete to work\n",
    "%config Completer.use_jedi = False\n",
    "\n",
    "# Ensure external Python files are refreshed when reimporting things\n",
    "%load_ext autoreload\n",
    "%autoreload 2"
   ]
  },
  {
   "cell_type": "code",
   "execution_count": 5,
   "id": "5f0f8655",
   "metadata": {},
   "outputs": [
    {
     "name": "stdout",
     "output_type": "stream",
     "text": [
      "601\n"
     ]
    },
    {
     "data": {
      "text/plain": [
       "['31,50,79,59,39,53,58,95,92,55,40,97,81,22,69,26,6,23,3,29,83,48,18,75,47,49,62,45,35,34,1,88,54,16,56,77,28,94,52,15,0,87,93,90,60,67,68,85,80,51,20,96,61,66,63,91,8,99,70,13,71,17,7,38,44,43,5,25,72,2,57,33,82,78,89,21,30,11,73,84,4,46,14,19,12,10,42,32,64,98,9,74,86,27,24,65,37,41,76,36',\n",
       " '',\n",
       " '31  5 70  8 88',\n",
       " '38 63 14 91 56',\n",
       " '22 67 17 47 74',\n",
       " '93 52 69 29 53',\n",
       " '33 66 64 19 73',\n",
       " '',\n",
       " '35 63 17 48 77',\n",
       " '25 58 33 14 96',\n",
       " '32 87 90 66 70',\n",
       " '16  4 98 72 23',\n",
       " '19 74 39 29 59']"
      ]
     },
     "execution_count": 5,
     "metadata": {},
     "output_type": "execute_result"
    }
   ],
   "source": [
    "from load_functions import load_text\n",
    "    \n",
    "text_input = load_text(day=4)\n",
    "print(len(text_input))\n",
    "text_input[:13]"
   ]
  },
  {
   "cell_type": "markdown",
   "id": "30cdd18b",
   "metadata": {},
   "source": [
    "#### Turn into number draw, and bingo boards"
   ]
  },
  {
   "cell_type": "code",
   "execution_count": 89,
   "id": "40f22b19",
   "metadata": {},
   "outputs": [
    {
     "data": {
      "text/html": [
       "<div>\n",
       "<style scoped>\n",
       "    .dataframe tbody tr th:only-of-type {\n",
       "        vertical-align: middle;\n",
       "    }\n",
       "\n",
       "    .dataframe tbody tr th {\n",
       "        vertical-align: top;\n",
       "    }\n",
       "\n",
       "    .dataframe thead th {\n",
       "        text-align: right;\n",
       "    }\n",
       "</style>\n",
       "<table border=\"1\" class=\"dataframe\">\n",
       "  <thead>\n",
       "    <tr style=\"text-align: right;\">\n",
       "      <th></th>\n",
       "      <th>col1</th>\n",
       "      <th>col2</th>\n",
       "      <th>col3</th>\n",
       "      <th>col4</th>\n",
       "      <th>col5</th>\n",
       "    </tr>\n",
       "  </thead>\n",
       "  <tbody>\n",
       "    <tr>\n",
       "      <th>row1</th>\n",
       "      <td>35</td>\n",
       "      <td>63</td>\n",
       "      <td>17</td>\n",
       "      <td>48</td>\n",
       "      <td>77</td>\n",
       "    </tr>\n",
       "    <tr>\n",
       "      <th>row2</th>\n",
       "      <td>25</td>\n",
       "      <td>58</td>\n",
       "      <td>33</td>\n",
       "      <td>14</td>\n",
       "      <td>96</td>\n",
       "    </tr>\n",
       "    <tr>\n",
       "      <th>row3</th>\n",
       "      <td>32</td>\n",
       "      <td>87</td>\n",
       "      <td>90</td>\n",
       "      <td>66</td>\n",
       "      <td>70</td>\n",
       "    </tr>\n",
       "    <tr>\n",
       "      <th>row4</th>\n",
       "      <td>16</td>\n",
       "      <td>4</td>\n",
       "      <td>98</td>\n",
       "      <td>72</td>\n",
       "      <td>23</td>\n",
       "    </tr>\n",
       "    <tr>\n",
       "      <th>row5</th>\n",
       "      <td>19</td>\n",
       "      <td>74</td>\n",
       "      <td>39</td>\n",
       "      <td>29</td>\n",
       "      <td>59</td>\n",
       "    </tr>\n",
       "  </tbody>\n",
       "</table>\n",
       "</div>"
      ],
      "text/plain": [
       "      col1  col2  col3  col4  col5\n",
       "row1    35    63    17    48    77\n",
       "row2    25    58    33    14    96\n",
       "row3    32    87    90    66    70\n",
       "row4    16     4    98    72    23\n",
       "row5    19    74    39    29    59"
      ]
     },
     "execution_count": 89,
     "metadata": {},
     "output_type": "execute_result"
    }
   ],
   "source": [
    "import pandas as pd\n",
    "\n",
    "numbers_drawn = [int(n) for n in text_input[0].split(',')]\n",
    "\n",
    "# Boards are present in groups of 6 lines - 1 blank followed by 5 rows of numbers\n",
    "num_boards = int((len(text_input) - 1) / 6)\n",
    "\n",
    "# Turn bingo boards into list of dataframes\n",
    "board_list = []\n",
    "for i in range(num_boards):\n",
    "    \n",
    "    # Starting from index 2, each board is spaced 6 lines apart\n",
    "    ind_start = i*6 + 2\n",
    "    ind_end = ind_start + 5 # List slices exclude end index\n",
    "    \n",
    "    # Get 1x5 list of bingo numbers\n",
    "    board_flat = text_input[ind_start:ind_end]\n",
    "    \n",
    "    # Convert to 5x5 list\n",
    "    board_split = [t.split() for t in board_flat]\n",
    "    \n",
    "    board = pd.DataFrame(data=board_split,\n",
    "                         columns=['col'+str(i) for i in range(1, 6)],\n",
    "                         index=['row'+str(i) for i in range(1, 6)]).astype(int)\n",
    "    \n",
    "    board_list.append(board)\n",
    "    \n",
    "board_list[1]"
   ]
  },
  {
   "cell_type": "markdown",
   "id": "96b7b6ae",
   "metadata": {},
   "source": [
    "# Problem "
   ]
  },
  {
   "cell_type": "markdown",
   "id": "0ce832c9",
   "metadata": {},
   "source": [
    "#### Part 1: play bingo, find which board wins (complete row or column), then multiply last number called with the remaining unstruck numbers on the winning board"
   ]
  },
  {
   "cell_type": "code",
   "execution_count": 101,
   "id": "cafde35e",
   "metadata": {},
   "outputs": [
    {
     "name": "stdout",
     "output_type": "stream",
     "text": [
      "Winning board: 53\n",
      "     col1 col2 col3 col4 col5\n",
      "row1   41    X   44    2    X\n",
      "row2   38   14   19   72   64\n",
      "row3    X    X    X    X    X\n",
      "row4   70    7    1    X   86\n",
      "row5    X    X   90   96   82\n",
      "Number: 35\n",
      "Board sum: 726\n",
      "Day 4, part 1: 25410\n"
     ]
    }
   ],
   "source": [
    "import copy\n",
    "board_list_pt1 = copy.deepcopy(board_list)\n",
    "\n",
    "def check_number(board, num):\n",
    "    \n",
    "    # Given a bingo number, check if it exists on a board and if so - strike it off\n",
    "    for row in range(5):\n",
    "        for col in range(5):\n",
    "            if board.iloc[row, col] == num:\n",
    "                board.iloc[row, col] = 'X'\n",
    "\n",
    "    \n",
    "def check_win(df_line, board_ind, print_board):\n",
    "    \n",
    "    # Check whether there are 5 'X's in a dataframe row/column\n",
    "    n_xs = 0\n",
    "    \n",
    "    for v in df_line.values:\n",
    "        if v == 'X':\n",
    "            n_xs += 1\n",
    "    \n",
    "    if n_xs == 5:\n",
    "        if print_board:\n",
    "            print(f'Winning board: {board_ind}')\n",
    "        return True\n",
    "\n",
    "\n",
    "def check_board_win(board, board_ind, print_board=True):\n",
    "    \n",
    "    # Check that a bingo board has an entire row or column complete\n",
    "    for row in range(5):\n",
    "        if check_win(board.iloc[row, :], board_ind, print_board):\n",
    "            return True\n",
    "    \n",
    "    for col in range(5):\n",
    "        if check_win(board.iloc[:, col], board_ind, print_board):\n",
    "            return True\n",
    "\n",
    "        \n",
    "def board_sum(board):\n",
    "    \n",
    "    # When a board wins, provide a sum of all remaining non-struck values\n",
    "    result = 0\n",
    "    \n",
    "    # Flatten board to list\n",
    "    board_values = board.values.flatten()\n",
    "    \n",
    "    # Sum all numeric values in a board\n",
    "    for v in board_values:\n",
    "        result += (0 if v == 'X' else v)\n",
    "    \n",
    "    return result\n",
    "            \n",
    "    \n",
    "# Loop through numbers drawn\n",
    "game_won = False\n",
    "\n",
    "for n in numbers_drawn:\n",
    "    \n",
    "    # Loop through boards\n",
    "    for (i, b) in enumerate(board_list_pt1):\n",
    "        \n",
    "        # Check number on board, cross off if it exists\n",
    "        check_number(board=b, num=n)\n",
    "        \n",
    "        # Check whether board has won, if so, sum board\n",
    "        if check_board_win(board=b, board_ind=i):\n",
    "            print(b, f'Number: {n}', sep='\\n')\n",
    "            print(f'Board sum: {board_sum(board=b)}')\n",
    "            print('Day 4, part 1:', board_sum(board=b) * n)\n",
    "            game_won = True\n",
    "            break\n",
    "        \n",
    "    if game_won:\n",
    "        break"
   ]
  },
  {
   "cell_type": "markdown",
   "id": "9874f708",
   "metadata": {},
   "source": [
    "#### Part 2: find the final board to win"
   ]
  },
  {
   "cell_type": "code",
   "execution_count": 144,
   "id": "4a1cb0d3",
   "metadata": {},
   "outputs": [
    {
     "name": "stdout",
     "output_type": "stream",
     "text": [
      "     col1 col2 col3 col4 col5\n",
      "row1   24    X    X    X    X\n",
      "row2    X    X    9    X   27\n",
      "row3    X   37    X    X    X\n",
      "row4    X    X    X    X    X\n",
      "row5    X    X   98    X    X\n",
      "Number: 14\n",
      "Board sum for index 40: 195\n",
      "Day 4, part 2: 2730\n"
     ]
    }
   ],
   "source": [
    "board_list_pt2 = copy.deepcopy(board_list)\n",
    "\n",
    "# Loop through numbers drawn\n",
    "board_indices = [i for i in range(len(board_list_pt2))]\n",
    "game_won = False\n",
    "\n",
    "for n in numbers_drawn:\n",
    "    \n",
    "    # Loop through boards\n",
    "    for (i, b) in enumerate(board_list_pt2):\n",
    "\n",
    "        # Check number on board, cross off if it exists\n",
    "        check_number(board=b, num=n)\n",
    "\n",
    "        # Only check for wins for board yet to win\n",
    "        if i in board_indices:\n",
    "\n",
    "            # Check whether board has won, if so, sum board\n",
    "            if check_board_win(board=b, board_ind=i, print_board=False):\n",
    "\n",
    "                # Check if this is the last board to win out of all boards, if so, end game\n",
    "                if len(board_indices) == 1:\n",
    "                    print(b, f'Number: {n}', sep='\\n')\n",
    "                    print(f'Board sum for index {i}: {board_sum(board=b)}')\n",
    "                    print('Day 4, part 2:', board_sum(board=b) * n)\n",
    "                    game_won = True\n",
    "\n",
    "                board_indices.remove(i)\n",
    "        \n",
    "    if game_won:\n",
    "        break"
   ]
  }
 ],
 "metadata": {
  "kernelspec": {
   "display_name": "Python 3",
   "language": "python",
   "name": "python3"
  },
  "language_info": {
   "codemirror_mode": {
    "name": "ipython",
    "version": 3
   },
   "file_extension": ".py",
   "mimetype": "text/x-python",
   "name": "python",
   "nbconvert_exporter": "python",
   "pygments_lexer": "ipython3",
   "version": "3.7.6"
  }
 },
 "nbformat": 4,
 "nbformat_minor": 5
}
