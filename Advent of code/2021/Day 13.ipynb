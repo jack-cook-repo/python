{
 "cells": [
  {
   "cell_type": "code",
   "execution_count": 1,
   "id": "ec3cd493",
   "metadata": {},
   "outputs": [],
   "source": [
    "# Get autocomplete to work\n",
    "%config Completer.use_jedi = False\n",
    "\n",
    "# Ensure external Python files are refreshed when reimporting things\n",
    "%load_ext autoreload\n",
    "%autoreload 2"
   ]
  },
  {
   "cell_type": "code",
   "execution_count": 4,
   "id": "5f0f8655",
   "metadata": {},
   "outputs": [
    {
     "name": "stdout",
     "output_type": "stream",
     "text": [
      "880\n",
      "['957,648', '617,33', '915,323', '760,515', '82,365']\n",
      "['1151,331', '1012,661', '77,359', '1102,511', '1130,616', '1228,529', '350,715', '', 'fold along x=655', 'fold along y=447', 'fold along x=327', 'fold along y=223', 'fold along x=163', 'fold along y=111', 'fold along x=81', 'fold along y=55', 'fold along x=40', 'fold along y=27', 'fold along y=13', 'fold along y=6']\n"
     ]
    }
   ],
   "source": [
    "from load_functions import load_text\n",
    "    \n",
    "text_input = load_text(day=13)\n",
    "print(len(text_input))\n",
    "print(text_input[:5], text_input[-20:], sep='\\n')"
   ]
  },
  {
   "cell_type": "markdown",
   "id": "3c2a52e4",
   "metadata": {},
   "source": [
    "Convert to list of co-ordinates, and a list of fold instructions"
   ]
  },
  {
   "cell_type": "code",
   "execution_count": 50,
   "id": "89cf54b6",
   "metadata": {},
   "outputs": [
    {
     "name": "stdout",
     "output_type": "stream",
     "text": [
      "[[957, 648], [617, 33], [915, 323], [760, 515], [82, 365]]\n",
      "1310 893\n"
     ]
    },
    {
     "data": {
      "text/plain": [
       "[['x', 655],\n",
       " ['y', 447],\n",
       " ['x', 327],\n",
       " ['y', 223],\n",
       " ['x', 163],\n",
       " ['y', 111],\n",
       " ['x', 81],\n",
       " ['y', 55],\n",
       " ['x', 40],\n",
       " ['y', 27],\n",
       " ['y', 13],\n",
       " ['y', 6]]"
      ]
     },
     "execution_count": 50,
     "metadata": {},
     "output_type": "execute_result"
    }
   ],
   "source": [
    "co_ords = []\n",
    "fold_instructions = []\n",
    "max_x = 0\n",
    "max_y = 0\n",
    "\n",
    "is_co_ords = True\n",
    "\n",
    "for inp in text_input:\n",
    "    \n",
    "    if is_co_ords:\n",
    "        if inp == '':\n",
    "            is_co_ords = False\n",
    "        else:\n",
    "            [x, y] = [int(n) for n in inp.split(',')]\n",
    "            max_x = max(max_x, x)\n",
    "            max_y = max(max_y, y)\n",
    "            co_ords.append([x, y])\n",
    "            \n",
    "    else:\n",
    "        _, instruction = inp.split('along ')\n",
    "        axis, num = instruction.split('=')\n",
    "        fold_instructions.append([axis, int(num)])\n",
    "\n",
    "print(co_ords[:5])\n",
    "print(max_x, max_y)\n",
    "fold_instructions"
   ]
  },
  {
   "cell_type": "markdown",
   "id": "96b7b6ae",
   "metadata": {},
   "source": [
    "# Problem "
   ]
  },
  {
   "cell_type": "markdown",
   "id": "0ce832c9",
   "metadata": {},
   "source": [
    "#### Part 1: Find dots remaining after first fold"
   ]
  },
  {
   "cell_type": "code",
   "execution_count": 96,
   "id": "afd9c7f2",
   "metadata": {},
   "outputs": [
    {
     "name": "stdout",
     "output_type": "stream",
     "text": [
      "Day 13, part 1: 735\n"
     ]
    }
   ],
   "source": [
    "import numpy as np\n",
    "import pandas as pd\n",
    "\n",
    "grid = np.zeros((max_x+1, max_y+2), dtype=int)\n",
    "\n",
    "# Set up dots\n",
    "for col, row in co_ords:\n",
    "    grid[col, row] = 1 \n",
    "    \n",
    "\n",
    "def fold(arr, instruction, debug=False):\n",
    "    \n",
    "    # Get instructions\n",
    "    (fold_axis, num) = instruction\n",
    "    if debug:\n",
    "        print('Before: ', arr.shape, instruction, np.sum(arr), arr.shape[0]/2, arr.shape[1]/2)\n",
    "    \n",
    "    if fold_axis == 'x':\n",
    "        arr_flip = np.flip(arr, 0)\n",
    "        arr = np.maximum(arr[:num, :], arr_flip[:num, :])\n",
    "    else:\n",
    "        arr_flip = np.flip(arr, 1)\n",
    "        arr = np.maximum(arr[:, :num], arr_flip[:, :num])\n",
    "        \n",
    "    if debug:\n",
    "        print('After: ', arr.shape, np.sum(arr), '\\n')\n",
    "    \n",
    "    return arr\n",
    "    \n",
    "print('Day 13, part 1:', np.sum(fold(grid, fold_instructions[0])))"
   ]
  },
  {
   "cell_type": "code",
   "execution_count": 93,
   "id": "4026b41c",
   "metadata": {},
   "outputs": [
    {
     "data": {
      "text/plain": [
       "array([[0, 0, 0, ..., 0, 0, 0],\n",
       "       [0, 0, 0, ..., 0, 0, 0],\n",
       "       [0, 0, 0, ..., 0, 0, 0],\n",
       "       ...,\n",
       "       [0, 0, 0, ..., 0, 0, 0],\n",
       "       [0, 0, 0, ..., 0, 0, 0],\n",
       "       [0, 0, 0, ..., 0, 0, 0]])"
      ]
     },
     "execution_count": 93,
     "metadata": {},
     "output_type": "execute_result"
    }
   ],
   "source": [
    "fold(grid, fold_instructions[0])"
   ]
  },
  {
   "cell_type": "markdown",
   "id": "116a9e44",
   "metadata": {},
   "source": [
    "#### Part 2: Do all folds, see the letters that result"
   ]
  },
  {
   "cell_type": "code",
   "execution_count": 102,
   "id": "9c627dbd",
   "metadata": {},
   "outputs": [
    {
     "name": "stdout",
     "output_type": "stream",
     "text": [
      "Before:  (1311, 895) ['x', 655] 867 655.5 447.5\n",
      "After:  (655, 895) 735 \n",
      "\n",
      "Before:  (655, 895) ['y', 447] 735 327.5 447.5\n",
      "After:  (655, 447) 610 \n",
      "\n",
      "Before:  (655, 447) ['x', 327] 610 327.5 223.5\n",
      "After:  (327, 447) 518 \n",
      "\n",
      "Before:  (327, 447) ['y', 223] 518 163.5 223.5\n",
      "After:  (327, 223) 434 \n",
      "\n",
      "Before:  (327, 223) ['x', 163] 434 163.5 111.5\n",
      "After:  (163, 223) 360 \n",
      "\n",
      "Before:  (163, 223) ['y', 111] 360 81.5 111.5\n",
      "After:  (163, 111) 303 \n",
      "\n",
      "Before:  (163, 111) ['x', 81] 303 81.5 55.5\n",
      "After:  (81, 111) 244 \n",
      "\n",
      "Before:  (81, 111) ['y', 55] 244 40.5 55.5\n",
      "After:  (81, 55) 202 \n",
      "\n",
      "Before:  (81, 55) ['x', 40] 202 40.5 27.5\n",
      "After:  (40, 55) 170 \n",
      "\n",
      "Before:  (40, 55) ['y', 27] 170 20.0 27.5\n",
      "After:  (40, 27) 144 \n",
      "\n",
      "Before:  (40, 27) ['y', 13] 144 20.0 13.5\n",
      "After:  (40, 13) 117 \n",
      "\n",
      "Before:  (40, 13) ['y', 6] 117 20.0 6.5\n",
      "After:  (40, 6) 99 \n",
      "\n",
      "[['#' '' '' '#' '' '#' '#' '#' '#' '' '#' '#' '#' '' '' '#' '#' '#' '#'\n",
      "  '' '#' '' '' '#' '' '' '#' '#' '' '' '#' '' '' '#' '' '#' '#' '#' '#'\n",
      "  '']\n",
      " ['#' '' '' '#' '' '#' '' '' '' '' '#' '' '' '#' '' '' '' '' '#' '' '#'\n",
      "  '' '#' '' '' '#' '' '' '#' '' '#' '' '' '#' '' '' '' '' '#' '']\n",
      " ['#' '' '' '#' '' '#' '#' '#' '' '' '#' '' '' '#' '' '' '' '#' '' '' '#'\n",
      "  '#' '' '' '' '#' '' '' '#' '' '#' '' '' '#' '' '' '' '#' '' '']\n",
      " ['#' '' '' '#' '' '#' '' '' '' '' '#' '#' '#' '' '' '' '#' '' '' '' '#'\n",
      "  '' '#' '' '' '#' '#' '#' '#' '' '#' '' '' '#' '' '' '#' '' '' '']\n",
      " ['#' '' '' '#' '' '#' '' '' '' '' '#' '' '#' '' '' '#' '' '' '' '' '#'\n",
      "  '' '#' '' '' '#' '' '' '#' '' '#' '' '' '#' '' '#' '' '' '' '']\n",
      " ['' '#' '#' '' '' '#' '' '' '' '' '#' '' '' '#' '' '#' '#' '#' '#' ''\n",
      "  '#' '' '' '#' '' '#' '' '' '#' '' '' '#' '#' '' '' '#' '#' '#' '#' '']]\n",
      "[[1 1 1 1 1 0]\n",
      " [0 0 0 0 0 1]\n",
      " [0 0 0 0 0 1]\n",
      " [1 1 1 1 1 0]\n",
      " [0 0 0 0 0 0]\n",
      " [1 1 1 1 1 1]\n",
      " [1 0 1 0 0 0]\n",
      " [1 0 1 0 0 0]\n",
      " [1 0 0 0 0 0]\n",
      " [0 0 0 0 0 0]\n",
      " [1 1 1 1 1 1]\n",
      " [1 0 0 1 0 0]\n",
      " [1 0 0 1 1 0]\n",
      " [0 1 1 0 0 1]\n",
      " [0 0 0 0 0 0]\n",
      " [1 0 0 0 1 1]\n",
      " [1 0 0 1 0 1]\n",
      " [1 0 1 0 0 1]\n",
      " [1 1 0 0 0 1]\n",
      " [0 0 0 0 0 0]\n",
      " [1 1 1 1 1 1]\n",
      " [0 0 1 0 0 0]\n",
      " [0 1 0 1 1 0]\n",
      " [1 0 0 0 0 1]\n",
      " [0 0 0 0 0 0]\n",
      " [0 1 1 1 1 1]\n",
      " [1 0 0 1 0 0]\n",
      " [1 0 0 1 0 0]\n",
      " [0 1 1 1 1 1]\n",
      " [0 0 0 0 0 0]\n",
      " [1 1 1 1 1 0]\n",
      " [0 0 0 0 0 1]\n",
      " [0 0 0 0 0 1]\n",
      " [1 1 1 1 1 0]\n",
      " [0 0 0 0 0 0]\n",
      " [1 0 0 0 1 1]\n",
      " [1 0 0 1 0 1]\n",
      " [1 0 1 0 0 1]\n",
      " [1 1 0 0 0 1]\n",
      " [0 0 0 0 0 0]] (40, 6)\n"
     ]
    }
   ],
   "source": [
    "import copy\n",
    "grid2 = copy.deepcopy(grid)\n",
    "\n",
    "for instruction in fold_instructions:\n",
    "    grid2 = fold(grid2, instruction, debug=True)\n",
    "\n",
    "# Rotate 270 then flip horizontally\n",
    "output = np.flip(np.rot90(grid2, 3), 1)\n",
    "pd.DataFrame(output).to_csv('folded_output.csv')\n",
    "\n",
    "# Turn into text lists\n",
    "\n",
    "text_output = []\n",
    "print()\n",
    "\n",
    "print(grid2, grid2.shape)"
   ]
  }
 ],
 "metadata": {
  "kernelspec": {
   "display_name": "Python 3",
   "language": "python",
   "name": "python3"
  },
  "language_info": {
   "codemirror_mode": {
    "name": "ipython",
    "version": 3
   },
   "file_extension": ".py",
   "mimetype": "text/x-python",
   "name": "python",
   "nbconvert_exporter": "python",
   "pygments_lexer": "ipython3",
   "version": "3.7.6"
  }
 },
 "nbformat": 4,
 "nbformat_minor": 5
}
