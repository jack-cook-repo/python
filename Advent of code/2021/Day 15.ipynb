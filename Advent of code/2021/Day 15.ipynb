{
 "cells": [
  {
   "cell_type": "code",
   "execution_count": 1,
   "id": "ec3cd493",
   "metadata": {},
   "outputs": [],
   "source": [
    "# Get autocomplete to work\n",
    "%config Completer.use_jedi = False\n",
    "\n",
    "# Ensure external Python files are refreshed when reimporting things\n",
    "%load_ext autoreload\n",
    "%autoreload 2"
   ]
  },
  {
   "cell_type": "code",
   "execution_count": 2,
   "id": "5f0f8655",
   "metadata": {},
   "outputs": [
    {
     "name": "stdout",
     "output_type": "stream",
     "text": [
      "100\n",
      "7467923161199853975163878964955815881991642676938912451447919792683728694766149341499879987416299819\n"
     ]
    }
   ],
   "source": [
    "from load_functions import load_text\n",
    "    \n",
    "text_input = load_text(day=15)\n",
    "print(len(text_input))\n",
    "print(text_input[0])"
   ]
  },
  {
   "cell_type": "markdown",
   "id": "3c2a52e4",
   "metadata": {},
   "source": [
    "Convert to array"
   ]
  },
  {
   "cell_type": "code",
   "execution_count": 3,
   "id": "83bb717d",
   "metadata": {},
   "outputs": [
    {
     "data": {
      "text/plain": [
       "array([[7, 4, 6, ..., 8, 1, 9],\n",
       "       [1, 7, 9, ..., 2, 3, 9],\n",
       "       [9, 4, 8, ..., 6, 4, 9],\n",
       "       ...,\n",
       "       [6, 9, 8, ..., 1, 7, 9],\n",
       "       [9, 9, 9, ..., 9, 1, 9],\n",
       "       [2, 7, 9, ..., 7, 1, 9]])"
      ]
     },
     "execution_count": 3,
     "metadata": {},
     "output_type": "execute_result"
    }
   ],
   "source": [
    "import numpy as np\n",
    "\n",
    "list_input = []\n",
    "for t in text_input:\n",
    "    list_input.append([int(n) for n in list(t)])\n",
    "\n",
    "arr_input = np.array(list_input)\n",
    "arr_input"
   ]
  },
  {
   "cell_type": "markdown",
   "id": "96b7b6ae",
   "metadata": {},
   "source": [
    "# Problem "
   ]
  },
  {
   "cell_type": "markdown",
   "id": "0ce832c9",
   "metadata": {},
   "source": [
    "#### Part 1: Find the shortest path from top left to bottom right\n",
    "\n",
    "Taken from https://github.com/statneutrino/AdventOfCode/blob/main/2021/python/day15.py, struggled to get a solution that scaled well. Using a list to append to / remove from (nodes visited / to visit) and have to repeatedly scan these doesn't work on large datasets.\n",
    "\n",
    "The below solution instead stores distances and nodes visited in arrays."
   ]
  },
  {
   "cell_type": "code",
   "execution_count": 50,
   "id": "0e07295c",
   "metadata": {},
   "outputs": [
    {
     "name": "stdout",
     "output_type": "stream",
     "text": [
      "Day 15, part 1: 621\n"
     ]
    }
   ],
   "source": [
    "import copy\n",
    "import numpy as np\n",
    "\n",
    "# Get adjacent nodes\n",
    "def get_adjacent_nodes(node, array):\n",
    "    \n",
    "    adjacent_nodes = []\n",
    "    (max_height, max_width) = array.shape\n",
    "    (h, w) = node\n",
    "    for offset in [(-1, 0), (0, -1), (1, 0), (0, 1)]:\n",
    "        new_h = (h + offset[0])\n",
    "        new_w = (w + offset[1])\n",
    "        \n",
    "        if new_h >= 0 and new_h <= max_height - 1 and new_w >= 0 and new_w <= max_width - 1:\n",
    "            adjacent_nodes.append((new_h, new_w))\n",
    "            \n",
    "    return adjacent_nodes\n",
    "\n",
    "\n",
    "# Using Dijkstra's algorithm\n",
    "def find_shortest_path(array, start_node, dest_node):   \n",
    "    \n",
    "    # Initialise matrices for visited (boolean) and distances.\n",
    "    visited = np.zeros(array.shape, dtype=bool) # Zeros evaluate to False\n",
    "    distance_matrix = np.full(array.shape, \n",
    "                              np.inf, # Initialise distances as infinity\n",
    "                              dtype=float) \n",
    "    distance_matrix[start_node] = 0\n",
    "    current_node = start_node\n",
    "    \n",
    "    while visited[dest_node] == False:\n",
    "        \n",
    "        # For unvisited nodes\n",
    "        if visited[current_node] == False:\n",
    "            \n",
    "            # Loop through adjacent arrays\n",
    "            adjacent_nodes = get_adjacent_nodes(current_node, array)\n",
    "            \n",
    "            for adj in adjacent_nodes:\n",
    "                dist_from_current_to_adj = distance_matrix[current_node] + array[adj]\n",
    "                \n",
    "                # If distance from current node to adjacent is shorter than the current distance stored, update it\n",
    "                if dist_from_current_to_adj < distance_matrix[adj]:\n",
    "                    distance_matrix[adj] = dist_from_current_to_adj\n",
    "                    \n",
    "            visited[current_node] = True\n",
    "            \n",
    "        # find minimum unvisited node\n",
    "        # np.where, when only passed a condition, returns all elements of the array that meet that condition\n",
    "        nodes_min_d = np.where( \n",
    "                            np.logical_and(\n",
    "                                # First, check\n",
    "                                distance_matrix == np.amin(distance_matrix[np.invert(visited)]),\n",
    "                                # Second, check node hasn't been visited\n",
    "                                np.invert(visited))\n",
    "                        )\n",
    "        current_node = (nodes_min_d[0][0], nodes_min_d[1][0])\n",
    "        if current_node == dest_node:\n",
    "            return int(distance_matrix[dest_node])\n",
    "\n",
    "print('Day 15, part 1:', find_shortest_path(arr_input, (0,0), (arr_input.shape[0]-1,\n",
    "                                                               arr_input.shape[1]-1)))"
   ]
  },
  {
   "cell_type": "markdown",
   "id": "2bc98064",
   "metadata": {},
   "source": [
    "#### Part 2: the cave is actually 5x bigger\n",
    "\n",
    "Need to repeat the array into a 5x5 grid of the original, with each move down or right adding 1 to the distance scores. \n",
    "\n",
    "Any score > 9 is reset to 1."
   ]
  },
  {
   "cell_type": "code",
   "execution_count": 54,
   "id": "1ad91af3",
   "metadata": {},
   "outputs": [
    {
     "name": "stdout",
     "output_type": "stream",
     "text": [
      "Day 15, part 1: 2904\n"
     ]
    }
   ],
   "source": [
    "arr_input_pt2 = copy.deepcopy(arr_input)\n",
    "init_rows, init_cols = arr_input_pt2.shape \n",
    "\n",
    "# Set up 5x1 grid\n",
    "for row in range(4):\n",
    "    arr_input_pt2 = np.concatenate((arr_input_pt2, np.where(arr_input_pt2[-init_rows:]+1 > 9,\n",
    "                                                            1, \n",
    "                                                            arr_input_pt2[-init_rows:]+1)), axis=0)\n",
    "    \n",
    "# Set up 5x5 grid\n",
    "for col in range(4):\n",
    "    arr_input_pt2 = np.concatenate((arr_input_pt2, np.where(arr_input_pt2[:, -init_cols:]+1 > 9,\n",
    "                                                            1, \n",
    "                                                            arr_input_pt2[:, -init_cols:]+1)), axis=1)\n",
    "    \n",
    "print('Day 15, part 2:', find_shortest_path(arr_input_pt2, (0,0), (arr_input_pt2.shape[0]-1,\n",
    "                                                                   arr_input_pt2.shape[1]-1)))"
   ]
  }
 ],
 "metadata": {
  "kernelspec": {
   "display_name": "Python 3",
   "language": "python",
   "name": "python3"
  },
  "language_info": {
   "codemirror_mode": {
    "name": "ipython",
    "version": 3
   },
   "file_extension": ".py",
   "mimetype": "text/x-python",
   "name": "python",
   "nbconvert_exporter": "python",
   "pygments_lexer": "ipython3",
   "version": "3.7.6"
  }
 },
 "nbformat": 4,
 "nbformat_minor": 5
}
