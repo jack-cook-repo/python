{
 "cells": [
  {
   "cell_type": "markdown",
   "metadata": {},
   "source": [
    "#### Open file and parse contents"
   ]
  },
  {
   "cell_type": "code",
   "execution_count": 69,
   "metadata": {},
   "outputs": [
    {
     "data": {
      "text/plain": [
       "['ybcgtxznorvjel', 'brlyvoexnjtgcz', 'lnbgtxvoiyecjrz', '', 'lcajnyxgzqwim']"
      ]
     },
     "execution_count": 69,
     "metadata": {},
     "output_type": "execute_result"
    }
   ],
   "source": [
    "with open('day6_inputs.txt') as f:\n",
    "    content = f.readlines()\n",
    "    \n",
    "content = [x.strip() for x in content] \n",
    "content[:5]"
   ]
  },
  {
   "cell_type": "markdown",
   "metadata": {},
   "source": [
    "Each entry represents a set of questions that someone answered 'yes' to, e.g. 'adf' would represent someone who answered yes to questions a, d, and f.\n",
    "\n",
    "An empty string implies the end of a group, e.g. 'adf', 'dgh', '', 'er' would imply that the person who answered yes to 'adf' and yes to 'dgh' were both from the same passenger group."
   ]
  },
  {
   "cell_type": "markdown",
   "metadata": {},
   "source": [
    "#### Part 1 - unique answers per group"
   ]
  },
  {
   "cell_type": "code",
   "execution_count": 5,
   "metadata": {},
   "outputs": [],
   "source": [
    "unique_answers_group = []\n",
    "all_unique_answers = []\n",
    "\n",
    "for i in range(len(content)):\n",
    "    \n",
    "    ans = content[i]\n",
    "    \n",
    "    if len(ans) == 0:\n",
    "        all_unique_answers.append(sorted(unique_answers_group))\n",
    "        unique_answers_group = []\n",
    "    else:\n",
    "        # Get unique letters\n",
    "        unique_answers = set(ans)\n",
    "        \n",
    "        # Loop through unique answers, append to group's letters if it isn't in there already\n",
    "        for a in unique_answers:\n",
    "            if a not in unique_answers_group:\n",
    "                unique_answers_group.append(a)\n",
    "        \n",
    "        if i == len(content)-1:\n",
    "            all_unique_answers.append(sorted(unique_answers_group))\n",
    "     \n",
    "        "
   ]
  },
  {
   "cell_type": "code",
   "execution_count": 6,
   "metadata": {},
   "outputs": [
    {
     "data": {
      "text/plain": [
       "6430"
      ]
     },
     "execution_count": 6,
     "metadata": {},
     "output_type": "execute_result"
    }
   ],
   "source": [
    "t = 0\n",
    "for s in all_unique_answers:\n",
    "    t+= len(s)\n",
    "t"
   ]
  },
  {
   "cell_type": "markdown",
   "metadata": {},
   "source": [
    "Part 2"
   ]
  },
  {
   "cell_type": "code",
   "execution_count": 101,
   "metadata": {
    "scrolled": true
   },
   "outputs": [
    {
     "data": {
      "text/plain": [
       "3125"
      ]
     },
     "execution_count": 101,
     "metadata": {},
     "output_type": "execute_result"
    }
   ],
   "source": [
    "yes_answers_group = []\n",
    "all_yes_answers = []\n",
    "is_new_group = True\n",
    "\n",
    "for i in range(len(content)):\n",
    "    \n",
    "    ans = content[i]\n",
    "    \n",
    "    if len(ans) == 0:\n",
    "        all_yes_answers.append(sorted(yes_answers_group))\n",
    "        yes_answers_group = []\n",
    "        is_new_group = True\n",
    "    else:\n",
    "        # Get unique letters\n",
    "        unique_answers = list(set(ans))\n",
    "        \n",
    "        # If first set of answers in group, get all unique answers\n",
    "        if is_new_group:\n",
    "            yes_answers_group.extend(sorted(unique_answers))\n",
    "            is_new_group = False\n",
    "        else:\n",
    "            new_group = []\n",
    "            for y in yes_answers_group:\n",
    "                if y in unique_answers:\n",
    "                    new_group.append(y)\n",
    "            yes_answers_group = new_group    \n",
    "        \n",
    "        if i == len(content)-1:\n",
    "            all_yes_answers.append(sorted(yes_answers_group))\n",
    "\n",
    "t2 = 0\n",
    "for s in all_yes_answers:\n",
    "    t2+=len(s)\n",
    "t2"
   ]
  }
 ],
 "metadata": {
  "kernelspec": {
   "display_name": "Python 3",
   "language": "python",
   "name": "python3"
  },
  "language_info": {
   "codemirror_mode": {
    "name": "ipython",
    "version": 3
   },
   "file_extension": ".py",
   "mimetype": "text/x-python",
   "name": "python",
   "nbconvert_exporter": "python",
   "pygments_lexer": "ipython3",
   "version": "3.7.6"
  }
 },
 "nbformat": 4,
 "nbformat_minor": 4
}
