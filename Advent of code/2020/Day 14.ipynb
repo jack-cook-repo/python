{
 "cells": [
  {
   "cell_type": "code",
   "execution_count": 28,
   "metadata": {
    "scrolled": true
   },
   "outputs": [
    {
     "data": {
      "text/plain": [
       "[['mask', '1010X101010010101X00X00011XX11011111'],\n",
       " ['mem[1303]', '728'],\n",
       " ['mem[5195]', '213352120'],\n",
       " ['mem[34818]', '782'],\n",
       " ['mem[43971]', '29724050']]"
      ]
     },
     "execution_count": 28,
     "metadata": {},
     "output_type": "execute_result"
    }
   ],
   "source": [
    "# Open file and parse contents\n",
    "file = open('day14_inputs.txt')\n",
    "content = [line.strip().split(' = ') for line in file]\n",
    "\n",
    "content[:5]"
   ]
  },
  {
   "cell_type": "markdown",
   "metadata": {},
   "source": [
    "### Part 1"
   ]
  },
  {
   "cell_type": "markdown",
   "metadata": {},
   "source": [
    "Our program is a bitmask system, each memory address **n** (denoted by mem[n]) is a 36 bit integer representing a number between 0 and 2^36 - 1.\n",
    "\n",
    "There are 2 types of input:\n",
    "1. A memory address update, e.g. mem[3] = 16 would try to update memory address 3 with the binary value for 16 (10000, padded with 0's on the left to make a 36 digit integer)\n",
    "2. A mask, this take a memory address update and overwrite any places with 1s/0s that are populated in the mask. Any 'X's will not overwrite the memory address update\n",
    "\n",
    "To give a simple example, if we had a 5 bit mask and a 5 bit address update:\n",
    "- mask = 0X1X1\n",
    "- mem[2] = 10000\n",
    "\n",
    "We would take the attempt at writing 16 to memory address 2, and overwrite any digits where the mask is not an 'X'\n",
    "\n",
    "0X1X1\n",
    "**1**0**0**0**0**\n",
    "\n",
    "The first, third, and fifth digits are overwritten - with the result being 00101 (5) being written to memory address 2.\n",
    "\n",
    "A mask applies to all lines below it, until another mask is set."
   ]
  },
  {
   "cell_type": "code",
   "execution_count": 29,
   "metadata": {},
   "outputs": [
    {
     "data": {
      "text/plain": [
       "8566770985168"
      ]
     },
     "execution_count": 29,
     "metadata": {},
     "output_type": "execute_result"
    }
   ],
   "source": [
    "import re \n",
    "\n",
    "def convert_to_binary(num):\n",
    "    \n",
    "    binary_nums = []\n",
    "    \n",
    "    # Loop from largest to smallest number\n",
    "    for i in reversed(list(range(36))):\n",
    "        if 2**i <= num:\n",
    "            binary_nums.append(1)\n",
    "            num-=2**i\n",
    "        else:\n",
    "            binary_nums.append(0)\n",
    "    \n",
    "    return ''.join([str(bn) for bn in binary_nums])\n",
    "\n",
    "\n",
    "def convert_to_int(binary_num):\n",
    "    \n",
    "    num = 0\n",
    "    for i in range(36):\n",
    "        num+= (2**i * int(binary_num[::-1][i]))\n",
    "    \n",
    "    return num\n",
    "\n",
    "\n",
    "# Now, loop through content and either\n",
    "# 1. Set new mask\n",
    "# 2. Turn update value into binary, apply mask, update memory address\n",
    "dict_mem_addresses = {}\n",
    "\n",
    "for action, value in content:\n",
    "    \n",
    "    # Set new mask if required\n",
    "    if action == 'mask':\n",
    "        mask = value\n",
    "        if len(mask) != 36:\n",
    "            raise ValueError('Invalid mask length')\n",
    "    \n",
    "    else:\n",
    "        # Get address\n",
    "        address = re.search('[0-9]+', action).group()\n",
    "        \n",
    "        # Convert value to binary\n",
    "        value_bin = convert_to_binary(int(value))\n",
    "        \n",
    "        # Set up blank masked value list\n",
    "        masked_value_bin_list = []\n",
    "        \n",
    "        # Overwrite binary value with mask\n",
    "        for i in range(36):\n",
    "            if mask[i] != 'X':\n",
    "                masked_value_bin_list.append(mask[i])\n",
    "            else:\n",
    "                masked_value_bin_list.append(value_bin[i])\n",
    "                \n",
    "        # Write to memory\n",
    "        dict_mem_addresses[address] = ''.join(masked_value_bin_list)\n",
    "        \n",
    "        \n",
    "# Finally, loop through written memory addresses and add values\n",
    "total = 0\n",
    "for key in dict_mem_addresses:\n",
    "    total+=convert_to_int(dict_mem_addresses[key])\n",
    "\n",
    "total"
   ]
  },
  {
   "cell_type": "markdown",
   "metadata": {},
   "source": [
    "### Part 2"
   ]
  },
  {
   "cell_type": "markdown",
   "metadata": {},
   "source": [
    "Bitmask behaviour changed:\n",
    "- A 0 does nothing\n",
    "- A 1 overwrites with '1'\n",
    "- An X is floating, meaning that it takes on all possible values\n",
    "- It doesn't alter the value being written - instead it specifies which target address the number is being written to\n",
    "\n",
    "e.g.:\n",
    "- mem[42] = 100\n",
    "- address_num = 101010\n",
    "- mask = X1001X\n",
    "- masked_address_num = X1101X\n",
    "\n",
    "The X's take on all possible combinations, meaning that 4 memory addresses are written, all with the value of 100.\n",
    "\n",
    "- X1101X\n",
    "- 011010 (26)\n",
    "- 011011 (27)\n",
    "- 111010 (58)\n",
    "- 111011 (59)"
   ]
  },
  {
   "cell_type": "code",
   "execution_count": 30,
   "metadata": {
    "scrolled": true
   },
   "outputs": [
    {
     "data": {
      "text/plain": [
       "4832039794082"
      ]
     },
     "execution_count": 30,
     "metadata": {},
     "output_type": "execute_result"
    }
   ],
   "source": [
    "import copy\n",
    "\n",
    "# Now, loop through content and either\n",
    "# 1. Set new mask\n",
    "# 2. Turn update value into binary, apply mask, update memory address\n",
    "dict_mem_addresses = {}\n",
    "\n",
    "for action, value in content:\n",
    "    \n",
    "    # Set new mask if required\n",
    "    if action == 'mask':\n",
    "        mask = value\n",
    "        if len(mask) != 36:\n",
    "            raise ValueError('Invalid mask length')\n",
    "    \n",
    "    else:\n",
    "        # Get address\n",
    "        address = re.search('[0-9]+', action).group()\n",
    "        \n",
    "        # Convert value to binary\n",
    "        address_bin = convert_to_binary(int(address))\n",
    "        \n",
    "        # Set up blank masked value list\n",
    "        masked_address_bin_list = []\n",
    "        \n",
    "        for i in range(36):\n",
    "            # Overwrite binary value with mask if 1\n",
    "            if mask[i] == '1':\n",
    "                masked_address_bin_list.append('1')\n",
    "            # Ignore if mask is 0\n",
    "            elif mask[i] == '0':\n",
    "                masked_address_bin_list.append(str(address_bin[i]))\n",
    "            # Otherwise, write an X\n",
    "            else:\n",
    "                masked_address_bin_list.append('X')\n",
    "        \n",
    "        masked_address_bin = ''.join(masked_address_bin_list)\n",
    "        \n",
    "        # Write a different address for each combination of Xs\n",
    "        if masked_address_bin.count('X') == 0:\n",
    "            addresses_bin = list(masked_address_bin)\n",
    "        else:\n",
    "            addresses_bin = ['']\n",
    "            for i in range(36):\n",
    "                if masked_address_bin[i] != 'X':\n",
    "                    for j in range(len(addresses_bin)):\n",
    "                        addr = addresses_bin[j]\n",
    "                        list_addr = list(addr)\n",
    "                        list_addr.append(masked_address_bin[i])\n",
    "                        addresses_bin[j] = ''.join(list_addr)\n",
    "                else:\n",
    "                    for j in range(len(addresses_bin)):\n",
    "                        addr = addresses_bin[j]\n",
    "                        list_addr = list(addr)\n",
    "                        \n",
    "                        # Set 0s\n",
    "                        list_addr.append('0')\n",
    "                        addresses_bin[j] = ''.join(list_addr)\n",
    "                        \n",
    "                        # Set 1s\n",
    "                        list_addr_new = list(addr)\n",
    "                        list_addr_new.append('1')\n",
    "                        addresses_bin.append(''.join(list_addr_new))\n",
    "            \n",
    "                    \n",
    "        # Convert addresses back to int\n",
    "        addresses_to_write = [convert_to_int(bin_addr) for bin_addr in addresses_bin]\n",
    "        \n",
    "        # Write to memory\n",
    "        for addr in addresses_to_write:\n",
    "            dict_mem_addresses[addr] = int(value)\n",
    "        \n",
    "        \n",
    "# Finally, loop through written memory addresses and add values\n",
    "total = 0\n",
    "for key in dict_mem_addresses:\n",
    "    total+=dict_mem_addresses[key]\n",
    "\n",
    "total"
   ]
  }
 ],
 "metadata": {
  "kernelspec": {
   "display_name": "Python 3",
   "language": "python",
   "name": "python3"
  },
  "language_info": {
   "codemirror_mode": {
    "name": "ipython",
    "version": 3
   },
   "file_extension": ".py",
   "mimetype": "text/x-python",
   "name": "python",
   "nbconvert_exporter": "python",
   "pygments_lexer": "ipython3",
   "version": "3.8.6"
  }
 },
 "nbformat": 4,
 "nbformat_minor": 4
}
