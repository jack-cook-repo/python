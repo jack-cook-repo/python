{
 "cells": [
  {
   "cell_type": "code",
   "execution_count": 20,
   "metadata": {},
   "outputs": [
    {
     "data": {
      "text/plain": [
       "[0, 1, 2, 3, 6, 7, 8, 9, 10, 13, 14, 15, 16, 19, 22]"
      ]
     },
     "execution_count": 20,
     "metadata": {},
     "output_type": "execute_result"
    }
   ],
   "source": [
    "# Open file and parse contents\n",
    "file = open('day10_inputs.txt')\n",
    "content = [int(line.strip()) for line in file]\n",
    "\n",
    "# Get max value\n",
    "max_n = 0\n",
    "for n in content:\n",
    "    if n > max_n:\n",
    "        max_n = n\n",
    "    \n",
    "# Add zero and max_value plus 3 to list, then sort\n",
    "content.extend([0, max_n+3])\n",
    "content = sorted(content)\n",
    "\n",
    "content[:15]"
   ]
  },
  {
   "cell_type": "markdown",
   "metadata": {},
   "source": [
    "### Part 1"
   ]
  },
  {
   "cell_type": "markdown",
   "metadata": {},
   "source": [
    "Starting from zero, and ending at the maximum number in your list plus 3, count the gap sizes between each pair of numbers in order.\n",
    "\n",
    "Always take the smallest gap possible.\n",
    "\n",
    "e.g. 0 --> 1 (+1) --> 3 (+2) --> 5 (+2) --> 8 (+3)\n",
    "1 gap of 1, 2 gaps of 2, 1 gap of 3"
   ]
  },
  {
   "cell_type": "code",
   "execution_count": 23,
   "metadata": {},
   "outputs": [
    {
     "name": "stdout",
     "output_type": "stream",
     "text": [
      "[1, 1, 1, 3, 1]\n",
      "Number of 1s: 65\n",
      "Number of 2s: 0\n",
      "Number of 3s: 38\n",
      "1s x 3s: 2470\n"
     ]
    }
   ],
   "source": [
    "gaps = []\n",
    "\n",
    "for i in range(len(content)):\n",
    "    jolts_lower = content[i]\n",
    "    \n",
    "    sub_range=content[i+1:]\n",
    "    for j in range(len(sub_range)):\n",
    "        jolts_upper = sub_range[j]\n",
    "        jolt_gap = jolts_upper - jolts_lower\n",
    "        \n",
    "        if jolt_gap <= 3 and jolt_gap >=1:\n",
    "            gaps.append(jolt_gap)\n",
    "            break\n",
    "\n",
    "print(gaps[:5])\n",
    "            \n",
    "gap_types = [1,2,3]\n",
    "for gap_type in gap_types:\n",
    "    print('Number of {}s: {}'.format(gap_type, \n",
    "                                     gaps.count(gap_type)))\n",
    "\n",
    "print('1s x 3s: {}'.format(gaps.count(1)*gaps.count(3)))\n"
   ]
  },
  {
   "cell_type": "markdown",
   "metadata": {},
   "source": [
    "### Part 2"
   ]
  },
  {
   "cell_type": "markdown",
   "metadata": {},
   "source": [
    "Count all possible number of combinations of chargers, ignoring the previous requirement for always needing the smallest gap.\n",
    "\n",
    "All sequences must still start with 0 and end with max_n+3."
   ]
  },
  {
   "cell_type": "markdown",
   "metadata": {},
   "source": [
    "First, generate a graph that has all possible connections between indices."
   ]
  },
  {
   "cell_type": "code",
   "execution_count": 148,
   "metadata": {},
   "outputs": [
    {
     "data": {
      "text/plain": [
       "{0: [1, 2, 3],\n",
       " 1: [2, 3],\n",
       " 2: [3],\n",
       " 3: [4],\n",
       " 4: [5, 6, 7],\n",
       " 5: [6, 7, 8],\n",
       " 6: [7, 8],\n",
       " 7: [8],\n",
       " 8: [9],\n",
       " 9: [10, 11, 12],\n",
       " 10: [11, 12],\n",
       " 11: [12],\n",
       " 12: [13],\n",
       " 13: [14],\n",
       " 14: [15, 16, 17],\n",
       " 15: [16, 17],\n",
       " 16: [17],\n",
       " 17: [18],\n",
       " 18: [19],\n",
       " 19: [20],\n",
       " 20: [21],\n",
       " 21: [22],\n",
       " 22: [23],\n",
       " 23: [24],\n",
       " 24: [25, 26, 27],\n",
       " 25: [26, 27],\n",
       " 26: [27],\n",
       " 27: [28],\n",
       " 28: [29, 30],\n",
       " 29: [30],\n",
       " 30: [31],\n",
       " 31: [32],\n",
       " 32: [33, 34, 35],\n",
       " 33: [34, 35],\n",
       " 34: [35],\n",
       " 35: [36],\n",
       " 36: [37],\n",
       " 37: [38],\n",
       " 38: [39, 40, 41],\n",
       " 39: [40, 41, 42],\n",
       " 40: [41, 42],\n",
       " 41: [42],\n",
       " 42: [43],\n",
       " 43: [44],\n",
       " 44: [45],\n",
       " 45: [46, 47, 48],\n",
       " 46: [47, 48],\n",
       " 47: [48],\n",
       " 48: [49],\n",
       " 49: [50],\n",
       " 50: [51],\n",
       " 51: [52, 53],\n",
       " 52: [53],\n",
       " 53: [54],\n",
       " 54: [55],\n",
       " 55: [56, 57, 58],\n",
       " 56: [57, 58],\n",
       " 57: [58],\n",
       " 58: [59],\n",
       " 59: [60, 61],\n",
       " 60: [61],\n",
       " 61: [62],\n",
       " 62: [63, 64, 65],\n",
       " 63: [64, 65, 66],\n",
       " 64: [65, 66],\n",
       " 65: [66],\n",
       " 66: [67],\n",
       " 67: [68, 69, 70],\n",
       " 68: [69, 70, 71],\n",
       " 69: [70, 71],\n",
       " 70: [71],\n",
       " 71: [72],\n",
       " 72: [73],\n",
       " 73: [74, 75, 76],\n",
       " 74: [75, 76],\n",
       " 75: [76],\n",
       " 76: [77],\n",
       " 77: [78],\n",
       " 78: [79, 80, 81],\n",
       " 79: [80, 81],\n",
       " 80: [81],\n",
       " 81: [82],\n",
       " 82: [83],\n",
       " 83: [84],\n",
       " 84: [85, 86, 87],\n",
       " 85: [86, 87, 88],\n",
       " 86: [87, 88],\n",
       " 87: [88],\n",
       " 88: [89],\n",
       " 89: [90, 91],\n",
       " 90: [91],\n",
       " 91: [92],\n",
       " 92: [93],\n",
       " 93: [94],\n",
       " 94: [95, 96, 97],\n",
       " 95: [96, 97, 98],\n",
       " 96: [97, 98],\n",
       " 97: [98],\n",
       " 98: [99],\n",
       " 99: [100, 101, 102],\n",
       " 100: [101, 102],\n",
       " 101: [102],\n",
       " 102: [103]}"
      ]
     },
     "execution_count": 148,
     "metadata": {},
     "output_type": "execute_result"
    }
   ],
   "source": [
    "dict_jump_permutations = {}\n",
    "\n",
    "for i in range(len(content)-1):\n",
    "    jump_permutations = []\n",
    "    jolts_lower = content[i]\n",
    "    \n",
    "    sub_range=content[i+1:]\n",
    "    for j in range(len(sub_range)):\n",
    "        jolts_upper = sub_range[j]\n",
    "        jolt_gap = jolts_upper - jolts_lower\n",
    "        \n",
    "        if jolt_gap <= 3 and jolt_gap >=1:\n",
    "            jump_permutations.append(i+j+1)\n",
    "    \n",
    "    dict_jump_permutations[i] = jump_permutations\n",
    "    \n",
    "dict_jump_permutations"
   ]
  },
  {
   "cell_type": "markdown",
   "metadata": {},
   "source": [
    "Then calculate the number of paths as following:\n",
    "- Go through each key, starting from 0 going upwards\n",
    "- Start with a number of paths of 1 for the key of 0\n",
    "- Then, for each possible node that key touches, add the number of paths for that key to the node\n",
    "\n",
    "For example, take an input of [0,1,3,4,7]\n",
    "- There is 1 path to 0 (start)\n",
    "    [0(1),1(0),3(0),4(0),7(0)]\n",
    "- 0 can reach 1 or 3, so add +1 to each of their possible paths\n",
    "    [0(1),1(1),3(1),4(0),7(0)]\n",
    "- 1 can reach 3 or 4, so add +1 to each of their possible paths\n",
    "    [0(1),1(1),3(2),4(1),7(0)]\n",
    "- 3 can reach only 4, but there are 2 possible paths to 3, so add +2 to 4\n",
    "    [0(1),1(1),3(2),4(3),7(0)]\n",
    "- 4 can only reach 7, and there are 3 possible ways to get to 4\n",
    "    [0(1),1(1),3(2),4(3),7(3)]\n",
    "   \n",
    "This leaves us with 3 possible ways to get to 7\n",
    "0-1-3-4-7\n",
    "0-1-4-7\n",
    "0-3-4-7"
   ]
  },
  {
   "cell_type": "code",
   "execution_count": 149,
   "metadata": {},
   "outputs": [
    {
     "data": {
      "text/plain": [
       "1973822685184"
      ]
     },
     "execution_count": 149,
     "metadata": {},
     "output_type": "execute_result"
    }
   ],
   "source": [
    "dict_possible_paths = {}\n",
    "\n",
    "for key in dict_jump_permutations:\n",
    "    dict_possible_paths[key] = 0\n",
    "\n",
    "dict_possible_paths[0] = 1\n",
    "\n",
    "for key in dict_possible_paths:\n",
    "    if key == 102:\n",
    "        continue\n",
    "    nodes = dict_jump_permutations[key]\n",
    "    \n",
    "    for node in nodes:\n",
    "        dict_possible_paths[node]+=dict_possible_paths[key]\n",
    "\n",
    "dict_possible_paths[102]"
   ]
  }
 ],
 "metadata": {
  "kernelspec": {
   "display_name": "Python 3",
   "language": "python",
   "name": "python3"
  },
  "language_info": {
   "codemirror_mode": {
    "name": "ipython",
    "version": 3
   },
   "file_extension": ".py",
   "mimetype": "text/x-python",
   "name": "python",
   "nbconvert_exporter": "python",
   "pygments_lexer": "ipython3",
   "version": "3.8.6"
  }
 },
 "nbformat": 4,
 "nbformat_minor": 4
}
