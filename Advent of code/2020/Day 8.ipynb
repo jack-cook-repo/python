{
 "cells": [
  {
   "cell_type": "code",
   "execution_count": 58,
   "metadata": {},
   "outputs": [
    {
     "data": {
      "text/plain": [
       "[['acc', '-7'], ['acc', '+2'], ['acc', '+20'], ['acc', '+14'], ['jmp', '+191']]"
      ]
     },
     "execution_count": 58,
     "metadata": {},
     "output_type": "execute_result"
    }
   ],
   "source": [
    "# Open file and parse contents\n",
    "file = open('day8_inputs.txt')\n",
    "content_raw = [line.strip() for line in file]\n",
    "content = [c.split(' ') for c in content_raw]\n",
    "content[:5]"
   ]
  },
  {
   "cell_type": "code",
   "execution_count": 18,
   "metadata": {},
   "outputs": [
    {
     "data": {
      "text/plain": [
       "656"
      ]
     },
     "execution_count": 18,
     "metadata": {},
     "output_type": "execute_result"
    }
   ],
   "source": [
    "len(content)"
   ]
  },
  {
   "cell_type": "markdown",
   "metadata": {},
   "source": [
    "#### Part 1"
   ]
  },
  {
   "cell_type": "markdown",
   "metadata": {},
   "source": [
    "Figure out when infinite loop occurs"
   ]
  },
  {
   "cell_type": "code",
   "execution_count": 39,
   "metadata": {},
   "outputs": [
    {
     "name": "stdout",
     "output_type": "stream",
     "text": [
      "Loop 206, line 296 already visited, accumulator value 1594\n"
     ]
    }
   ],
   "source": [
    "# Restrict loops to begin with\n",
    "lines_visited = []\n",
    "instructions_executed = []\n",
    "line = 0\n",
    "accumulator = 0\n",
    "\n",
    "for i in range(10000):\n",
    "    if line in lines_visited:\n",
    "        print('Loop {}, line {} already visited, accumulator value {}'.format(i+1,line,accumulator))\n",
    "        break\n",
    "    else:\n",
    "        lines_visited.append(line)\n",
    "    \n",
    "    data = content[line]\n",
    "    action = data[0]\n",
    "    num = int(data[1])\n",
    "    instructions_executed.append([line, data])\n",
    "    \n",
    "    if action=='acc':\n",
    "        accumulator+=num\n",
    "        line+=1\n",
    "    elif action=='jmp':\n",
    "        line+=num\n",
    "    elif action=='nop':\n",
    "        line+=1\n",
    "    else:\n",
    "        raise ValueError('Action not recognised')\n",
    "    "
   ]
  },
  {
   "cell_type": "markdown",
   "metadata": {},
   "source": [
    "#### Part 2"
   ]
  },
  {
   "cell_type": "markdown",
   "metadata": {},
   "source": [
    "Change either a no-op or a jump to break the infinite loop"
   ]
  },
  {
   "cell_type": "code",
   "execution_count": 40,
   "metadata": {
    "scrolled": false
   },
   "outputs": [
    {
     "data": {
      "text/plain": [
       "[[210, ['acc', '-8']],\n",
       " [211, ['acc', '+6']],\n",
       " [212, ['jmp', '+104']],\n",
       " [316, ['acc', '+28']],\n",
       " [317, ['jmp', '-21']]]"
      ]
     },
     "execution_count": 40,
     "metadata": {},
     "output_type": "execute_result"
    }
   ],
   "source": [
    "instructions_executed[-5:]"
   ]
  },
  {
   "cell_type": "code",
   "execution_count": 41,
   "metadata": {},
   "outputs": [
    {
     "data": {
      "text/plain": [
       "656"
      ]
     },
     "execution_count": 41,
     "metadata": {},
     "output_type": "execute_result"
    }
   ],
   "source": [
    "len(content)"
   ]
  },
  {
   "cell_type": "markdown",
   "metadata": {},
   "source": [
    "We'll need to change one of the no-op or jump lines in the code we executed above, this narrows down the list of potential changes."
   ]
  },
  {
   "cell_type": "code",
   "execution_count": 46,
   "metadata": {},
   "outputs": [
    {
     "name": "stdout",
     "output_type": "stream",
     "text": [
      "96\n"
     ]
    },
    {
     "data": {
      "text/plain": [
       "[['jmp', 488], ['jmp', 480], ['jmp', 227], ['jmp', 212], ['jmp', 317]]"
      ]
     },
     "execution_count": 46,
     "metadata": {},
     "output_type": "execute_result"
    }
   ],
   "source": [
    "lines_to_change = []\n",
    "\n",
    "for ins in instructions_executed:\n",
    "    action = ins[1][0]\n",
    "    num = int(ins[1][1])\n",
    "    line = ins[0]\n",
    "    \n",
    "    if action=='jmp':\n",
    "        lines_to_change.append(['jmp', line])\n",
    "    # We can't change a nop +0 to a jmp - otherwise that would also create an infinite loop\n",
    "    elif action=='nop' and num!=0:\n",
    "        lines_to_change.append(['nop', line])\n",
    "    else:\n",
    "        pass\n",
    "    \n",
    "print(len(lines_to_change))\n",
    "lines_to_change[-5:]"
   ]
  },
  {
   "cell_type": "code",
   "execution_count": 61,
   "metadata": {},
   "outputs": [
    {
     "name": "stdout",
     "output_type": "stream",
     "text": [
      "Loop 1, line 112 already visited, accumulator value 1632\n",
      "Loop 2, line 168 already visited, accumulator value 1594\n",
      "Loop 3, line 296 already visited, accumulator value 1594\n",
      "Loop 4, line 275 already visited, accumulator value 1593\n",
      "Loop 5, line 183 already visited, accumulator value 1615\n",
      "Loop 6, line 296 already visited, accumulator value 1269\n",
      "Loop 7, line 296 already visited, accumulator value 284\n",
      "Loop 8, line 296 already visited, accumulator value 1584\n",
      "Loop 9, line 296 already visited, accumulator value 1522\n",
      "Loop 10, line 296 already visited, accumulator value 1014\n",
      "Loop 11, line 296 already visited, accumulator value 1455\n",
      "Loop 12, line 296 already visited, accumulator value 1497\n",
      "Loop 13, line 296 already visited, accumulator value 1301\n",
      "Loop 14, line 296 already visited, accumulator value 934\n",
      "Loop 15, line 557 already visited, accumulator value 326\n",
      "Loop 16, line 296 already visited, accumulator value 341\n",
      "Loop 17, line 296 already visited, accumulator value 1028\n",
      "Loop 18, line 296 already visited, accumulator value 906\n",
      "Loop 19, line 296 already visited, accumulator value 1594\n",
      "Loop 20, line 296 already visited, accumulator value 1087\n",
      "Loop 21, line 296 already visited, accumulator value 413\n",
      "Loop 22, line 296 already visited, accumulator value 915\n",
      "Loop 23, line 296 already visited, accumulator value 1158\n",
      "Loop 24, line 296 already visited, accumulator value 1446\n",
      "Loop 25, line 296 already visited, accumulator value 1112\n",
      "Loop 26, line 296 already visited, accumulator value 1138\n",
      "Loop 27, line 296 already visited, accumulator value 1594\n",
      "Loop 28, line 296 already visited, accumulator value 612\n",
      "Loop 29, line 76 already visited, accumulator value 500\n",
      "Loop 30, line 600 already visited, accumulator value 482\n",
      "Loop 31, line 296 already visited, accumulator value 450\n",
      "Loop 32, line 296 already visited, accumulator value 1169\n",
      "Loop 33, line 296 already visited, accumulator value 1569\n",
      "Loop 34, line 296 already visited, accumulator value 1547\n",
      "Loop 35, line 296 already visited, accumulator value 969\n",
      "Loop 36, line 296 already visited, accumulator value 1287\n",
      "Loop 37, line 296 already visited, accumulator value 1402\n",
      "Infinite loop broken! Loop 38, line changed ['jmp', 364], accumulator value 758\n"
     ]
    }
   ],
   "source": [
    "import copy\n",
    "break_loop = False\n",
    "\n",
    "for j in range(len(lines_to_change)):\n",
    "    \n",
    "    if break_loop:\n",
    "        break\n",
    "    action_to_change = lines_to_change[j][0]\n",
    "    line_to_change = lines_to_change[j][1]\n",
    "    \n",
    "    # Set variables ready for loop\n",
    "    lines_visited = []\n",
    "    instructions_executed = []\n",
    "    line = 0\n",
    "    accumulator = 0\n",
    "    content_loop = copy.deepcopy(content)\n",
    "    \n",
    "    # Overwrite actions\n",
    "    if action_to_change=='jmp':\n",
    "        content_loop[line_to_change][0] = 'nop'\n",
    "    else:\n",
    "        content_loop[line_to_change][0] = 'jmp'\n",
    "\n",
    "    for i in range(1000):\n",
    "        if line in lines_visited:\n",
    "            print('Loop {}, line {} already visited, accumulator value {}'.format(j+1,line,accumulator))\n",
    "            break\n",
    "        elif line == len(content)-1:\n",
    "            print('Infinite loop broken! Loop {}, line changed {}, accumulator value {}'.format(j+1, \n",
    "                                                                                                lines_to_change[j], \n",
    "                                                                                                accumulator))\n",
    "            break_loop = True\n",
    "            break\n",
    "        else:\n",
    "            lines_visited.append(line)\n",
    "\n",
    "        data = content_loop[line]\n",
    "        action = data[0]\n",
    "        num = int(data[1])\n",
    "        instructions_executed.append([line, data])\n",
    "\n",
    "        if action=='acc':\n",
    "            accumulator+=num\n",
    "            line+=1\n",
    "        elif action=='jmp':\n",
    "            line+=num\n",
    "        elif action=='nop':\n",
    "            line+=1\n",
    "    "
   ]
  }
 ],
 "metadata": {
  "kernelspec": {
   "display_name": "Python 3",
   "language": "python",
   "name": "python3"
  },
  "language_info": {
   "codemirror_mode": {
    "name": "ipython",
    "version": 3
   },
   "file_extension": ".py",
   "mimetype": "text/x-python",
   "name": "python",
   "nbconvert_exporter": "python",
   "pygments_lexer": "ipython3",
   "version": "3.8.6"
  }
 },
 "nbformat": 4,
 "nbformat_minor": 4
}
