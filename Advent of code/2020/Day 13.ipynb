{
 "cells": [
  {
   "cell_type": "code",
   "execution_count": 1,
   "metadata": {
    "scrolled": true
   },
   "outputs": [
    {
     "data": {
      "text/plain": [
       "['1002394',\n",
       " '13,x,x,41,x,x,x,37,x,x,x,x,x,419,x,x,x,x,x,x,x,x,x,x,x,x,x,x,x,x,x,x,19,x,x,x,23,x,x,x,x,x,29,x,421,x,x,x,x,x,x,x,x,x,x,x,x,x,x,x,x,17']"
      ]
     },
     "execution_count": 1,
     "metadata": {},
     "output_type": "execute_result"
    }
   ],
   "source": [
    "# Open file and parse contents\n",
    "file = open('day13_inputs.txt')\n",
    "content = [line.strip() for line in file]\n",
    "\n",
    "content"
   ]
  },
  {
   "cell_type": "markdown",
   "metadata": {},
   "source": [
    "Input consists of 2 lines:\n",
    "- The earliest time you can depart (in minutes from a start time of 0 minutes)\n",
    "- A list of bus IDs\n",
    "\n",
    "Each bus' ID represents the frequency of the bus, for example: bus 7 would depart at 0, 7, 14, 21 etc. minutes, bus 13 at 0, 13, 26, 39 etc. minutes.\n",
    "\n",
    "An 'x' infers that you can ignore that bus."
   ]
  },
  {
   "cell_type": "markdown",
   "metadata": {},
   "source": [
    "### Part 1"
   ]
  },
  {
   "cell_type": "markdown",
   "metadata": {},
   "source": [
    "We want to find the **earliest** bus that we can take.\n",
    "\n",
    "For a departure time of >=939 minutes, and buses [7,13,59,31,19], the earliest bus would be the 59 at 944 minutes (59 * 16).\n",
    "\n",
    "We want the minutes waited (944 - 939) multiplied by the bus ID (59), 5 * 59 = 295."
   ]
  },
  {
   "cell_type": "code",
   "execution_count": 2,
   "metadata": {},
   "outputs": [
    {
     "data": {
      "text/plain": [
       "(1002394, [13, 41, 37, 419, 19, 23, 29, 421, 17])"
      ]
     },
     "execution_count": 2,
     "metadata": {},
     "output_type": "execute_result"
    }
   ],
   "source": [
    "earliest_dept = int(content[0])\n",
    "bus_ids = [int(bus_id) for bus_id in content[1].split(',') if bus_id != 'x']\n",
    "\n",
    "earliest_dept, bus_ids"
   ]
  },
  {
   "cell_type": "code",
   "execution_count": 3,
   "metadata": {},
   "outputs": [
    {
     "name": "stdout",
     "output_type": "stream",
     "text": [
      "Earliest bus 421, departing at 1002401, wait time 7, puzzle answer 2947\n"
     ]
    }
   ],
   "source": [
    "import itertools\n",
    "\n",
    "dept_time = earliest_dept\n",
    "earliest_bus_id = None\n",
    "\n",
    "# Repeat loop until we have a valid number\n",
    "for bus_id_list in itertools.repeat(bus_ids,10):\n",
    "    \n",
    "    # Check each bus_id\n",
    "    for bus_id in bus_id_list:\n",
    "        \n",
    "        if dept_time % bus_id == 0:\n",
    "            earliest_bus_id = bus_id\n",
    "    \n",
    "    \n",
    "    if earliest_bus_id is not None:\n",
    "        wait_time = dept_time-earliest_dept\n",
    "        print('Earliest bus {}, departing at {}, wait time {}, puzzle answer {}'.format(earliest_bus_id,\n",
    "                                                                                        dept_time,\n",
    "                                                                                        wait_time,\n",
    "                                                                                        wait_time*earliest_bus_id))\n",
    "        break\n",
    "    else:\n",
    "        dept_time+=1"
   ]
  },
  {
   "cell_type": "markdown",
   "metadata": {},
   "source": [
    "### Part 2"
   ]
  },
  {
   "cell_type": "markdown",
   "metadata": {},
   "source": [
    "Find the time at which each bus in the list departs 1 minute after the prior bus.\n",
    "\n",
    "e.g. for: 7,13,x,x,59,x,31,19, find the time t at which:\n",
    "- Bus 7 departs at t\n",
    "- Bus 13 departs at t+1\n",
    "- Bus 59 departs at t+4\n",
    "- Bus 31 departs at t+6\n",
    "- Bus 19 departs at t+7\n",
    "\n",
    "Disregard the first line of our input (earliest departure time).\n",
    "\n",
    "x's still don't matter (it could be any bus ID), but the position of our other bus IDs do."
   ]
  },
  {
   "cell_type": "code",
   "execution_count": 4,
   "metadata": {
    "scrolled": true
   },
   "outputs": [
    {
     "data": {
      "text/plain": [
       "[[13, 0],\n",
       " [41, 3],\n",
       " [37, 7],\n",
       " [419, 13],\n",
       " [19, 32],\n",
       " [23, 36],\n",
       " [29, 42],\n",
       " [421, 44],\n",
       " [17, 61]]"
      ]
     },
     "execution_count": 4,
     "metadata": {},
     "output_type": "execute_result"
    }
   ],
   "source": [
    "content_list = content[1].split(',')\n",
    "bus_ids_with_pos = [[int(content_list[i]), i] for i in range(len(content_list)) if content_list[i] != 'x']\n",
    "bus_ids_with_pos"
   ]
  },
  {
   "cell_type": "code",
   "execution_count": 41,
   "metadata": {},
   "outputs": [
    {
     "name": "stdout",
     "output_type": "stream",
     "text": [
      "13 0 0\n",
      "41 3 0\n",
      "37 7 0\n",
      "419 13 0\n",
      "19 32 0\n",
      "23 36 0\n",
      "29 42 0\n",
      "421 44 0\n",
      "17 61 0\n"
     ]
    }
   ],
   "source": [
    "n = 526090562196173\n",
    "for b, o in bus_ids_with_pos:\n",
    "    print(b, o, (n+o)%b)"
   ]
  },
  {
   "cell_type": "markdown",
   "metadata": {},
   "source": [
    "All bus IDs are prime numbers, so we can do the following:\n",
    "- Loop through numbers, 1 at a time, to find a timestamp T that satisfies the first 2 cases (i.e. timestamp divisible by 13, and when 3 is added is also divisible by 41)\n",
    "- Since 13 & 41 are co-primes (their only common divisor is 1), the next timestamp TX that will satisfy these 2 cases again will be a multiple of 13 * 41 (533) away - i.e. TX = T + n(533)\n",
    "\n",
    "Once we have this as a starting point:\n",
    "- We then add on 533 until we find a timestamp T2 that satisfies the third ID, when 7 is added it's divisible by 13\n",
    "- Then, again knowing that our next timestamp T3 that will now satisfy our first **three** IDs will be a multiple of 13 * 41 * 37 (19,721) - i.e. T3 = T2 + m(19,721) = T + n(533) + m(19,721)\n",
    "\n",
    "We can then repeat these last 2 steps until we find a timestamp that satisfies all IDs."
   ]
  },
  {
   "cell_type": "code",
   "execution_count": 39,
   "metadata": {},
   "outputs": [
    {
     "name": "stdout",
     "output_type": "stream",
     "text": [
      "First t that divides by 13 and, when 3 is added, divides 41, is 325\n",
      "Loop for ID 37 and offset 7 finished, timestamp 2990\n",
      "Loop for ID 419 and offset 13 finished, timestamp 4085237\n",
      "Loop for ID 19 and offset 32 finished, timestamp 28874534\n",
      "Loop for ID 23 and offset 36 finished, timestamp 499871177\n",
      "Loop for ID 29 and offset 42 finished, timestamp 90774227752\n",
      "Loop for ID 421 and offset 44 finished, timestamp 41140329649536\n",
      "Loop for ID 17 and offset 61 finished, timestamp 526090562196173\n"
     ]
    }
   ],
   "source": [
    "# Figure out starting point\n",
    "first_id = bus_ids_with_pos[0][0]\n",
    "second_id = bus_ids_with_pos[1][0]\n",
    "second_id_offset = bus_ids_with_pos[1][1]\n",
    "t = 0\n",
    "\n",
    "# Get starting t\n",
    "while not (t % first_id == 0 and (t + second_id_offset) % second_id == 0):\n",
    "    t+=1\n",
    "    \n",
    "print('First t that divides by {} and, when {} is added, divides {}, is {}'.format(first_id,\n",
    "                                                                                   second_id_offset,\n",
    "                                                                                   second_id,\n",
    "                                                                                   t))\n",
    "\n",
    "# Must jump by multiples of first_id * second_id to reach each valid timestamp after t_init that\n",
    "# Satisfies the t and t+1 requirements\n",
    "int_jump = first_id * second_id\n",
    "        \n",
    "# Loop through rest of list\n",
    "for bus_id, offset in bus_ids_with_pos[2:]:\n",
    "    \n",
    "    # Find timestamp that also satisfies next id in list\n",
    "    while (t+offset) % bus_id != 0:\n",
    "        t+=int_jump\n",
    "    \n",
    "    print('Loop for ID {} and offset {} finished, timestamp {}'.format(bus_id,\n",
    "                                                                       offset,\n",
    "                                                                       t))\n",
    "    # Must then jump in integers that are multiple of this bus_id\n",
    "    int_jump*=bus_id   "
   ]
  }
 ],
 "metadata": {
  "kernelspec": {
   "display_name": "Python 3",
   "language": "python",
   "name": "python3"
  },
  "language_info": {
   "codemirror_mode": {
    "name": "ipython",
    "version": 3
   },
   "file_extension": ".py",
   "mimetype": "text/x-python",
   "name": "python",
   "nbconvert_exporter": "python",
   "pygments_lexer": "ipython3",
   "version": "3.7.6"
  }
 },
 "nbformat": 4,
 "nbformat_minor": 4
}
