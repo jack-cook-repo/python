{
 "cells": [
  {
   "cell_type": "code",
   "execution_count": 2,
   "metadata": {},
   "outputs": [],
   "source": [
    "import numpy as np"
   ]
  },
  {
   "cell_type": "markdown",
   "metadata": {},
   "source": [
    "## Create board"
   ]
  },
  {
   "cell_type": "code",
   "execution_count": 119,
   "metadata": {},
   "outputs": [],
   "source": [
    "board_init = np.zeros(shape=(9,9),dtype=int)"
   ]
  },
  {
   "cell_type": "code",
   "execution_count": 120,
   "metadata": {},
   "outputs": [
    {
     "data": {
      "text/plain": [
       "(9, 9)"
      ]
     },
     "execution_count": 120,
     "metadata": {},
     "output_type": "execute_result"
    }
   ],
   "source": [
    "board_init.shape"
   ]
  },
  {
   "cell_type": "code",
   "execution_count": 121,
   "metadata": {
    "scrolled": true
   },
   "outputs": [
    {
     "name": "stdout",
     "output_type": "stream",
     "text": [
      "[[0 0 0 0 0 0 0 0 0]\n",
      " [0 0 0 0 0 0 0 0 0]\n",
      " [0 0 0 0 0 0 0 0 0]\n",
      " [0 0 0 0 0 0 0 0 0]\n",
      " [0 0 0 0 0 0 0 0 0]\n",
      " [0 0 0 0 0 0 0 0 0]\n",
      " [0 0 0 0 0 0 0 0 0]\n",
      " [0 0 0 0 0 0 0 0 0]\n",
      " [0 0 0 0 0 0 0 0 0]]\n"
     ]
    }
   ],
   "source": [
    "print(board_init)"
   ]
  },
  {
   "cell_type": "markdown",
   "metadata": {},
   "source": [
    "## Add numbers"
   ]
  },
  {
   "cell_type": "code",
   "execution_count": 176,
   "metadata": {},
   "outputs": [],
   "source": [
    "board_init[0,:] = [0,0,0,0,0,0,5,7,3]\n",
    "board_init[1,:] = [8,0,0,0,2,0,0,0,0]\n",
    "board_init[2,:] = [7,0,0,9,0,0,8,1,0]\n",
    "board_init[3,:] = [5,8,0,7,0,6,0,0,0]\n",
    "board_init[4,:] = [0,0,1,8,0,0,0,6,0]\n",
    "board_init[5,:] = [2,3,0,0,4,0,0,0,9]\n",
    "board_init[6,:] = [9,1,5,0,0,0,0,0,0]\n",
    "board_init[7,:] = [0,0,0,0,8,0,6,0,1]\n",
    "board_init[8,:] = [0,0,0,0,0,0,0,4,0]"
   ]
  },
  {
   "cell_type": "code",
   "execution_count": 178,
   "metadata": {
    "scrolled": true
   },
   "outputs": [
    {
     "name": "stdout",
     "output_type": "stream",
     "text": [
      "[[0 0 0 0 0 0 5 7 3]\n",
      " [8 0 0 0 2 0 0 0 0]\n",
      " [7 0 0 9 0 0 8 1 0]\n",
      " [5 8 0 7 0 6 0 0 0]\n",
      " [0 0 1 8 0 0 0 6 0]\n",
      " [2 3 0 0 4 0 0 0 9]\n",
      " [9 1 5 0 0 0 0 0 0]\n",
      " [0 0 0 0 8 0 6 0 1]\n",
      " [0 0 0 0 0 0 0 4 0]]\n"
     ]
    }
   ],
   "source": [
    "print(board_init)"
   ]
  },
  {
   "cell_type": "markdown",
   "metadata": {},
   "source": [
    "## Create functions"
   ]
  },
  {
   "cell_type": "markdown",
   "metadata": {},
   "source": [
    "Checking columns & rows for unique values is simple in arrays, but checking boxes is slightly trickier - as you need to check an array where all values have the same multiple of 3 row/column group.\n",
    "\n",
    "eg. the value at row 2, column 3 is in the first group of 3 of both rows and columns. To figure these groups out we need to be able to round up to the nearest 3 for each index to identify these groups"
   ]
  },
  {
   "cell_type": "code",
   "execution_count": 179,
   "metadata": {},
   "outputs": [],
   "source": [
    "def roundup_to_nearest_three(index):\n",
    "    roundup_float = np.ceil((index + 1) / 3) * 3 # Add 1 as indices start from 0\n",
    "    roundup_int = np.int(roundup_float)\n",
    "    \n",
    "    return roundup_int"
   ]
  },
  {
   "cell_type": "markdown",
   "metadata": {},
   "source": [
    "Using the above we need to be able to check the unique values for row/column/box for a given pair of indices"
   ]
  },
  {
   "cell_type": "code",
   "execution_count": 180,
   "metadata": {},
   "outputs": [],
   "source": [
    "def check_unique(board, row, column):\n",
    "    # Get distinct values from row and column\n",
    "    row_values = np.unique(board[row,:])\n",
    "    col_values = np.unique(board[:,column])\n",
    "    \n",
    "    # First define the box that the row/column falls into\n",
    "    # This will be a group of 3 in each axis\n",
    "    row_grp = roundup_to_nearest_three(row)\n",
    "    col_grp = roundup_to_nearest_three(column)\n",
    "    \n",
    "    # Then get distinct values from boxes\n",
    "    box_values = np.unique(board[row_grp-3:row_grp, col_grp-3:col_grp])\n",
    "    \n",
    "    # Bring all into one list\n",
    "    all_values = np.concatenate((row_values, col_values, box_values), axis=None)\n",
    "    \n",
    "    # Then take the unique values from all of them\n",
    "    unique_values = np.unique(all_values)\n",
    "    \n",
    "    return unique_values"
   ]
  },
  {
   "cell_type": "markdown",
   "metadata": {},
   "source": [
    "Finally, if the above function means only 1 number can occupy the value of a cell - then overwrite it!"
   ]
  },
  {
   "cell_type": "code",
   "execution_count": 181,
   "metadata": {},
   "outputs": [],
   "source": [
    "def fill_values(board, row, column):\n",
    "    # We're only interested in values not yet filled\n",
    "    if board[row,column] == 0:\n",
    "        existing_values = check_unique(board, row, column)\n",
    "        potential_values = [value for value in range(1,10) if value not in existing_values]\n",
    "        \n",
    "        # If there's only one potential solution, overwrite zero with that value\n",
    "        if len(potential_values) == 1:\n",
    "            board_play[row,column] = potential_values[0]\n",
    "            print('Row: ', str(row + 1), '& Col: ', str(column + 1), ' overwritten with ', str(potential_values[0]))"
   ]
  },
  {
   "cell_type": "markdown",
   "metadata": {},
   "source": [
    "## Play!"
   ]
  },
  {
   "cell_type": "code",
   "execution_count": 182,
   "metadata": {},
   "outputs": [
    {
     "name": "stdout",
     "output_type": "stream",
     "text": [
      "Row:  2 & Col:  8  overwritten with  9\n",
      "Row:  5 & Col:  1  overwritten with  4\n",
      "Row:  8 & Col:  1  overwritten with  3\n",
      "Row:  9 & Col:  1  overwritten with  6\n",
      "\n",
      " Loop number  1  complete \n",
      "\n",
      "50  zeroes left\n",
      "Row:  1 & Col:  1  overwritten with  1\n",
      "Row:  1 & Col:  5  overwritten with  6\n",
      "Row:  2 & Col:  7  overwritten with  4\n",
      "Row:  2 & Col:  9  overwritten with  6\n",
      "Row:  3 & Col:  9  overwritten with  2\n",
      "Row:  4 & Col:  3  overwritten with  9\n",
      "Row:  4 & Col:  9  overwritten with  4\n",
      "Row:  5 & Col:  2  overwritten with  7\n",
      "Row:  5 & Col:  9  overwritten with  5\n",
      "Row:  6 & Col:  3  overwritten with  6\n",
      "Row:  6 & Col:  8  overwritten with  8\n",
      "Row:  9 & Col:  2  overwritten with  2\n",
      "\n",
      " Loop number  2  complete \n",
      "\n",
      "38  zeroes left\n",
      "Row:  1 & Col:  4  overwritten with  4\n",
      "Row:  1 & Col:  6  overwritten with  8\n",
      "Row:  2 & Col:  2  overwritten with  5\n",
      "Row:  2 & Col:  3  overwritten with  3\n",
      "Row:  2 & Col:  4  overwritten with  1\n",
      "Row:  2 & Col:  6  overwritten with  7\n",
      "Row:  3 & Col:  3  overwritten with  4\n",
      "Row:  6 & Col:  4  overwritten with  5\n",
      "Row:  6 & Col:  6  overwritten with  1\n",
      "Row:  6 & Col:  7  overwritten with  7\n",
      "Row:  8 & Col:  2  overwritten with  4\n",
      "Row:  8 & Col:  3  overwritten with  7\n",
      "Row:  8 & Col:  4  overwritten with  2\n",
      "Row:  8 & Col:  8  overwritten with  5\n",
      "Row:  9 & Col:  3  overwritten with  8\n",
      "Row:  9 & Col:  4  overwritten with  3\n",
      "Row:  9 & Col:  7  overwritten with  9\n",
      "Row:  9 & Col:  9  overwritten with  7\n",
      "\n",
      " Loop number  3  complete \n",
      "\n",
      "20  zeroes left\n",
      "Row:  1 & Col:  2  overwritten with  9\n",
      "Row:  1 & Col:  3  overwritten with  2\n",
      "Row:  3 & Col:  2  overwritten with  6\n",
      "Row:  4 & Col:  5  overwritten with  3\n",
      "Row:  4 & Col:  8  overwritten with  2\n",
      "Row:  5 & Col:  5  overwritten with  9\n",
      "Row:  5 & Col:  6  overwritten with  2\n",
      "Row:  5 & Col:  7  overwritten with  3\n",
      "Row:  7 & Col:  4  overwritten with  6\n",
      "Row:  7 & Col:  5  overwritten with  7\n",
      "Row:  7 & Col:  6  overwritten with  4\n",
      "Row:  7 & Col:  7  overwritten with  2\n",
      "Row:  7 & Col:  8  overwritten with  3\n",
      "Row:  7 & Col:  9  overwritten with  8\n",
      "Row:  8 & Col:  6  overwritten with  9\n",
      "Row:  9 & Col:  6  overwritten with  5\n",
      "\n",
      " Loop number  4  complete \n",
      "\n",
      "4  zeroes left\n",
      "Row:  3 & Col:  5  overwritten with  5\n",
      "Row:  3 & Col:  6  overwritten with  3\n",
      "Row:  4 & Col:  7  overwritten with  1\n",
      "Row:  9 & Col:  5  overwritten with  1\n",
      "\n",
      " Loop number  5  complete \n",
      "\n",
      "Finished!\n",
      "[[1 9 2 4 6 8 5 7 3]\n",
      " [8 5 3 1 2 7 4 9 6]\n",
      " [7 6 4 9 5 3 8 1 2]\n",
      " [5 8 9 7 3 6 1 2 4]\n",
      " [4 7 1 8 9 2 3 6 5]\n",
      " [2 3 6 5 4 1 7 8 9]\n",
      " [9 1 5 6 7 4 2 3 8]\n",
      " [3 4 7 2 8 9 6 5 1]\n",
      " [6 2 8 3 1 5 9 4 7]]\n"
     ]
    }
   ],
   "source": [
    "board_play = board_init.copy()\n",
    "\n",
    "# Restrict to max of 10 loops\n",
    "for i in range(10):\n",
    "    \n",
    "    # Loop through table columns & rows\n",
    "    for row in range(9):\n",
    "        for column in range(9):\n",
    "            fill_values(board_play, row, column)\n",
    "                \n",
    "    print('\\n Loop number ', str(i + 1), ' complete \\n')\n",
    "    \n",
    "    # Checks array for number of non-filled values remaining\n",
    "    zeroes_remaining = np.count_nonzero(board_play == 0)\n",
    "    \n",
    "    if zeroes_remaining == 0:\n",
    "        print('Finished!')\n",
    "        break\n",
    "    else:\n",
    "        print(str(zeroes_remaining), ' zeroes left')\n",
    "\n",
    "print(board_play)"
   ]
  }
 ],
 "metadata": {
  "kernelspec": {
   "display_name": "Python 3",
   "language": "python",
   "name": "python3"
  },
  "language_info": {
   "codemirror_mode": {
    "name": "ipython",
    "version": 3
   },
   "file_extension": ".py",
   "mimetype": "text/x-python",
   "name": "python",
   "nbconvert_exporter": "python",
   "pygments_lexer": "ipython3",
   "version": "3.7.6"
  }
 },
 "nbformat": 4,
 "nbformat_minor": 4
}
