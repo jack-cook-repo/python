{
 "cells": [
  {
   "cell_type": "markdown",
   "metadata": {},
   "source": [
    "1. Prepare data\n",
    "2. Outline model & activation functions\n",
    "3. Set appropriate optimisers and loss function\n",
    "4. Learn\n",
    "5. Test accuracy"
   ]
  },
  {
   "cell_type": "code",
   "execution_count": 1,
   "metadata": {},
   "outputs": [
    {
     "name": "stderr",
     "output_type": "stream",
     "text": [
      "/Users/jackcook/.pyenv/versions/3.7.1/lib/python3.7/site-packages/pandas/compat/__init__.py:117: UserWarning: Could not import the lzma module. Your installed Python is incomplete. Attempting to use lzma compression will result in a RuntimeError.\n",
      "  warnings.warn(msg)\n"
     ]
    }
   ],
   "source": [
    "import numpy as np\n",
    "import tensorflow as tf\n",
    "\n",
    "import tensorflow_datasets as tfds"
   ]
  },
  {
   "cell_type": "markdown",
   "metadata": {},
   "source": [
    "## Data prep"
   ]
  },
  {
   "cell_type": "code",
   "execution_count": 2,
   "metadata": {},
   "outputs": [],
   "source": [
    "# Get dataset plus information\n",
    "mnist_dataset, mnist_info = tfds.load(name=\"mnist\", as_supervised=True, with_info=True)\n",
    "\n",
    "# Train/test split\n",
    "mnist_train, mnist_test = mnist_dataset['train'], mnist_dataset['test']\n",
    "\n",
    "num_validation_samples = 0.1 * mnist_info.splits['train'].num_examples\n",
    "# Ensure this is an integer\n",
    "num_validation_samples = tf.cast(num_validation_samples, tf.int64)\n",
    "\n",
    "num_test_samples = mnist_info.splits['test'].num_examples\n",
    "# Ensure this is an integer\n",
    "num_test_samples = tf.cast(num_test_samples, tf.int64)"
   ]
  },
  {
   "cell_type": "markdown",
   "metadata": {},
   "source": [
    "Then scale inputs between 0 and 1"
   ]
  },
  {
   "cell_type": "code",
   "execution_count": 3,
   "metadata": {},
   "outputs": [],
   "source": [
    "def scale(image, label):\n",
    "    # Take image\n",
    "    image = tf.cast(image, tf.float32)\n",
    "    # Value between 0 and 255, divide by 255 to get 0-1 range\n",
    "    image /= 255. # Dot forces float64 output\n",
    "    return image, label\n",
    "\n",
    "\n",
    "# Remember we are using our training dataset for train & validation\n",
    "scaled_train_and_validation_data = mnist_train.map(scale)\n",
    "\n",
    "scaled_test_data = mnist_test.map(scale)"
   ]
  },
  {
   "cell_type": "markdown",
   "metadata": {},
   "source": [
    "Shuffling means keeping the same information, but in a different order.\n",
    "\n",
    "This helps prevent issues when batching data - ie. first 1000 examples are all target label 0, second 100 examples are 50:50 split of 0 & 1."
   ]
  },
  {
   "cell_type": "code",
   "execution_count": 4,
   "metadata": {},
   "outputs": [],
   "source": [
    "BUFFER_SIZE = 10000"
   ]
  },
  {
   "cell_type": "markdown",
   "metadata": {},
   "source": [
    "- If buffer size = 1, no shuffling happens\n",
    "- If buffer size >= number of samples, all samples shuffled uniformly\n",
    "- Inbetween optimises for computing power (larger size = more memory)"
   ]
  },
  {
   "cell_type": "code",
   "execution_count": 5,
   "metadata": {},
   "outputs": [],
   "source": [
    "shuffled_train_and_validation_data = scaled_train_and_validation_data.shuffle(BUFFER_SIZE)\n",
    "\n",
    "# Take and skip include & omit a given number of samples respectively\n",
    "validation_data = shuffled_train_and_validation_data.take(num_validation_samples)\n",
    "train_data = shuffled_train_and_validation_data.skip(num_validation_samples)"
   ]
  },
  {
   "cell_type": "markdown",
   "metadata": {},
   "source": [
    "We can change batch size to determine what type of gradient descent (GD) we perform:\n",
    "\n",
    "- Size of 1: Stochastic GD\n",
    "- Size of whole dataset: GD\n",
    "- Inbetween: Batch GD"
   ]
  },
  {
   "cell_type": "code",
   "execution_count": 6,
   "metadata": {},
   "outputs": [],
   "source": [
    "BATCH_SIZE = 100\n",
    "\n",
    "train_data = train_data.batch(BATCH_SIZE)\n",
    "\n",
    "# We don't need to batch validation data, as we don't BACK propogate the weights using it\n",
    "# As a result it's much less computationally intensive\n",
    "# We just provide the whole sample as a batch to calculate avg. loss each epoch\n",
    "validation_data = validation_data.batch(num_validation_samples)\n",
    "\n",
    "# The same goes for test data\n",
    "test_data = scaled_test_data.batch(num_test_samples)"
   ]
  },
  {
   "cell_type": "markdown",
   "metadata": {},
   "source": [
    "Then we take the validation inputs & targets by unpacking the tuples"
   ]
  },
  {
   "cell_type": "code",
   "execution_count": 7,
   "metadata": {},
   "outputs": [],
   "source": [
    "# iter() creates an objected which can be looped through\n",
    "# next() loads the next element, in this case we just have a single batch\n",
    "validation_inputs, validation_targets = next(iter(validation_data))"
   ]
  },
  {
   "cell_type": "markdown",
   "metadata": {},
   "source": [
    " "
   ]
  },
  {
   "cell_type": "markdown",
   "metadata": {},
   "source": [
    "## Model"
   ]
  },
  {
   "cell_type": "markdown",
   "metadata": {},
   "source": [
    "We have 784 inputs (28 x 28 pixels, each with a value of 0 to 1), 10 output digits, and we will be using 2 hidden layers with 50 nodes in each."
   ]
  },
  {
   "cell_type": "code",
   "execution_count": 8,
   "metadata": {},
   "outputs": [],
   "source": [
    "input_size = 784\n",
    "output_size = 10\n",
    "hidden_layer_size = 200 # We can use different widths for each layer if we like"
   ]
  },
  {
   "cell_type": "markdown",
   "metadata": {},
   "source": [
    "Next we define the model"
   ]
  },
  {
   "cell_type": "code",
   "execution_count": 9,
   "metadata": {},
   "outputs": [],
   "source": [
    "model = tf.keras.Sequential([ # Stacking layers\n",
    "    # Flatten turns a tensor into a vector\n",
    "    # In our case, it takes a 28x28x1 tensor and produces a vector of 784\n",
    "    tf.keras.layers.Flatten(input_shape=(28,28,1)),\n",
    "    \n",
    "    # Dense takes inputs and calculates dot product of inputs x weights\n",
    "    # Then adds bias, and applies activation function\n",
    "    \n",
    "    # Hidden layers 1-5\n",
    "    tf.keras.layers.Dense(hidden_layer_size, activation='relu'),\n",
    "    tf.keras.layers.Dense(hidden_layer_size, activation='relu'),\n",
    "    tf.keras.layers.Dense(hidden_layer_size, activation='relu'),\n",
    "    tf.keras.layers.Dense(hidden_layer_size, activation='relu'),\n",
    "    \n",
    "    # Output layer\n",
    "    tf.keras.layers.Dense(output_size, activation='softmax')\n",
    "]) "
   ]
  },
  {
   "cell_type": "markdown",
   "metadata": {},
   "source": [
    " "
   ]
  },
  {
   "cell_type": "markdown",
   "metadata": {},
   "source": [
    "## Objective (loss) function & optimisation algorithm"
   ]
  },
  {
   "cell_type": "markdown",
   "metadata": {},
   "source": [
    "We use ADAptive Moment (ADAM) estimation as optimisation algorithm. ADAM uses:\n",
    "\n",
    "- RMSprop (Root Mean Square Propogation) scheduler (updates eta during training)\n",
    "- Momentum (adding part of previous update to current update) to reflect \"speed\" of descent)\n",
    "\n",
    "We use cross-entropy to see how well our model performs vs. actual digits:\n",
    "\n",
    "- Binary cross-entropy requires binary encoding (not our case)\n",
    "- Categoryical cross-entropy assumes you've one-hot encoded targets\n",
    "- Sparse categorical cross-entropy applies one-hot encoding"
   ]
  },
  {
   "cell_type": "code",
   "execution_count": 10,
   "metadata": {},
   "outputs": [],
   "source": [
    "model.compile(optimizer='adam',\n",
    "              loss='sparse_categorical_crossentropy',\n",
    "              metrics=['accuracy'])"
   ]
  },
  {
   "cell_type": "markdown",
   "metadata": {},
   "source": [
    " "
   ]
  },
  {
   "cell_type": "markdown",
   "metadata": {},
   "source": [
    "## Training"
   ]
  },
  {
   "cell_type": "code",
   "execution_count": 11,
   "metadata": {},
   "outputs": [
    {
     "name": "stdout",
     "output_type": "stream",
     "text": [
      "Epoch 1/5\n",
      "540/540 - 7s - loss: 0.2693 - accuracy: 0.9183 - val_loss: 0.1243 - val_accuracy: 0.9627\n",
      "Epoch 2/5\n",
      "540/540 - 6s - loss: 0.1062 - accuracy: 0.9676 - val_loss: 0.0875 - val_accuracy: 0.9737\n",
      "Epoch 3/5\n",
      "540/540 - 5s - loss: 0.0755 - accuracy: 0.9766 - val_loss: 0.0779 - val_accuracy: 0.9740\n",
      "Epoch 4/5\n",
      "540/540 - 6s - loss: 0.0553 - accuracy: 0.9818 - val_loss: 0.0607 - val_accuracy: 0.9812\n",
      "Epoch 5/5\n",
      "540/540 - 6s - loss: 0.0471 - accuracy: 0.9844 - val_loss: 0.0665 - val_accuracy: 0.9787\n"
     ]
    },
    {
     "data": {
      "text/plain": [
       "<tensorflow.python.keras.callbacks.History at 0x1445bd1d0>"
      ]
     },
     "execution_count": 11,
     "metadata": {},
     "output_type": "execute_result"
    }
   ],
   "source": [
    "NUM_EPOCHS = 5\n",
    "\n",
    "model.fit(train_data, \n",
    "          epochs=NUM_EPOCHS,\n",
    "          validation_data=(validation_inputs,validation_targets),\n",
    "          validation_steps=1, # We only provide 1 batch of validation data\n",
    "          verbose=2) # Only print loss for each epoch\n",
    "\n",
    "# With a batch size of 100, each epoch has 540 updates (54,000 training samples)"
   ]
  },
  {
   "cell_type": "markdown",
   "metadata": {},
   "source": [
    " "
   ]
  },
  {
   "cell_type": "markdown",
   "metadata": {},
   "source": [
    "## Testing "
   ]
  },
  {
   "cell_type": "code",
   "execution_count": 12,
   "metadata": {},
   "outputs": [
    {
     "name": "stdout",
     "output_type": "stream",
     "text": [
      "      1/Unknown - 1s 623ms/step - loss: 0.0900 - accuracy: 0.9745"
     ]
    }
   ],
   "source": [
    "test_loss, test_accuracy = model.evaluate(test_data)"
   ]
  },
  {
   "cell_type": "code",
   "execution_count": 13,
   "metadata": {},
   "outputs": [
    {
     "name": "stdout",
     "output_type": "stream",
     "text": [
      "Test loss:  0.09. Test accuracy:  97.45%\n"
     ]
    }
   ],
   "source": [
    "print('Test loss: {0: .2f}. Test accuracy: {1: .2f}%'.format(test_loss, test_accuracy*100.))"
   ]
  },
  {
   "cell_type": "markdown",
   "metadata": {},
   "source": [
    " "
   ]
  },
  {
   "cell_type": "markdown",
   "metadata": {},
   "source": [
    "## Bonus!"
   ]
  },
  {
   "cell_type": "markdown",
   "metadata": {},
   "source": [
    "Save images into a list"
   ]
  },
  {
   "cell_type": "code",
   "execution_count": 14,
   "metadata": {},
   "outputs": [],
   "source": [
    "iterator = mnist_test.__iter__()\n",
    "images=[]\n",
    "for mnist_example in iterator: \n",
    "    images.append(mnist_example)"
   ]
  },
  {
   "cell_type": "markdown",
   "metadata": {},
   "source": [
    "Access a single image"
   ]
  },
  {
   "cell_type": "code",
   "execution_count": 19,
   "metadata": {},
   "outputs": [],
   "source": [
    "mnist_example = images[1] \n",
    "img, label = mnist_example[0], mnist_example[1]"
   ]
  },
  {
   "cell_type": "markdown",
   "metadata": {},
   "source": [
    "Plot!"
   ]
  },
  {
   "cell_type": "code",
   "execution_count": 20,
   "metadata": {},
   "outputs": [],
   "source": [
    "import matplotlib.pyplot as plt"
   ]
  },
  {
   "cell_type": "code",
   "execution_count": 21,
   "metadata": {},
   "outputs": [
    {
     "data": {
      "text/plain": [
       "<matplotlib.image.AxesImage at 0x145219438>"
      ]
     },
     "execution_count": 21,
     "metadata": {},
     "output_type": "execute_result"
    },
    {
     "data": {
      "image/png": "[encoded data removed]",
      "text/plain": [
       "<Figure size 432x288 with 1 Axes>"
      ]
     },
     "metadata": {
      "needs_background": "light"
     },
     "output_type": "display_data"
    }
   ],
   "source": [
    "plt.imshow(img.numpy()[:, :, 0].astype(np.float32), cmap=plt.get_cmap(\"gray\"))"
   ]
  },
  {
   "cell_type": "code",
   "execution_count": 22,
   "metadata": {},
   "outputs": [
    {
     "name": "stdout",
     "output_type": "stream",
     "text": [
      "actual class: 0\n",
      "predicted class: 0\n"
     ]
    }
   ],
   "source": [
    "img = tf.expand_dims(img, axis=0)      \n",
    "img = scale(img, label)\n",
    "pred = model.predict_classes(img)[0]\n",
    "print('actual class:', label.numpy())\n",
    "print('predicted class:', pred)"
   ]
  },
  {
   "cell_type": "code",
   "execution_count": null,
   "metadata": {},
   "outputs": [],
   "source": []
  }
 ],
 "metadata": {
  "kernelspec": {
   "display_name": "Python 3",
   "language": "python",
   "name": "python3"
  },
  "language_info": {
   "codemirror_mode": {
    "name": "ipython",
    "version": 3
   },
   "file_extension": ".py",
   "mimetype": "text/x-python",
   "name": "python",
   "nbconvert_exporter": "python",
   "pygments_lexer": "ipython3",
   "version": "3.7.1"
  }
 },
 "nbformat": 4,
 "nbformat_minor": 4
}
