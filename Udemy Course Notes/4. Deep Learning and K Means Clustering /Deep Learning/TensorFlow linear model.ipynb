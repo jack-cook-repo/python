{
 "cells": [
  {
   "cell_type": "code",
   "execution_count": 2,
   "metadata": {},
   "outputs": [],
   "source": [
    "import numpy as np\n",
    "import matplotlib.pyplot as plt\n",
    "import tensorflow as tf"
   ]
  },
  {
   "cell_type": "markdown",
   "metadata": {},
   "source": [
    "Remember the 4 steps:\n",
    "1. Data\n",
    "2. Model\n",
    "3. Objective function\n",
    "4. Optimisation algorithm"
   ]
  },
  {
   "cell_type": "markdown",
   "metadata": {},
   "source": [
    "## Data generation"
   ]
  },
  {
   "cell_type": "code",
   "execution_count": 41,
   "metadata": {},
   "outputs": [],
   "source": [
    "observations = 1000\n",
    "\n",
    "xs = np.random.uniform(low=-10, high=10, size=(observations,1))\n",
    "zs = np.random.uniform(low=-10, high=10, size=(observations,1))\n",
    "\n",
    "generated_inputs = np.column_stack((xs,zs))\n",
    "\n",
    "noise = np.random.uniform(low=-1, high=1, size=(observations,1))\n",
    "\n",
    "generated_targets = 2*xs - 3*zs + 5 + noise\n",
    "\n",
    "np.savez('TF_intro', inputs=generated_inputs, targets=generated_targets)"
   ]
  },
  {
   "cell_type": "markdown",
   "metadata": {},
   "source": [
    "## Solving with TensorFlow"
   ]
  },
  {
   "cell_type": "code",
   "execution_count": 52,
   "metadata": {},
   "outputs": [
    {
     "name": "stdout",
     "output_type": "stream",
     "text": [
      "Train on 1000 samples\n",
      "Epoch 1/100\n",
      "1000/1000 - 0s - loss: 20.1958\n",
      "Epoch 2/100\n",
      "1000/1000 - 0s - loss: 1.1256\n",
      "Epoch 3/100\n",
      "1000/1000 - 0s - loss: 0.4640\n",
      "Epoch 4/100\n",
      "1000/1000 - 0s - loss: 0.3968\n",
      "Epoch 5/100\n",
      "1000/1000 - 0s - loss: 0.4077\n",
      "Epoch 6/100\n",
      "1000/1000 - 0s - loss: 0.3615\n",
      "Epoch 7/100\n",
      "1000/1000 - 0s - loss: 0.3723\n",
      "Epoch 8/100\n",
      "1000/1000 - 0s - loss: 0.3578\n",
      "Epoch 9/100\n",
      "1000/1000 - 0s - loss: 0.3567\n",
      "Epoch 10/100\n",
      "1000/1000 - 0s - loss: 0.4048\n",
      "Epoch 11/100\n",
      "1000/1000 - 0s - loss: 0.3601\n",
      "Epoch 12/100\n",
      "1000/1000 - 0s - loss: 0.3649\n",
      "Epoch 13/100\n",
      "1000/1000 - 0s - loss: 0.3598\n",
      "Epoch 14/100\n",
      "1000/1000 - 0s - loss: 0.3821\n",
      "Epoch 15/100\n",
      "1000/1000 - 0s - loss: 0.3725\n",
      "Epoch 16/100\n",
      "1000/1000 - 0s - loss: 0.3733\n",
      "Epoch 17/100\n",
      "1000/1000 - 0s - loss: 0.3764\n",
      "Epoch 18/100\n",
      "1000/1000 - 0s - loss: 0.3473\n",
      "Epoch 19/100\n",
      "1000/1000 - 0s - loss: 0.3650\n",
      "Epoch 20/100\n",
      "1000/1000 - 0s - loss: 0.3845\n",
      "Epoch 21/100\n",
      "1000/1000 - 0s - loss: 0.3484\n",
      "Epoch 22/100\n",
      "1000/1000 - 0s - loss: 0.3706\n",
      "Epoch 23/100\n",
      "1000/1000 - 0s - loss: 0.4335\n",
      "Epoch 24/100\n",
      "1000/1000 - 0s - loss: 0.3715\n",
      "Epoch 25/100\n",
      "1000/1000 - 0s - loss: 0.3597\n",
      "Epoch 26/100\n",
      "1000/1000 - 0s - loss: 0.3956\n",
      "Epoch 27/100\n",
      "1000/1000 - 0s - loss: 0.3964\n",
      "Epoch 28/100\n",
      "1000/1000 - 0s - loss: 0.3981\n",
      "Epoch 29/100\n",
      "1000/1000 - 0s - loss: 0.3604\n",
      "Epoch 30/100\n",
      "1000/1000 - 0s - loss: 0.3724\n",
      "Epoch 31/100\n",
      "1000/1000 - 0s - loss: 0.3565\n",
      "Epoch 32/100\n",
      "1000/1000 - 0s - loss: 0.3844\n",
      "Epoch 33/100\n",
      "1000/1000 - 0s - loss: 0.3795\n",
      "Epoch 34/100\n",
      "1000/1000 - 0s - loss: 0.3743\n",
      "Epoch 35/100\n",
      "1000/1000 - 0s - loss: 0.3614\n",
      "Epoch 36/100\n",
      "1000/1000 - 0s - loss: 0.3751\n",
      "Epoch 37/100\n",
      "1000/1000 - 0s - loss: 0.3560\n",
      "Epoch 38/100\n",
      "1000/1000 - 0s - loss: 0.3846\n",
      "Epoch 39/100\n",
      "1000/1000 - 0s - loss: 0.3605\n",
      "Epoch 40/100\n",
      "1000/1000 - 0s - loss: 0.3788\n",
      "Epoch 41/100\n",
      "1000/1000 - 0s - loss: 0.3687\n",
      "Epoch 42/100\n",
      "1000/1000 - 0s - loss: 0.3716\n",
      "Epoch 43/100\n",
      "1000/1000 - 0s - loss: 0.3719\n",
      "Epoch 44/100\n",
      "1000/1000 - 0s - loss: 0.3885\n",
      "Epoch 45/100\n",
      "1000/1000 - 0s - loss: 0.3486\n",
      "Epoch 46/100\n",
      "1000/1000 - 0s - loss: 0.3597\n",
      "Epoch 47/100\n",
      "1000/1000 - 0s - loss: 0.3686\n",
      "Epoch 48/100\n",
      "1000/1000 - 0s - loss: 0.3881\n",
      "Epoch 49/100\n",
      "1000/1000 - 0s - loss: 0.3594\n",
      "Epoch 50/100\n",
      "1000/1000 - 0s - loss: 0.3715\n",
      "Epoch 51/100\n",
      "1000/1000 - 0s - loss: 0.3476\n",
      "Epoch 52/100\n",
      "1000/1000 - 0s - loss: 0.3833\n",
      "Epoch 53/100\n",
      "1000/1000 - 0s - loss: 0.3593\n",
      "Epoch 54/100\n",
      "1000/1000 - 0s - loss: 0.3835\n",
      "Epoch 55/100\n",
      "1000/1000 - 0s - loss: 0.3686\n",
      "Epoch 56/100\n",
      "1000/1000 - 0s - loss: 0.3734\n",
      "Epoch 57/100\n",
      "1000/1000 - 0s - loss: 0.3564\n",
      "Epoch 58/100\n",
      "1000/1000 - 0s - loss: 0.3591\n",
      "Epoch 59/100\n",
      "1000/1000 - 0s - loss: 0.3632\n",
      "Epoch 60/100\n",
      "1000/1000 - 0s - loss: 0.3645\n",
      "Epoch 61/100\n",
      "1000/1000 - 0s - loss: 0.3996\n",
      "Epoch 62/100\n",
      "1000/1000 - 0s - loss: 0.3627\n",
      "Epoch 63/100\n",
      "1000/1000 - 0s - loss: 0.3674\n",
      "Epoch 64/100\n",
      "1000/1000 - 0s - loss: 0.3559\n",
      "Epoch 65/100\n",
      "1000/1000 - 0s - loss: 0.3633\n",
      "Epoch 66/100\n",
      "1000/1000 - 0s - loss: 0.3944\n",
      "Epoch 67/100\n",
      "1000/1000 - 0s - loss: 0.3639\n",
      "Epoch 68/100\n",
      "1000/1000 - 0s - loss: 0.3670\n",
      "Epoch 69/100\n",
      "1000/1000 - 0s - loss: 0.4057\n",
      "Epoch 70/100\n",
      "1000/1000 - 0s - loss: 0.3883\n",
      "Epoch 71/100\n",
      "1000/1000 - 0s - loss: 0.3659\n",
      "Epoch 72/100\n",
      "1000/1000 - 0s - loss: 0.4082\n",
      "Epoch 73/100\n",
      "1000/1000 - 0s - loss: 0.3588\n",
      "Epoch 74/100\n",
      "1000/1000 - 0s - loss: 0.3701\n",
      "Epoch 75/100\n",
      "1000/1000 - 0s - loss: 0.4045\n",
      "Epoch 76/100\n",
      "1000/1000 - 0s - loss: 0.3755\n",
      "Epoch 77/100\n",
      "1000/1000 - 0s - loss: 0.3621\n",
      "Epoch 78/100\n",
      "1000/1000 - 0s - loss: 0.4014\n",
      "Epoch 79/100\n",
      "1000/1000 - 0s - loss: 0.3561\n",
      "Epoch 80/100\n",
      "1000/1000 - 0s - loss: 0.3388\n",
      "Epoch 81/100\n",
      "1000/1000 - 0s - loss: 0.3665\n",
      "Epoch 82/100\n",
      "1000/1000 - 0s - loss: 0.3765\n",
      "Epoch 83/100\n",
      "1000/1000 - 0s - loss: 0.3870\n",
      "Epoch 84/100\n",
      "1000/1000 - 0s - loss: 0.3618\n",
      "Epoch 85/100\n",
      "1000/1000 - 0s - loss: 0.3698\n",
      "Epoch 86/100\n",
      "1000/1000 - 0s - loss: 0.3649\n",
      "Epoch 87/100\n",
      "1000/1000 - 0s - loss: 0.3730\n",
      "Epoch 88/100\n",
      "1000/1000 - 0s - loss: 0.3744\n",
      "Epoch 89/100\n",
      "1000/1000 - 0s - loss: 0.3718\n",
      "Epoch 90/100\n",
      "1000/1000 - 0s - loss: 0.3798\n",
      "Epoch 91/100\n",
      "1000/1000 - 0s - loss: 0.3718\n",
      "Epoch 92/100\n",
      "1000/1000 - 0s - loss: 0.4077\n",
      "Epoch 93/100\n",
      "1000/1000 - 0s - loss: 0.3737\n",
      "Epoch 94/100\n",
      "1000/1000 - 0s - loss: 0.3734\n",
      "Epoch 95/100\n",
      "1000/1000 - 0s - loss: 0.3534\n",
      "Epoch 96/100\n",
      "1000/1000 - 0s - loss: 0.3838\n",
      "Epoch 97/100\n",
      "1000/1000 - 0s - loss: 0.3595\n",
      "Epoch 98/100\n",
      "1000/1000 - 0s - loss: 0.3559\n",
      "Epoch 99/100\n",
      "1000/1000 - 0s - loss: 0.3605\n",
      "Epoch 100/100\n",
      "1000/1000 - 0s - loss: 0.3789\n"
     ]
    },
    {
     "data": {
      "text/plain": [
       "<tensorflow.python.keras.callbacks.History at 0x14b620278>"
      ]
     },
     "execution_count": 52,
     "metadata": {},
     "output_type": "execute_result"
    }
   ],
   "source": [
    "training_data = np.load('TF_intro.npz')\n",
    "\n",
    "input_size = 2 # inputs x & z\n",
    "output_size = 1 # only 1 output y\n",
    "\n",
    "# TF2 is based on Keras\n",
    "# Sequential function specifies how the model will be laid down ('stacks layers')\n",
    "# Takes inputs, applies linear transformation, gives outputs\n",
    "# Linear combination + Output = \"layer\"\n",
    "model = tf.keras.Sequential([\n",
    "    # Dense calculates dot product of inputs + weights then adds bias\n",
    "    tf.keras.layers.Dense(\n",
    "        output_size,\n",
    "        \n",
    "        # Kernel initialiser sets initial weights\n",
    "        kernel_initializer=tf.random_uniform_initializer(minval=-0.1,maxval=0.1),\n",
    "    \n",
    "        # Bias initialiser sets initial bias\n",
    "        bias_initializer=tf.random_uniform_initializer(minval=-0.1,maxval=0.1)\n",
    "    )\n",
    "])\n",
    "\n",
    "custom_optimiser = tf.keras.optimizers.SGD(learning_rate=0.02)\n",
    "\n",
    "# compile() configures the model for training\n",
    "model.compile(optimizer=custom_optimiser, # Optimisation algorithm, we use Stochastic Gradient Descent\n",
    "             loss='mean_squared_error') # Objective function, this is the same as the previous example! L2 norm loss = Mean Squared Error\n",
    "\n",
    "# fit() then trains the model, epoch = an iteration over the whole dataset\n",
    "# Verbose = 0 makes it \"silent\", so it doesn't print progress bars\n",
    "# Verbose = 1 prints everything, Verbose = 2 only prints 1 line per epoch\n",
    "model.fit(training_data['inputs'], training_data['targets'], epochs=100, verbose=2)"
   ]
  },
  {
   "cell_type": "markdown",
   "metadata": {},
   "source": [
    "## Extract weights & bias"
   ]
  },
  {
   "cell_type": "code",
   "execution_count": 33,
   "metadata": {},
   "outputs": [
    {
     "data": {
      "text/plain": [
       "[array([[ 2.0630298],\n",
       "        [-3.035197 ]], dtype=float32),\n",
       " array([5.0121326], dtype=float32)]"
      ]
     },
     "execution_count": 33,
     "metadata": {},
     "output_type": "execute_result"
    }
   ],
   "source": [
    "# Only one layer, so index at zero\n",
    "model.layers[0].get_weights()"
   ]
  },
  {
   "cell_type": "markdown",
   "metadata": {},
   "source": [
    "## Extract outputs"
   ]
  },
  {
   "cell_type": "code",
   "execution_count": 34,
   "metadata": {},
   "outputs": [
    {
     "data": {
      "text/plain": [
       "array([[  0.3],\n",
       "       [ -7.5],\n",
       "       [-18.4],\n",
       "       [  5.3],\n",
       "       [ 23.7]], dtype=float32)"
      ]
     },
     "execution_count": 34,
     "metadata": {},
     "output_type": "execute_result"
    }
   ],
   "source": [
    "# predict_on_batch() calculates outputs given inputs\n",
    "predicted_vals = np.array(model.predict_on_batch(training_data['inputs'])).round(1)\n",
    "predicted_vals[:5]"
   ]
  },
  {
   "cell_type": "code",
   "execution_count": 35,
   "metadata": {},
   "outputs": [
    {
     "data": {
      "text/plain": [
       "array([[  1.3],\n",
       "       [ -7.1],\n",
       "       [-18.3],\n",
       "       [  5.2],\n",
       "       [ 23.8]])"
      ]
     },
     "execution_count": 35,
     "metadata": {},
     "output_type": "execute_result"
    }
   ],
   "source": [
    "# Manually compare to targets!\n",
    "target_vals = training_data['targets'].round(1)\n",
    "target_vals[:5]"
   ]
  },
  {
   "cell_type": "markdown",
   "metadata": {},
   "source": [
    "## Plot data"
   ]
  },
  {
   "cell_type": "markdown",
   "metadata": {},
   "source": [
    "We want a 45 degree angle!"
   ]
  },
  {
   "cell_type": "code",
   "execution_count": 37,
   "metadata": {},
   "outputs": [
    {
     "data": {
      "image/png": "[encoded data removed]",
      "text/plain": [
       "<Figure size 432x288 with 1 Axes>"
      ]
     },
     "metadata": {
      "needs_background": "light"
     },
     "output_type": "display_data"
    }
   ],
   "source": [
    "# np.squeeze removes array axes with a value of 1\n",
    "# eg. array of shape (1,3,1) becomes an array of shape (3,)\n",
    "plt.plot(np.squeeze(predicted_vals), np.squeeze(target_vals))\n",
    "plt.xlabel('predicted')\n",
    "plt.ylabel('targets')\n",
    "plt.show()"
   ]
  },
  {
   "cell_type": "code",
   "execution_count": null,
   "metadata": {},
   "outputs": [],
   "source": []
  }
 ],
 "metadata": {
  "kernelspec": {
   "display_name": "Python 3",
   "language": "python",
   "name": "python3"
  },
  "language_info": {
   "codemirror_mode": {
    "name": "ipython",
    "version": 3
   },
   "file_extension": ".py",
   "mimetype": "text/x-python",
   "name": "python",
   "nbconvert_exporter": "python",
   "pygments_lexer": "ipython3",
   "version": "3.7.1"
  }
 },
 "nbformat": 4,
 "nbformat_minor": 2
}
